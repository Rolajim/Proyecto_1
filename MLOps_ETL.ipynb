{
  "cells": [
    {
      "cell_type": "markdown",
      "source": [
        "# **MLOps_proyect**\n",
        "\n",
        "## Proceso ETL \n",
        "\n"
      ],
      "metadata": {
        "id": "Ky1IOZIjjEJc"
      }
    },
    {
      "cell_type": "markdown",
      "metadata": {
        "id": "hsp1sso4trdV"
      },
      "source": [
        "Carga de Librerias a utilizar"
      ]
    },
    {
      "cell_type": "code",
      "execution_count": null,
      "metadata": {
        "id": "XtVDIt1DtrdX"
      },
      "outputs": [],
      "source": [
        "import os\n",
        "import sys\n",
        "import pandas as pd\n",
        "import numpy as np\n",
        "import warnings\n",
        "import re\n",
        "import json\n",
        "import pyarrow\n",
        "\n",
        "\n",
        "\n",
        "\n",
        "\n",
        "\n",
        "\n",
        "\n",
        "\n",
        "\n",
        "\n"
      ]
    },
    {
      "cell_type": "code",
      "execution_count": null,
      "metadata": {
        "colab": {
          "base_uri": "https://localhost:8080/"
        },
        "id": "KVPX8kZgtrdY",
        "outputId": "4fde132e-69fe-4a99-935f-60480d2fbe7a"
      },
      "outputs": [
        {
          "output_type": "stream",
          "name": "stdout",
          "text": [
            "Drive already mounted at /content/drive; to attempt to forcibly remount, call drive.mount(\"/content/drive\", force_remount=True).\n"
          ]
        }
      ],
      "source": [
        "from google.colab import drive\n",
        "drive.mount('/content/drive')"
      ]
    },
    {
      "cell_type": "markdown",
      "metadata": {
        "id": "Xk7W6gBttrdY"
      },
      "source": [
        "Omitimos los mensajes de error"
      ]
    },
    {
      "cell_type": "code",
      "execution_count": null,
      "metadata": {
        "id": "pfEUjuQitrdZ"
      },
      "outputs": [],
      "source": [
        "warnings.filterwarnings(\"ignore\")"
      ]
    },
    {
      "cell_type": "markdown",
      "metadata": {
        "id": "jkNzGuEgtrdZ"
      },
      "source": [
        "Carga de Dataset de Servicios"
      ]
    },
    {
      "cell_type": "code",
      "execution_count": null,
      "metadata": {
        "id": "qIicXMVttrdZ"
      },
      "outputs": [],
      "source": [
        "dfa= pd.read_csv(r'/content/drive/My Drive/etl/amazon_prime_titles.csv')\n",
        "dfd= pd.read_csv(r'/content/drive/My Drive/etl/disney_plus_titles.csv')\n",
        "dfh= pd.read_csv(r'/content/drive/My Drive/etl/hulu_titles.csv')\n",
        "dfn= pd.read_csv(r'/content/drive/My Drive/etl/netflix_titles.csv')\n",
        "\n"
      ]
    },
    {
      "cell_type": "markdown",
      "metadata": {
        "id": "cZOHbbfVtrdZ"
      },
      "source": [
        "Generamos una visualización de  las primeras 5 lineas de cada Dataset para ver como vienen los datos"
      ]
    },
    {
      "cell_type": "code",
      "execution_count": null,
      "metadata": {
        "colab": {
          "base_uri": "https://localhost:8080/",
          "height": 337
        },
        "id": "e3cphvJdtrda",
        "outputId": "99af074d-89c1-48fc-bbf7-2cec54375837"
      },
      "outputs": [
        {
          "output_type": "execute_result",
          "data": {
            "text/plain": [
              "  show_id   type                 title        director  \\\n",
              "0      s1  Movie   The Grand Seduction    Don McKellar   \n",
              "1      s2  Movie  Take Care Good Night    Girish Joshi   \n",
              "2      s3  Movie  Secrets of Deception     Josh Webber   \n",
              "3      s4  Movie    Pink: Staying True  Sonia Anderson   \n",
              "4      s5  Movie         Monster Maker    Giles Foster   \n",
              "\n",
              "                                                cast         country  \\\n",
              "0     Brendan Gleeson, Taylor Kitsch, Gordon Pinsent          Canada   \n",
              "1   Mahesh Manjrekar, Abhay Mahajan, Sachin Khedekar           India   \n",
              "2  Tom Sizemore, Lorenzo Lamas, Robert LaSardo, R...   United States   \n",
              "3  Interviews with: Pink, Adele, Beyoncé, Britney...   United States   \n",
              "4  Harry Dean Stanton, Kieran O'Brien, George Cos...  United Kingdom   \n",
              "\n",
              "       date_added  release_year rating duration                listed_in  \\\n",
              "0  March 30, 2021          2014    NaN  113 min            Comedy, Drama   \n",
              "1  March 30, 2021          2018    13+  110 min     Drama, International   \n",
              "2  March 30, 2021          2017    NaN   74 min  Action, Drama, Suspense   \n",
              "3  March 30, 2021          2014    NaN   69 min              Documentary   \n",
              "4  March 30, 2021          1989    NaN   45 min           Drama, Fantasy   \n",
              "\n",
              "                                         description  \n",
              "0  A small fishing village must procure a local d...  \n",
              "1  A Metro Family decides to fight a Cyber Crimin...  \n",
              "2  After a man discovers his wife is cheating on ...  \n",
              "3  Pink breaks the mold once again, bringing her ...  \n",
              "4  Teenage Matt Banting wants to work with a famo...  "
            ],
            "text/html": [
              "\n",
              "  <div id=\"df-992c765a-662e-4dea-bda1-19393e7008db\">\n",
              "    <div class=\"colab-df-container\">\n",
              "      <div>\n",
              "<style scoped>\n",
              "    .dataframe tbody tr th:only-of-type {\n",
              "        vertical-align: middle;\n",
              "    }\n",
              "\n",
              "    .dataframe tbody tr th {\n",
              "        vertical-align: top;\n",
              "    }\n",
              "\n",
              "    .dataframe thead th {\n",
              "        text-align: right;\n",
              "    }\n",
              "</style>\n",
              "<table border=\"1\" class=\"dataframe\">\n",
              "  <thead>\n",
              "    <tr style=\"text-align: right;\">\n",
              "      <th></th>\n",
              "      <th>show_id</th>\n",
              "      <th>type</th>\n",
              "      <th>title</th>\n",
              "      <th>director</th>\n",
              "      <th>cast</th>\n",
              "      <th>country</th>\n",
              "      <th>date_added</th>\n",
              "      <th>release_year</th>\n",
              "      <th>rating</th>\n",
              "      <th>duration</th>\n",
              "      <th>listed_in</th>\n",
              "      <th>description</th>\n",
              "    </tr>\n",
              "  </thead>\n",
              "  <tbody>\n",
              "    <tr>\n",
              "      <th>0</th>\n",
              "      <td>s1</td>\n",
              "      <td>Movie</td>\n",
              "      <td>The Grand Seduction</td>\n",
              "      <td>Don McKellar</td>\n",
              "      <td>Brendan Gleeson, Taylor Kitsch, Gordon Pinsent</td>\n",
              "      <td>Canada</td>\n",
              "      <td>March 30, 2021</td>\n",
              "      <td>2014</td>\n",
              "      <td>NaN</td>\n",
              "      <td>113 min</td>\n",
              "      <td>Comedy, Drama</td>\n",
              "      <td>A small fishing village must procure a local d...</td>\n",
              "    </tr>\n",
              "    <tr>\n",
              "      <th>1</th>\n",
              "      <td>s2</td>\n",
              "      <td>Movie</td>\n",
              "      <td>Take Care Good Night</td>\n",
              "      <td>Girish Joshi</td>\n",
              "      <td>Mahesh Manjrekar, Abhay Mahajan, Sachin Khedekar</td>\n",
              "      <td>India</td>\n",
              "      <td>March 30, 2021</td>\n",
              "      <td>2018</td>\n",
              "      <td>13+</td>\n",
              "      <td>110 min</td>\n",
              "      <td>Drama, International</td>\n",
              "      <td>A Metro Family decides to fight a Cyber Crimin...</td>\n",
              "    </tr>\n",
              "    <tr>\n",
              "      <th>2</th>\n",
              "      <td>s3</td>\n",
              "      <td>Movie</td>\n",
              "      <td>Secrets of Deception</td>\n",
              "      <td>Josh Webber</td>\n",
              "      <td>Tom Sizemore, Lorenzo Lamas, Robert LaSardo, R...</td>\n",
              "      <td>United States</td>\n",
              "      <td>March 30, 2021</td>\n",
              "      <td>2017</td>\n",
              "      <td>NaN</td>\n",
              "      <td>74 min</td>\n",
              "      <td>Action, Drama, Suspense</td>\n",
              "      <td>After a man discovers his wife is cheating on ...</td>\n",
              "    </tr>\n",
              "    <tr>\n",
              "      <th>3</th>\n",
              "      <td>s4</td>\n",
              "      <td>Movie</td>\n",
              "      <td>Pink: Staying True</td>\n",
              "      <td>Sonia Anderson</td>\n",
              "      <td>Interviews with: Pink, Adele, Beyoncé, Britney...</td>\n",
              "      <td>United States</td>\n",
              "      <td>March 30, 2021</td>\n",
              "      <td>2014</td>\n",
              "      <td>NaN</td>\n",
              "      <td>69 min</td>\n",
              "      <td>Documentary</td>\n",
              "      <td>Pink breaks the mold once again, bringing her ...</td>\n",
              "    </tr>\n",
              "    <tr>\n",
              "      <th>4</th>\n",
              "      <td>s5</td>\n",
              "      <td>Movie</td>\n",
              "      <td>Monster Maker</td>\n",
              "      <td>Giles Foster</td>\n",
              "      <td>Harry Dean Stanton, Kieran O'Brien, George Cos...</td>\n",
              "      <td>United Kingdom</td>\n",
              "      <td>March 30, 2021</td>\n",
              "      <td>1989</td>\n",
              "      <td>NaN</td>\n",
              "      <td>45 min</td>\n",
              "      <td>Drama, Fantasy</td>\n",
              "      <td>Teenage Matt Banting wants to work with a famo...</td>\n",
              "    </tr>\n",
              "  </tbody>\n",
              "</table>\n",
              "</div>\n",
              "      <button class=\"colab-df-convert\" onclick=\"convertToInteractive('df-992c765a-662e-4dea-bda1-19393e7008db')\"\n",
              "              title=\"Convert this dataframe to an interactive table.\"\n",
              "              style=\"display:none;\">\n",
              "        \n",
              "  <svg xmlns=\"http://www.w3.org/2000/svg\" height=\"24px\"viewBox=\"0 0 24 24\"\n",
              "       width=\"24px\">\n",
              "    <path d=\"M0 0h24v24H0V0z\" fill=\"none\"/>\n",
              "    <path d=\"M18.56 5.44l.94 2.06.94-2.06 2.06-.94-2.06-.94-.94-2.06-.94 2.06-2.06.94zm-11 1L8.5 8.5l.94-2.06 2.06-.94-2.06-.94L8.5 2.5l-.94 2.06-2.06.94zm10 10l.94 2.06.94-2.06 2.06-.94-2.06-.94-.94-2.06-.94 2.06-2.06.94z\"/><path d=\"M17.41 7.96l-1.37-1.37c-.4-.4-.92-.59-1.43-.59-.52 0-1.04.2-1.43.59L10.3 9.45l-7.72 7.72c-.78.78-.78 2.05 0 2.83L4 21.41c.39.39.9.59 1.41.59.51 0 1.02-.2 1.41-.59l7.78-7.78 2.81-2.81c.8-.78.8-2.07 0-2.86zM5.41 20L4 18.59l7.72-7.72 1.47 1.35L5.41 20z\"/>\n",
              "  </svg>\n",
              "      </button>\n",
              "      \n",
              "  <style>\n",
              "    .colab-df-container {\n",
              "      display:flex;\n",
              "      flex-wrap:wrap;\n",
              "      gap: 12px;\n",
              "    }\n",
              "\n",
              "    .colab-df-convert {\n",
              "      background-color: #E8F0FE;\n",
              "      border: none;\n",
              "      border-radius: 50%;\n",
              "      cursor: pointer;\n",
              "      display: none;\n",
              "      fill: #1967D2;\n",
              "      height: 32px;\n",
              "      padding: 0 0 0 0;\n",
              "      width: 32px;\n",
              "    }\n",
              "\n",
              "    .colab-df-convert:hover {\n",
              "      background-color: #E2EBFA;\n",
              "      box-shadow: 0px 1px 2px rgba(60, 64, 67, 0.3), 0px 1px 3px 1px rgba(60, 64, 67, 0.15);\n",
              "      fill: #174EA6;\n",
              "    }\n",
              "\n",
              "    [theme=dark] .colab-df-convert {\n",
              "      background-color: #3B4455;\n",
              "      fill: #D2E3FC;\n",
              "    }\n",
              "\n",
              "    [theme=dark] .colab-df-convert:hover {\n",
              "      background-color: #434B5C;\n",
              "      box-shadow: 0px 1px 3px 1px rgba(0, 0, 0, 0.15);\n",
              "      filter: drop-shadow(0px 1px 2px rgba(0, 0, 0, 0.3));\n",
              "      fill: #FFFFFF;\n",
              "    }\n",
              "  </style>\n",
              "\n",
              "      <script>\n",
              "        const buttonEl =\n",
              "          document.querySelector('#df-992c765a-662e-4dea-bda1-19393e7008db button.colab-df-convert');\n",
              "        buttonEl.style.display =\n",
              "          google.colab.kernel.accessAllowed ? 'block' : 'none';\n",
              "\n",
              "        async function convertToInteractive(key) {\n",
              "          const element = document.querySelector('#df-992c765a-662e-4dea-bda1-19393e7008db');\n",
              "          const dataTable =\n",
              "            await google.colab.kernel.invokeFunction('convertToInteractive',\n",
              "                                                     [key], {});\n",
              "          if (!dataTable) return;\n",
              "\n",
              "          const docLinkHtml = 'Like what you see? Visit the ' +\n",
              "            '<a target=\"_blank\" href=https://colab.research.google.com/notebooks/data_table.ipynb>data table notebook</a>'\n",
              "            + ' to learn more about interactive tables.';\n",
              "          element.innerHTML = '';\n",
              "          dataTable['output_type'] = 'display_data';\n",
              "          await google.colab.output.renderOutput(dataTable, element);\n",
              "          const docLink = document.createElement('div');\n",
              "          docLink.innerHTML = docLinkHtml;\n",
              "          element.appendChild(docLink);\n",
              "        }\n",
              "      </script>\n",
              "    </div>\n",
              "  </div>\n",
              "  "
            ]
          },
          "metadata": {},
          "execution_count": 5
        }
      ],
      "source": [
        "dfa.head(5)"
      ]
    },
    {
      "cell_type": "code",
      "execution_count": null,
      "metadata": {
        "colab": {
          "base_uri": "https://localhost:8080/",
          "height": 372
        },
        "id": "vpkGhfXFtrda",
        "outputId": "5baad527-a692-41e2-9eaa-2896bcf6976e"
      },
      "outputs": [
        {
          "output_type": "execute_result",
          "data": {
            "text/plain": [
              "  show_id     type                                             title  \\\n",
              "0      s1    Movie  Duck the Halls: A Mickey Mouse Christmas Special   \n",
              "1      s2    Movie                            Ernest Saves Christmas   \n",
              "2      s3    Movie                      Ice Age: A Mammoth Christmas   \n",
              "3      s4    Movie                        The Queen Family Singalong   \n",
              "4      s5  TV Show                             The Beatles: Get Back   \n",
              "\n",
              "                            director  \\\n",
              "0  Alonso Ramirez Ramos, Dave Wasson   \n",
              "1                        John Cherry   \n",
              "2                       Karen Disher   \n",
              "3                    Hamish Hamilton   \n",
              "4                                NaN   \n",
              "\n",
              "                                                cast        country  \\\n",
              "0  Chris Diamantopoulos, Tony Anselmo, Tress MacN...            NaN   \n",
              "1           Jim Varney, Noelle Parker, Douglas Seale            NaN   \n",
              "2  Raymond Albert Romano, John Leguizamo, Denis L...  United States   \n",
              "3  Darren Criss, Adam Lambert, Derek Hough, Alexa...            NaN   \n",
              "4  John Lennon, Paul McCartney, George Harrison, ...            NaN   \n",
              "\n",
              "          date_added  release_year rating  duration  \\\n",
              "0  November 26, 2021          2016   TV-G    23 min   \n",
              "1  November 26, 2021          1988     PG    91 min   \n",
              "2  November 26, 2021          2011   TV-G    23 min   \n",
              "3  November 26, 2021          2021  TV-PG    41 min   \n",
              "4  November 25, 2021          2021    NaN  1 Season   \n",
              "\n",
              "                       listed_in  \\\n",
              "0              Animation, Family   \n",
              "1                         Comedy   \n",
              "2      Animation, Comedy, Family   \n",
              "3                        Musical   \n",
              "4  Docuseries, Historical, Music   \n",
              "\n",
              "                                         description  \n",
              "0   Join Mickey and the gang as they duck the halls!  \n",
              "1  Santa Claus passes his magic bag to a new St. ...  \n",
              "2          Sid the Sloth is on Santa's naughty list.  \n",
              "3               This is real life, not just fantasy!  \n",
              "4  A three-part documentary from Peter Jackson ca...  "
            ],
            "text/html": [
              "\n",
              "  <div id=\"df-288313a9-4e94-427f-8703-4dd3d445cb5c\">\n",
              "    <div class=\"colab-df-container\">\n",
              "      <div>\n",
              "<style scoped>\n",
              "    .dataframe tbody tr th:only-of-type {\n",
              "        vertical-align: middle;\n",
              "    }\n",
              "\n",
              "    .dataframe tbody tr th {\n",
              "        vertical-align: top;\n",
              "    }\n",
              "\n",
              "    .dataframe thead th {\n",
              "        text-align: right;\n",
              "    }\n",
              "</style>\n",
              "<table border=\"1\" class=\"dataframe\">\n",
              "  <thead>\n",
              "    <tr style=\"text-align: right;\">\n",
              "      <th></th>\n",
              "      <th>show_id</th>\n",
              "      <th>type</th>\n",
              "      <th>title</th>\n",
              "      <th>director</th>\n",
              "      <th>cast</th>\n",
              "      <th>country</th>\n",
              "      <th>date_added</th>\n",
              "      <th>release_year</th>\n",
              "      <th>rating</th>\n",
              "      <th>duration</th>\n",
              "      <th>listed_in</th>\n",
              "      <th>description</th>\n",
              "    </tr>\n",
              "  </thead>\n",
              "  <tbody>\n",
              "    <tr>\n",
              "      <th>0</th>\n",
              "      <td>s1</td>\n",
              "      <td>Movie</td>\n",
              "      <td>Duck the Halls: A Mickey Mouse Christmas Special</td>\n",
              "      <td>Alonso Ramirez Ramos, Dave Wasson</td>\n",
              "      <td>Chris Diamantopoulos, Tony Anselmo, Tress MacN...</td>\n",
              "      <td>NaN</td>\n",
              "      <td>November 26, 2021</td>\n",
              "      <td>2016</td>\n",
              "      <td>TV-G</td>\n",
              "      <td>23 min</td>\n",
              "      <td>Animation, Family</td>\n",
              "      <td>Join Mickey and the gang as they duck the halls!</td>\n",
              "    </tr>\n",
              "    <tr>\n",
              "      <th>1</th>\n",
              "      <td>s2</td>\n",
              "      <td>Movie</td>\n",
              "      <td>Ernest Saves Christmas</td>\n",
              "      <td>John Cherry</td>\n",
              "      <td>Jim Varney, Noelle Parker, Douglas Seale</td>\n",
              "      <td>NaN</td>\n",
              "      <td>November 26, 2021</td>\n",
              "      <td>1988</td>\n",
              "      <td>PG</td>\n",
              "      <td>91 min</td>\n",
              "      <td>Comedy</td>\n",
              "      <td>Santa Claus passes his magic bag to a new St. ...</td>\n",
              "    </tr>\n",
              "    <tr>\n",
              "      <th>2</th>\n",
              "      <td>s3</td>\n",
              "      <td>Movie</td>\n",
              "      <td>Ice Age: A Mammoth Christmas</td>\n",
              "      <td>Karen Disher</td>\n",
              "      <td>Raymond Albert Romano, John Leguizamo, Denis L...</td>\n",
              "      <td>United States</td>\n",
              "      <td>November 26, 2021</td>\n",
              "      <td>2011</td>\n",
              "      <td>TV-G</td>\n",
              "      <td>23 min</td>\n",
              "      <td>Animation, Comedy, Family</td>\n",
              "      <td>Sid the Sloth is on Santa's naughty list.</td>\n",
              "    </tr>\n",
              "    <tr>\n",
              "      <th>3</th>\n",
              "      <td>s4</td>\n",
              "      <td>Movie</td>\n",
              "      <td>The Queen Family Singalong</td>\n",
              "      <td>Hamish Hamilton</td>\n",
              "      <td>Darren Criss, Adam Lambert, Derek Hough, Alexa...</td>\n",
              "      <td>NaN</td>\n",
              "      <td>November 26, 2021</td>\n",
              "      <td>2021</td>\n",
              "      <td>TV-PG</td>\n",
              "      <td>41 min</td>\n",
              "      <td>Musical</td>\n",
              "      <td>This is real life, not just fantasy!</td>\n",
              "    </tr>\n",
              "    <tr>\n",
              "      <th>4</th>\n",
              "      <td>s5</td>\n",
              "      <td>TV Show</td>\n",
              "      <td>The Beatles: Get Back</td>\n",
              "      <td>NaN</td>\n",
              "      <td>John Lennon, Paul McCartney, George Harrison, ...</td>\n",
              "      <td>NaN</td>\n",
              "      <td>November 25, 2021</td>\n",
              "      <td>2021</td>\n",
              "      <td>NaN</td>\n",
              "      <td>1 Season</td>\n",
              "      <td>Docuseries, Historical, Music</td>\n",
              "      <td>A three-part documentary from Peter Jackson ca...</td>\n",
              "    </tr>\n",
              "  </tbody>\n",
              "</table>\n",
              "</div>\n",
              "      <button class=\"colab-df-convert\" onclick=\"convertToInteractive('df-288313a9-4e94-427f-8703-4dd3d445cb5c')\"\n",
              "              title=\"Convert this dataframe to an interactive table.\"\n",
              "              style=\"display:none;\">\n",
              "        \n",
              "  <svg xmlns=\"http://www.w3.org/2000/svg\" height=\"24px\"viewBox=\"0 0 24 24\"\n",
              "       width=\"24px\">\n",
              "    <path d=\"M0 0h24v24H0V0z\" fill=\"none\"/>\n",
              "    <path d=\"M18.56 5.44l.94 2.06.94-2.06 2.06-.94-2.06-.94-.94-2.06-.94 2.06-2.06.94zm-11 1L8.5 8.5l.94-2.06 2.06-.94-2.06-.94L8.5 2.5l-.94 2.06-2.06.94zm10 10l.94 2.06.94-2.06 2.06-.94-2.06-.94-.94-2.06-.94 2.06-2.06.94z\"/><path d=\"M17.41 7.96l-1.37-1.37c-.4-.4-.92-.59-1.43-.59-.52 0-1.04.2-1.43.59L10.3 9.45l-7.72 7.72c-.78.78-.78 2.05 0 2.83L4 21.41c.39.39.9.59 1.41.59.51 0 1.02-.2 1.41-.59l7.78-7.78 2.81-2.81c.8-.78.8-2.07 0-2.86zM5.41 20L4 18.59l7.72-7.72 1.47 1.35L5.41 20z\"/>\n",
              "  </svg>\n",
              "      </button>\n",
              "      \n",
              "  <style>\n",
              "    .colab-df-container {\n",
              "      display:flex;\n",
              "      flex-wrap:wrap;\n",
              "      gap: 12px;\n",
              "    }\n",
              "\n",
              "    .colab-df-convert {\n",
              "      background-color: #E8F0FE;\n",
              "      border: none;\n",
              "      border-radius: 50%;\n",
              "      cursor: pointer;\n",
              "      display: none;\n",
              "      fill: #1967D2;\n",
              "      height: 32px;\n",
              "      padding: 0 0 0 0;\n",
              "      width: 32px;\n",
              "    }\n",
              "\n",
              "    .colab-df-convert:hover {\n",
              "      background-color: #E2EBFA;\n",
              "      box-shadow: 0px 1px 2px rgba(60, 64, 67, 0.3), 0px 1px 3px 1px rgba(60, 64, 67, 0.15);\n",
              "      fill: #174EA6;\n",
              "    }\n",
              "\n",
              "    [theme=dark] .colab-df-convert {\n",
              "      background-color: #3B4455;\n",
              "      fill: #D2E3FC;\n",
              "    }\n",
              "\n",
              "    [theme=dark] .colab-df-convert:hover {\n",
              "      background-color: #434B5C;\n",
              "      box-shadow: 0px 1px 3px 1px rgba(0, 0, 0, 0.15);\n",
              "      filter: drop-shadow(0px 1px 2px rgba(0, 0, 0, 0.3));\n",
              "      fill: #FFFFFF;\n",
              "    }\n",
              "  </style>\n",
              "\n",
              "      <script>\n",
              "        const buttonEl =\n",
              "          document.querySelector('#df-288313a9-4e94-427f-8703-4dd3d445cb5c button.colab-df-convert');\n",
              "        buttonEl.style.display =\n",
              "          google.colab.kernel.accessAllowed ? 'block' : 'none';\n",
              "\n",
              "        async function convertToInteractive(key) {\n",
              "          const element = document.querySelector('#df-288313a9-4e94-427f-8703-4dd3d445cb5c');\n",
              "          const dataTable =\n",
              "            await google.colab.kernel.invokeFunction('convertToInteractive',\n",
              "                                                     [key], {});\n",
              "          if (!dataTable) return;\n",
              "\n",
              "          const docLinkHtml = 'Like what you see? Visit the ' +\n",
              "            '<a target=\"_blank\" href=https://colab.research.google.com/notebooks/data_table.ipynb>data table notebook</a>'\n",
              "            + ' to learn more about interactive tables.';\n",
              "          element.innerHTML = '';\n",
              "          dataTable['output_type'] = 'display_data';\n",
              "          await google.colab.output.renderOutput(dataTable, element);\n",
              "          const docLink = document.createElement('div');\n",
              "          docLink.innerHTML = docLinkHtml;\n",
              "          element.appendChild(docLink);\n",
              "        }\n",
              "      </script>\n",
              "    </div>\n",
              "  </div>\n",
              "  "
            ]
          },
          "metadata": {},
          "execution_count": 6
        }
      ],
      "source": [
        "dfd.head(5)"
      ]
    },
    {
      "cell_type": "code",
      "execution_count": null,
      "metadata": {
        "colab": {
          "base_uri": "https://localhost:8080/",
          "height": 250
        },
        "id": "mVWyzfpqtrdb",
        "outputId": "002d5744-9d09-4a23-c06c-40a7bfe07d9b"
      },
      "outputs": [
        {
          "output_type": "execute_result",
          "data": {
            "text/plain": [
              "  show_id   type                           title director  cast country  \\\n",
              "0      s1  Movie  Ricky Velez: Here's Everything      NaN   NaN     NaN   \n",
              "1      s2  Movie                    Silent Night      NaN   NaN     NaN   \n",
              "2      s3  Movie                    The Marksman      NaN   NaN     NaN   \n",
              "3      s4  Movie                            Gaia      NaN   NaN     NaN   \n",
              "4      s5  Movie                        Settlers      NaN   NaN     NaN   \n",
              "\n",
              "         date_added  release_year rating duration                  listed_in  \\\n",
              "0  October 24, 2021          2021  TV-MA      NaN           Comedy, Stand Up   \n",
              "1  October 23, 2021          2020    NaN   94 min     Crime, Drama, Thriller   \n",
              "2  October 23, 2021          2021  PG-13  108 min           Action, Thriller   \n",
              "3  October 22, 2021          2021      R   97 min                     Horror   \n",
              "4  October 22, 2021          2021    NaN  104 min  Science Fiction, Thriller   \n",
              "\n",
              "                                         description  \n",
              "0  ​Comedian Ricky Velez bares it all with his ho...  \n",
              "1  Mark, a low end South London hitman recently r...  \n",
              "2  A hardened Arizona rancher tries to protect an...  \n",
              "3  A forest ranger and two survivalists with a cu...  \n",
              "4  Mankind's earliest settlers on the Martian fro...  "
            ],
            "text/html": [
              "\n",
              "  <div id=\"df-94cbe6a3-8735-4cad-820d-a0a4106804e8\">\n",
              "    <div class=\"colab-df-container\">\n",
              "      <div>\n",
              "<style scoped>\n",
              "    .dataframe tbody tr th:only-of-type {\n",
              "        vertical-align: middle;\n",
              "    }\n",
              "\n",
              "    .dataframe tbody tr th {\n",
              "        vertical-align: top;\n",
              "    }\n",
              "\n",
              "    .dataframe thead th {\n",
              "        text-align: right;\n",
              "    }\n",
              "</style>\n",
              "<table border=\"1\" class=\"dataframe\">\n",
              "  <thead>\n",
              "    <tr style=\"text-align: right;\">\n",
              "      <th></th>\n",
              "      <th>show_id</th>\n",
              "      <th>type</th>\n",
              "      <th>title</th>\n",
              "      <th>director</th>\n",
              "      <th>cast</th>\n",
              "      <th>country</th>\n",
              "      <th>date_added</th>\n",
              "      <th>release_year</th>\n",
              "      <th>rating</th>\n",
              "      <th>duration</th>\n",
              "      <th>listed_in</th>\n",
              "      <th>description</th>\n",
              "    </tr>\n",
              "  </thead>\n",
              "  <tbody>\n",
              "    <tr>\n",
              "      <th>0</th>\n",
              "      <td>s1</td>\n",
              "      <td>Movie</td>\n",
              "      <td>Ricky Velez: Here's Everything</td>\n",
              "      <td>NaN</td>\n",
              "      <td>NaN</td>\n",
              "      <td>NaN</td>\n",
              "      <td>October 24, 2021</td>\n",
              "      <td>2021</td>\n",
              "      <td>TV-MA</td>\n",
              "      <td>NaN</td>\n",
              "      <td>Comedy, Stand Up</td>\n",
              "      <td>​Comedian Ricky Velez bares it all with his ho...</td>\n",
              "    </tr>\n",
              "    <tr>\n",
              "      <th>1</th>\n",
              "      <td>s2</td>\n",
              "      <td>Movie</td>\n",
              "      <td>Silent Night</td>\n",
              "      <td>NaN</td>\n",
              "      <td>NaN</td>\n",
              "      <td>NaN</td>\n",
              "      <td>October 23, 2021</td>\n",
              "      <td>2020</td>\n",
              "      <td>NaN</td>\n",
              "      <td>94 min</td>\n",
              "      <td>Crime, Drama, Thriller</td>\n",
              "      <td>Mark, a low end South London hitman recently r...</td>\n",
              "    </tr>\n",
              "    <tr>\n",
              "      <th>2</th>\n",
              "      <td>s3</td>\n",
              "      <td>Movie</td>\n",
              "      <td>The Marksman</td>\n",
              "      <td>NaN</td>\n",
              "      <td>NaN</td>\n",
              "      <td>NaN</td>\n",
              "      <td>October 23, 2021</td>\n",
              "      <td>2021</td>\n",
              "      <td>PG-13</td>\n",
              "      <td>108 min</td>\n",
              "      <td>Action, Thriller</td>\n",
              "      <td>A hardened Arizona rancher tries to protect an...</td>\n",
              "    </tr>\n",
              "    <tr>\n",
              "      <th>3</th>\n",
              "      <td>s4</td>\n",
              "      <td>Movie</td>\n",
              "      <td>Gaia</td>\n",
              "      <td>NaN</td>\n",
              "      <td>NaN</td>\n",
              "      <td>NaN</td>\n",
              "      <td>October 22, 2021</td>\n",
              "      <td>2021</td>\n",
              "      <td>R</td>\n",
              "      <td>97 min</td>\n",
              "      <td>Horror</td>\n",
              "      <td>A forest ranger and two survivalists with a cu...</td>\n",
              "    </tr>\n",
              "    <tr>\n",
              "      <th>4</th>\n",
              "      <td>s5</td>\n",
              "      <td>Movie</td>\n",
              "      <td>Settlers</td>\n",
              "      <td>NaN</td>\n",
              "      <td>NaN</td>\n",
              "      <td>NaN</td>\n",
              "      <td>October 22, 2021</td>\n",
              "      <td>2021</td>\n",
              "      <td>NaN</td>\n",
              "      <td>104 min</td>\n",
              "      <td>Science Fiction, Thriller</td>\n",
              "      <td>Mankind's earliest settlers on the Martian fro...</td>\n",
              "    </tr>\n",
              "  </tbody>\n",
              "</table>\n",
              "</div>\n",
              "      <button class=\"colab-df-convert\" onclick=\"convertToInteractive('df-94cbe6a3-8735-4cad-820d-a0a4106804e8')\"\n",
              "              title=\"Convert this dataframe to an interactive table.\"\n",
              "              style=\"display:none;\">\n",
              "        \n",
              "  <svg xmlns=\"http://www.w3.org/2000/svg\" height=\"24px\"viewBox=\"0 0 24 24\"\n",
              "       width=\"24px\">\n",
              "    <path d=\"M0 0h24v24H0V0z\" fill=\"none\"/>\n",
              "    <path d=\"M18.56 5.44l.94 2.06.94-2.06 2.06-.94-2.06-.94-.94-2.06-.94 2.06-2.06.94zm-11 1L8.5 8.5l.94-2.06 2.06-.94-2.06-.94L8.5 2.5l-.94 2.06-2.06.94zm10 10l.94 2.06.94-2.06 2.06-.94-2.06-.94-.94-2.06-.94 2.06-2.06.94z\"/><path d=\"M17.41 7.96l-1.37-1.37c-.4-.4-.92-.59-1.43-.59-.52 0-1.04.2-1.43.59L10.3 9.45l-7.72 7.72c-.78.78-.78 2.05 0 2.83L4 21.41c.39.39.9.59 1.41.59.51 0 1.02-.2 1.41-.59l7.78-7.78 2.81-2.81c.8-.78.8-2.07 0-2.86zM5.41 20L4 18.59l7.72-7.72 1.47 1.35L5.41 20z\"/>\n",
              "  </svg>\n",
              "      </button>\n",
              "      \n",
              "  <style>\n",
              "    .colab-df-container {\n",
              "      display:flex;\n",
              "      flex-wrap:wrap;\n",
              "      gap: 12px;\n",
              "    }\n",
              "\n",
              "    .colab-df-convert {\n",
              "      background-color: #E8F0FE;\n",
              "      border: none;\n",
              "      border-radius: 50%;\n",
              "      cursor: pointer;\n",
              "      display: none;\n",
              "      fill: #1967D2;\n",
              "      height: 32px;\n",
              "      padding: 0 0 0 0;\n",
              "      width: 32px;\n",
              "    }\n",
              "\n",
              "    .colab-df-convert:hover {\n",
              "      background-color: #E2EBFA;\n",
              "      box-shadow: 0px 1px 2px rgba(60, 64, 67, 0.3), 0px 1px 3px 1px rgba(60, 64, 67, 0.15);\n",
              "      fill: #174EA6;\n",
              "    }\n",
              "\n",
              "    [theme=dark] .colab-df-convert {\n",
              "      background-color: #3B4455;\n",
              "      fill: #D2E3FC;\n",
              "    }\n",
              "\n",
              "    [theme=dark] .colab-df-convert:hover {\n",
              "      background-color: #434B5C;\n",
              "      box-shadow: 0px 1px 3px 1px rgba(0, 0, 0, 0.15);\n",
              "      filter: drop-shadow(0px 1px 2px rgba(0, 0, 0, 0.3));\n",
              "      fill: #FFFFFF;\n",
              "    }\n",
              "  </style>\n",
              "\n",
              "      <script>\n",
              "        const buttonEl =\n",
              "          document.querySelector('#df-94cbe6a3-8735-4cad-820d-a0a4106804e8 button.colab-df-convert');\n",
              "        buttonEl.style.display =\n",
              "          google.colab.kernel.accessAllowed ? 'block' : 'none';\n",
              "\n",
              "        async function convertToInteractive(key) {\n",
              "          const element = document.querySelector('#df-94cbe6a3-8735-4cad-820d-a0a4106804e8');\n",
              "          const dataTable =\n",
              "            await google.colab.kernel.invokeFunction('convertToInteractive',\n",
              "                                                     [key], {});\n",
              "          if (!dataTable) return;\n",
              "\n",
              "          const docLinkHtml = 'Like what you see? Visit the ' +\n",
              "            '<a target=\"_blank\" href=https://colab.research.google.com/notebooks/data_table.ipynb>data table notebook</a>'\n",
              "            + ' to learn more about interactive tables.';\n",
              "          element.innerHTML = '';\n",
              "          dataTable['output_type'] = 'display_data';\n",
              "          await google.colab.output.renderOutput(dataTable, element);\n",
              "          const docLink = document.createElement('div');\n",
              "          docLink.innerHTML = docLinkHtml;\n",
              "          element.appendChild(docLink);\n",
              "        }\n",
              "      </script>\n",
              "    </div>\n",
              "  </div>\n",
              "  "
            ]
          },
          "metadata": {},
          "execution_count": 7
        }
      ],
      "source": [
        "dfh.head(5)"
      ]
    },
    {
      "cell_type": "code",
      "execution_count": null,
      "metadata": {
        "colab": {
          "base_uri": "https://localhost:8080/",
          "height": 337
        },
        "id": "_CykO_W0trdb",
        "outputId": "83294b5d-35c8-4c1f-9059-7426c3bd2ee3"
      },
      "outputs": [
        {
          "output_type": "execute_result",
          "data": {
            "text/plain": [
              "  show_id     type                  title         director  \\\n",
              "0      s1    Movie   Dick Johnson Is Dead  Kirsten Johnson   \n",
              "1      s2  TV Show          Blood & Water              NaN   \n",
              "2      s3  TV Show              Ganglands  Julien Leclercq   \n",
              "3      s4  TV Show  Jailbirds New Orleans              NaN   \n",
              "4      s5  TV Show           Kota Factory              NaN   \n",
              "\n",
              "                                                cast        country  \\\n",
              "0                                                NaN  United States   \n",
              "1  Ama Qamata, Khosi Ngema, Gail Mabalane, Thaban...   South Africa   \n",
              "2  Sami Bouajila, Tracy Gotoas, Samuel Jouy, Nabi...            NaN   \n",
              "3                                                NaN            NaN   \n",
              "4  Mayur More, Jitendra Kumar, Ranjan Raj, Alam K...          India   \n",
              "\n",
              "           date_added  release_year rating   duration  \\\n",
              "0  September 25, 2021          2020  PG-13     90 min   \n",
              "1  September 24, 2021          2021  TV-MA  2 Seasons   \n",
              "2  September 24, 2021          2021  TV-MA   1 Season   \n",
              "3  September 24, 2021          2021  TV-MA   1 Season   \n",
              "4  September 24, 2021          2021  TV-MA  2 Seasons   \n",
              "\n",
              "                                           listed_in  \\\n",
              "0                                      Documentaries   \n",
              "1    International TV Shows, TV Dramas, TV Mysteries   \n",
              "2  Crime TV Shows, International TV Shows, TV Act...   \n",
              "3                             Docuseries, Reality TV   \n",
              "4  International TV Shows, Romantic TV Shows, TV ...   \n",
              "\n",
              "                                         description  \n",
              "0  As her father nears the end of his life, filmm...  \n",
              "1  After crossing paths at a party, a Cape Town t...  \n",
              "2  To protect his family from a powerful drug lor...  \n",
              "3  Feuds, flirtations and toilet talk go down amo...  \n",
              "4  In a city of coaching centers known to train I...  "
            ],
            "text/html": [
              "\n",
              "  <div id=\"df-5de0b5a0-31d5-4fd4-bb34-3d0811853306\">\n",
              "    <div class=\"colab-df-container\">\n",
              "      <div>\n",
              "<style scoped>\n",
              "    .dataframe tbody tr th:only-of-type {\n",
              "        vertical-align: middle;\n",
              "    }\n",
              "\n",
              "    .dataframe tbody tr th {\n",
              "        vertical-align: top;\n",
              "    }\n",
              "\n",
              "    .dataframe thead th {\n",
              "        text-align: right;\n",
              "    }\n",
              "</style>\n",
              "<table border=\"1\" class=\"dataframe\">\n",
              "  <thead>\n",
              "    <tr style=\"text-align: right;\">\n",
              "      <th></th>\n",
              "      <th>show_id</th>\n",
              "      <th>type</th>\n",
              "      <th>title</th>\n",
              "      <th>director</th>\n",
              "      <th>cast</th>\n",
              "      <th>country</th>\n",
              "      <th>date_added</th>\n",
              "      <th>release_year</th>\n",
              "      <th>rating</th>\n",
              "      <th>duration</th>\n",
              "      <th>listed_in</th>\n",
              "      <th>description</th>\n",
              "    </tr>\n",
              "  </thead>\n",
              "  <tbody>\n",
              "    <tr>\n",
              "      <th>0</th>\n",
              "      <td>s1</td>\n",
              "      <td>Movie</td>\n",
              "      <td>Dick Johnson Is Dead</td>\n",
              "      <td>Kirsten Johnson</td>\n",
              "      <td>NaN</td>\n",
              "      <td>United States</td>\n",
              "      <td>September 25, 2021</td>\n",
              "      <td>2020</td>\n",
              "      <td>PG-13</td>\n",
              "      <td>90 min</td>\n",
              "      <td>Documentaries</td>\n",
              "      <td>As her father nears the end of his life, filmm...</td>\n",
              "    </tr>\n",
              "    <tr>\n",
              "      <th>1</th>\n",
              "      <td>s2</td>\n",
              "      <td>TV Show</td>\n",
              "      <td>Blood &amp; Water</td>\n",
              "      <td>NaN</td>\n",
              "      <td>Ama Qamata, Khosi Ngema, Gail Mabalane, Thaban...</td>\n",
              "      <td>South Africa</td>\n",
              "      <td>September 24, 2021</td>\n",
              "      <td>2021</td>\n",
              "      <td>TV-MA</td>\n",
              "      <td>2 Seasons</td>\n",
              "      <td>International TV Shows, TV Dramas, TV Mysteries</td>\n",
              "      <td>After crossing paths at a party, a Cape Town t...</td>\n",
              "    </tr>\n",
              "    <tr>\n",
              "      <th>2</th>\n",
              "      <td>s3</td>\n",
              "      <td>TV Show</td>\n",
              "      <td>Ganglands</td>\n",
              "      <td>Julien Leclercq</td>\n",
              "      <td>Sami Bouajila, Tracy Gotoas, Samuel Jouy, Nabi...</td>\n",
              "      <td>NaN</td>\n",
              "      <td>September 24, 2021</td>\n",
              "      <td>2021</td>\n",
              "      <td>TV-MA</td>\n",
              "      <td>1 Season</td>\n",
              "      <td>Crime TV Shows, International TV Shows, TV Act...</td>\n",
              "      <td>To protect his family from a powerful drug lor...</td>\n",
              "    </tr>\n",
              "    <tr>\n",
              "      <th>3</th>\n",
              "      <td>s4</td>\n",
              "      <td>TV Show</td>\n",
              "      <td>Jailbirds New Orleans</td>\n",
              "      <td>NaN</td>\n",
              "      <td>NaN</td>\n",
              "      <td>NaN</td>\n",
              "      <td>September 24, 2021</td>\n",
              "      <td>2021</td>\n",
              "      <td>TV-MA</td>\n",
              "      <td>1 Season</td>\n",
              "      <td>Docuseries, Reality TV</td>\n",
              "      <td>Feuds, flirtations and toilet talk go down amo...</td>\n",
              "    </tr>\n",
              "    <tr>\n",
              "      <th>4</th>\n",
              "      <td>s5</td>\n",
              "      <td>TV Show</td>\n",
              "      <td>Kota Factory</td>\n",
              "      <td>NaN</td>\n",
              "      <td>Mayur More, Jitendra Kumar, Ranjan Raj, Alam K...</td>\n",
              "      <td>India</td>\n",
              "      <td>September 24, 2021</td>\n",
              "      <td>2021</td>\n",
              "      <td>TV-MA</td>\n",
              "      <td>2 Seasons</td>\n",
              "      <td>International TV Shows, Romantic TV Shows, TV ...</td>\n",
              "      <td>In a city of coaching centers known to train I...</td>\n",
              "    </tr>\n",
              "  </tbody>\n",
              "</table>\n",
              "</div>\n",
              "      <button class=\"colab-df-convert\" onclick=\"convertToInteractive('df-5de0b5a0-31d5-4fd4-bb34-3d0811853306')\"\n",
              "              title=\"Convert this dataframe to an interactive table.\"\n",
              "              style=\"display:none;\">\n",
              "        \n",
              "  <svg xmlns=\"http://www.w3.org/2000/svg\" height=\"24px\"viewBox=\"0 0 24 24\"\n",
              "       width=\"24px\">\n",
              "    <path d=\"M0 0h24v24H0V0z\" fill=\"none\"/>\n",
              "    <path d=\"M18.56 5.44l.94 2.06.94-2.06 2.06-.94-2.06-.94-.94-2.06-.94 2.06-2.06.94zm-11 1L8.5 8.5l.94-2.06 2.06-.94-2.06-.94L8.5 2.5l-.94 2.06-2.06.94zm10 10l.94 2.06.94-2.06 2.06-.94-2.06-.94-.94-2.06-.94 2.06-2.06.94z\"/><path d=\"M17.41 7.96l-1.37-1.37c-.4-.4-.92-.59-1.43-.59-.52 0-1.04.2-1.43.59L10.3 9.45l-7.72 7.72c-.78.78-.78 2.05 0 2.83L4 21.41c.39.39.9.59 1.41.59.51 0 1.02-.2 1.41-.59l7.78-7.78 2.81-2.81c.8-.78.8-2.07 0-2.86zM5.41 20L4 18.59l7.72-7.72 1.47 1.35L5.41 20z\"/>\n",
              "  </svg>\n",
              "      </button>\n",
              "      \n",
              "  <style>\n",
              "    .colab-df-container {\n",
              "      display:flex;\n",
              "      flex-wrap:wrap;\n",
              "      gap: 12px;\n",
              "    }\n",
              "\n",
              "    .colab-df-convert {\n",
              "      background-color: #E8F0FE;\n",
              "      border: none;\n",
              "      border-radius: 50%;\n",
              "      cursor: pointer;\n",
              "      display: none;\n",
              "      fill: #1967D2;\n",
              "      height: 32px;\n",
              "      padding: 0 0 0 0;\n",
              "      width: 32px;\n",
              "    }\n",
              "\n",
              "    .colab-df-convert:hover {\n",
              "      background-color: #E2EBFA;\n",
              "      box-shadow: 0px 1px 2px rgba(60, 64, 67, 0.3), 0px 1px 3px 1px rgba(60, 64, 67, 0.15);\n",
              "      fill: #174EA6;\n",
              "    }\n",
              "\n",
              "    [theme=dark] .colab-df-convert {\n",
              "      background-color: #3B4455;\n",
              "      fill: #D2E3FC;\n",
              "    }\n",
              "\n",
              "    [theme=dark] .colab-df-convert:hover {\n",
              "      background-color: #434B5C;\n",
              "      box-shadow: 0px 1px 3px 1px rgba(0, 0, 0, 0.15);\n",
              "      filter: drop-shadow(0px 1px 2px rgba(0, 0, 0, 0.3));\n",
              "      fill: #FFFFFF;\n",
              "    }\n",
              "  </style>\n",
              "\n",
              "      <script>\n",
              "        const buttonEl =\n",
              "          document.querySelector('#df-5de0b5a0-31d5-4fd4-bb34-3d0811853306 button.colab-df-convert');\n",
              "        buttonEl.style.display =\n",
              "          google.colab.kernel.accessAllowed ? 'block' : 'none';\n",
              "\n",
              "        async function convertToInteractive(key) {\n",
              "          const element = document.querySelector('#df-5de0b5a0-31d5-4fd4-bb34-3d0811853306');\n",
              "          const dataTable =\n",
              "            await google.colab.kernel.invokeFunction('convertToInteractive',\n",
              "                                                     [key], {});\n",
              "          if (!dataTable) return;\n",
              "\n",
              "          const docLinkHtml = 'Like what you see? Visit the ' +\n",
              "            '<a target=\"_blank\" href=https://colab.research.google.com/notebooks/data_table.ipynb>data table notebook</a>'\n",
              "            + ' to learn more about interactive tables.';\n",
              "          element.innerHTML = '';\n",
              "          dataTable['output_type'] = 'display_data';\n",
              "          await google.colab.output.renderOutput(dataTable, element);\n",
              "          const docLink = document.createElement('div');\n",
              "          docLink.innerHTML = docLinkHtml;\n",
              "          element.appendChild(docLink);\n",
              "        }\n",
              "      </script>\n",
              "    </div>\n",
              "  </div>\n",
              "  "
            ]
          },
          "metadata": {},
          "execution_count": 8
        }
      ],
      "source": [
        "dfn.head(5)"
      ]
    },
    {
      "cell_type": "markdown",
      "metadata": {
        "id": "IDTdjbB_trdc"
      },
      "source": [
        "Revisamos la forma de cada dataset"
      ]
    },
    {
      "cell_type": "code",
      "execution_count": null,
      "metadata": {
        "colab": {
          "base_uri": "https://localhost:8080/"
        },
        "id": "mbGrKgGctrdc",
        "outputId": "d3a22010-ea10-4ba9-c15d-1683243ead18"
      },
      "outputs": [
        {
          "output_type": "stream",
          "name": "stdout",
          "text": [
            "(9668, 12)\n",
            "(1450, 12)\n",
            "(3073, 12)\n",
            "(8807, 12)\n"
          ]
        }
      ],
      "source": [
        "print(dfa.shape)\n",
        "print(dfd.shape)\n",
        "print(dfh.shape)\n",
        "print(dfn.shape)"
      ]
    },
    {
      "cell_type": "markdown",
      "metadata": {
        "id": "KoU9uJ4otrdd"
      },
      "source": [
        "Los dataset proporcionados tiene la misma cantidad de columnas en el mismo orden.\n",
        "Se procede a aplicar el primer cambio solicitado a cada dataset."
      ]
    },
    {
      "cell_type": "markdown",
      "metadata": {
        "id": "UBnqCx9ktrdd"
      },
      "source": [
        "A continuación se agrega la columna 'id' que sera la suma de la primer letra del nombre de  cada Dataset + la columna 'show_id'"
      ]
    },
    {
      "cell_type": "code",
      "execution_count": null,
      "metadata": {
        "id": "pwW0DiL7trdd"
      },
      "outputs": [],
      "source": [
        "dfa.insert(0, 'id', 'a' + dfa['show_id'])\n",
        "dfd.insert(0, 'id', 'd' + dfd['show_id'])\n",
        "dfh.insert(0, 'id', 'h' + dfh['show_id'])\n",
        "dfn.insert(0, 'id', 'n' + dfn['show_id'])"
      ]
    },
    {
      "cell_type": "markdown",
      "metadata": {
        "id": "cFmJMAQ-trdd"
      },
      "source": [
        "Revisamos tipo de datos de la columna 'id'"
      ]
    },
    {
      "cell_type": "code",
      "execution_count": null,
      "metadata": {
        "colab": {
          "base_uri": "https://localhost:8080/"
        },
        "id": "ktOmZJJAtrde",
        "outputId": "e98cbee1-9826-414c-f1d6-20aa07ba1af2"
      },
      "outputs": [
        {
          "output_type": "stream",
          "name": "stdout",
          "text": [
            "object\n"
          ]
        }
      ],
      "source": [
        "print(dfa['id'].dtype)"
      ]
    },
    {
      "cell_type": "markdown",
      "metadata": {
        "id": "Itz2jb0gtrde"
      },
      "source": [
        "Agregaremos una columnada a todos los dataset que se llamara 'Platform' para que contenga el nombre de la platadorma"
      ]
    },
    {
      "cell_type": "code",
      "execution_count": null,
      "metadata": {
        "id": "1I9mWXj2trde"
      },
      "outputs": [],
      "source": [
        "dfa['platform'] = 'amazon'\n",
        "dfd['platform'] = 'disney'\n",
        "dfh['platform'] = 'hulu'\n",
        "dfn['platform'] = 'netflix'"
      ]
    },
    {
      "cell_type": "markdown",
      "metadata": {
        "id": "htKHFJ81trde"
      },
      "source": [
        "Movemos la columna 'platform' creada a continuación de la columna 'show_id' para todos los dataset"
      ]
    },
    {
      "cell_type": "code",
      "execution_count": null,
      "metadata": {
        "id": "yDmjy48-trde"
      },
      "outputs": [],
      "source": [
        "dfa.insert(2,'platform', dfa.pop('platform'))\n",
        "dfd.insert(2,'platform', dfd.pop('platform'))\n",
        "dfh.insert(2,'platform', dfh.pop('platform'))\n",
        "dfn.insert(2,'platform', dfn.pop('platform'))"
      ]
    },
    {
      "cell_type": "code",
      "execution_count": null,
      "metadata": {
        "colab": {
          "base_uri": "https://localhost:8080/",
          "height": 337
        },
        "id": "A4slWEEXtrdf",
        "outputId": "a9a8c3c5-bbe3-4d7a-a073-2414646a1892"
      },
      "outputs": [
        {
          "output_type": "execute_result",
          "data": {
            "text/plain": [
              "    id show_id platform   type                           title director  cast  \\\n",
              "0  hs1      s1     hulu  Movie  Ricky Velez: Here's Everything      NaN   NaN   \n",
              "1  hs2      s2     hulu  Movie                    Silent Night      NaN   NaN   \n",
              "2  hs3      s3     hulu  Movie                    The Marksman      NaN   NaN   \n",
              "3  hs4      s4     hulu  Movie                            Gaia      NaN   NaN   \n",
              "4  hs5      s5     hulu  Movie                        Settlers      NaN   NaN   \n",
              "\n",
              "  country        date_added  release_year rating duration  \\\n",
              "0     NaN  October 24, 2021          2021  TV-MA      NaN   \n",
              "1     NaN  October 23, 2021          2020    NaN   94 min   \n",
              "2     NaN  October 23, 2021          2021  PG-13  108 min   \n",
              "3     NaN  October 22, 2021          2021      R   97 min   \n",
              "4     NaN  October 22, 2021          2021    NaN  104 min   \n",
              "\n",
              "                   listed_in  \\\n",
              "0           Comedy, Stand Up   \n",
              "1     Crime, Drama, Thriller   \n",
              "2           Action, Thriller   \n",
              "3                     Horror   \n",
              "4  Science Fiction, Thriller   \n",
              "\n",
              "                                         description  \n",
              "0  ​Comedian Ricky Velez bares it all with his ho...  \n",
              "1  Mark, a low end South London hitman recently r...  \n",
              "2  A hardened Arizona rancher tries to protect an...  \n",
              "3  A forest ranger and two survivalists with a cu...  \n",
              "4  Mankind's earliest settlers on the Martian fro...  "
            ],
            "text/html": [
              "\n",
              "  <div id=\"df-6e9eb7fe-ddaf-44cb-a21a-aeb87bc2be84\">\n",
              "    <div class=\"colab-df-container\">\n",
              "      <div>\n",
              "<style scoped>\n",
              "    .dataframe tbody tr th:only-of-type {\n",
              "        vertical-align: middle;\n",
              "    }\n",
              "\n",
              "    .dataframe tbody tr th {\n",
              "        vertical-align: top;\n",
              "    }\n",
              "\n",
              "    .dataframe thead th {\n",
              "        text-align: right;\n",
              "    }\n",
              "</style>\n",
              "<table border=\"1\" class=\"dataframe\">\n",
              "  <thead>\n",
              "    <tr style=\"text-align: right;\">\n",
              "      <th></th>\n",
              "      <th>id</th>\n",
              "      <th>show_id</th>\n",
              "      <th>platform</th>\n",
              "      <th>type</th>\n",
              "      <th>title</th>\n",
              "      <th>director</th>\n",
              "      <th>cast</th>\n",
              "      <th>country</th>\n",
              "      <th>date_added</th>\n",
              "      <th>release_year</th>\n",
              "      <th>rating</th>\n",
              "      <th>duration</th>\n",
              "      <th>listed_in</th>\n",
              "      <th>description</th>\n",
              "    </tr>\n",
              "  </thead>\n",
              "  <tbody>\n",
              "    <tr>\n",
              "      <th>0</th>\n",
              "      <td>hs1</td>\n",
              "      <td>s1</td>\n",
              "      <td>hulu</td>\n",
              "      <td>Movie</td>\n",
              "      <td>Ricky Velez: Here's Everything</td>\n",
              "      <td>NaN</td>\n",
              "      <td>NaN</td>\n",
              "      <td>NaN</td>\n",
              "      <td>October 24, 2021</td>\n",
              "      <td>2021</td>\n",
              "      <td>TV-MA</td>\n",
              "      <td>NaN</td>\n",
              "      <td>Comedy, Stand Up</td>\n",
              "      <td>​Comedian Ricky Velez bares it all with his ho...</td>\n",
              "    </tr>\n",
              "    <tr>\n",
              "      <th>1</th>\n",
              "      <td>hs2</td>\n",
              "      <td>s2</td>\n",
              "      <td>hulu</td>\n",
              "      <td>Movie</td>\n",
              "      <td>Silent Night</td>\n",
              "      <td>NaN</td>\n",
              "      <td>NaN</td>\n",
              "      <td>NaN</td>\n",
              "      <td>October 23, 2021</td>\n",
              "      <td>2020</td>\n",
              "      <td>NaN</td>\n",
              "      <td>94 min</td>\n",
              "      <td>Crime, Drama, Thriller</td>\n",
              "      <td>Mark, a low end South London hitman recently r...</td>\n",
              "    </tr>\n",
              "    <tr>\n",
              "      <th>2</th>\n",
              "      <td>hs3</td>\n",
              "      <td>s3</td>\n",
              "      <td>hulu</td>\n",
              "      <td>Movie</td>\n",
              "      <td>The Marksman</td>\n",
              "      <td>NaN</td>\n",
              "      <td>NaN</td>\n",
              "      <td>NaN</td>\n",
              "      <td>October 23, 2021</td>\n",
              "      <td>2021</td>\n",
              "      <td>PG-13</td>\n",
              "      <td>108 min</td>\n",
              "      <td>Action, Thriller</td>\n",
              "      <td>A hardened Arizona rancher tries to protect an...</td>\n",
              "    </tr>\n",
              "    <tr>\n",
              "      <th>3</th>\n",
              "      <td>hs4</td>\n",
              "      <td>s4</td>\n",
              "      <td>hulu</td>\n",
              "      <td>Movie</td>\n",
              "      <td>Gaia</td>\n",
              "      <td>NaN</td>\n",
              "      <td>NaN</td>\n",
              "      <td>NaN</td>\n",
              "      <td>October 22, 2021</td>\n",
              "      <td>2021</td>\n",
              "      <td>R</td>\n",
              "      <td>97 min</td>\n",
              "      <td>Horror</td>\n",
              "      <td>A forest ranger and two survivalists with a cu...</td>\n",
              "    </tr>\n",
              "    <tr>\n",
              "      <th>4</th>\n",
              "      <td>hs5</td>\n",
              "      <td>s5</td>\n",
              "      <td>hulu</td>\n",
              "      <td>Movie</td>\n",
              "      <td>Settlers</td>\n",
              "      <td>NaN</td>\n",
              "      <td>NaN</td>\n",
              "      <td>NaN</td>\n",
              "      <td>October 22, 2021</td>\n",
              "      <td>2021</td>\n",
              "      <td>NaN</td>\n",
              "      <td>104 min</td>\n",
              "      <td>Science Fiction, Thriller</td>\n",
              "      <td>Mankind's earliest settlers on the Martian fro...</td>\n",
              "    </tr>\n",
              "  </tbody>\n",
              "</table>\n",
              "</div>\n",
              "      <button class=\"colab-df-convert\" onclick=\"convertToInteractive('df-6e9eb7fe-ddaf-44cb-a21a-aeb87bc2be84')\"\n",
              "              title=\"Convert this dataframe to an interactive table.\"\n",
              "              style=\"display:none;\">\n",
              "        \n",
              "  <svg xmlns=\"http://www.w3.org/2000/svg\" height=\"24px\"viewBox=\"0 0 24 24\"\n",
              "       width=\"24px\">\n",
              "    <path d=\"M0 0h24v24H0V0z\" fill=\"none\"/>\n",
              "    <path d=\"M18.56 5.44l.94 2.06.94-2.06 2.06-.94-2.06-.94-.94-2.06-.94 2.06-2.06.94zm-11 1L8.5 8.5l.94-2.06 2.06-.94-2.06-.94L8.5 2.5l-.94 2.06-2.06.94zm10 10l.94 2.06.94-2.06 2.06-.94-2.06-.94-.94-2.06-.94 2.06-2.06.94z\"/><path d=\"M17.41 7.96l-1.37-1.37c-.4-.4-.92-.59-1.43-.59-.52 0-1.04.2-1.43.59L10.3 9.45l-7.72 7.72c-.78.78-.78 2.05 0 2.83L4 21.41c.39.39.9.59 1.41.59.51 0 1.02-.2 1.41-.59l7.78-7.78 2.81-2.81c.8-.78.8-2.07 0-2.86zM5.41 20L4 18.59l7.72-7.72 1.47 1.35L5.41 20z\"/>\n",
              "  </svg>\n",
              "      </button>\n",
              "      \n",
              "  <style>\n",
              "    .colab-df-container {\n",
              "      display:flex;\n",
              "      flex-wrap:wrap;\n",
              "      gap: 12px;\n",
              "    }\n",
              "\n",
              "    .colab-df-convert {\n",
              "      background-color: #E8F0FE;\n",
              "      border: none;\n",
              "      border-radius: 50%;\n",
              "      cursor: pointer;\n",
              "      display: none;\n",
              "      fill: #1967D2;\n",
              "      height: 32px;\n",
              "      padding: 0 0 0 0;\n",
              "      width: 32px;\n",
              "    }\n",
              "\n",
              "    .colab-df-convert:hover {\n",
              "      background-color: #E2EBFA;\n",
              "      box-shadow: 0px 1px 2px rgba(60, 64, 67, 0.3), 0px 1px 3px 1px rgba(60, 64, 67, 0.15);\n",
              "      fill: #174EA6;\n",
              "    }\n",
              "\n",
              "    [theme=dark] .colab-df-convert {\n",
              "      background-color: #3B4455;\n",
              "      fill: #D2E3FC;\n",
              "    }\n",
              "\n",
              "    [theme=dark] .colab-df-convert:hover {\n",
              "      background-color: #434B5C;\n",
              "      box-shadow: 0px 1px 3px 1px rgba(0, 0, 0, 0.15);\n",
              "      filter: drop-shadow(0px 1px 2px rgba(0, 0, 0, 0.3));\n",
              "      fill: #FFFFFF;\n",
              "    }\n",
              "  </style>\n",
              "\n",
              "      <script>\n",
              "        const buttonEl =\n",
              "          document.querySelector('#df-6e9eb7fe-ddaf-44cb-a21a-aeb87bc2be84 button.colab-df-convert');\n",
              "        buttonEl.style.display =\n",
              "          google.colab.kernel.accessAllowed ? 'block' : 'none';\n",
              "\n",
              "        async function convertToInteractive(key) {\n",
              "          const element = document.querySelector('#df-6e9eb7fe-ddaf-44cb-a21a-aeb87bc2be84');\n",
              "          const dataTable =\n",
              "            await google.colab.kernel.invokeFunction('convertToInteractive',\n",
              "                                                     [key], {});\n",
              "          if (!dataTable) return;\n",
              "\n",
              "          const docLinkHtml = 'Like what you see? Visit the ' +\n",
              "            '<a target=\"_blank\" href=https://colab.research.google.com/notebooks/data_table.ipynb>data table notebook</a>'\n",
              "            + ' to learn more about interactive tables.';\n",
              "          element.innerHTML = '';\n",
              "          dataTable['output_type'] = 'display_data';\n",
              "          await google.colab.output.renderOutput(dataTable, element);\n",
              "          const docLink = document.createElement('div');\n",
              "          docLink.innerHTML = docLinkHtml;\n",
              "          element.appendChild(docLink);\n",
              "        }\n",
              "      </script>\n",
              "    </div>\n",
              "  </div>\n",
              "  "
            ]
          },
          "metadata": {},
          "execution_count": 14
        }
      ],
      "source": [
        "dfh.head()"
      ]
    },
    {
      "cell_type": "markdown",
      "metadata": {
        "id": "JN-z-J2Ztrdf"
      },
      "source": [
        "Nos damos cuenta que en el dataset de dfh(hulu), los valores de duration estan en rating"
      ]
    },
    {
      "cell_type": "code",
      "execution_count": null,
      "metadata": {
        "colab": {
          "base_uri": "https://localhost:8080/"
        },
        "id": "-hSP2MaQtrdf",
        "outputId": "b036e419-54aa-40cc-9e63-83958722122d"
      },
      "outputs": [
        {
          "output_type": "stream",
          "name": "stdout",
          "text": [
            "['TV-MA' nan 'PG-13' 'R' 'TV-14' 'PG' 'TV-PG' 'NOT RATED' 'G' 'TV-G'\n",
            " '2 Seasons' 'TV-Y' '93 min' '4 Seasons' 'TV-Y7' '136 min' '91 min'\n",
            " '85 min' '98 min' '89 min' '94 min' '86 min' '3 Seasons' '121 min'\n",
            " '88 min' '101 min' '1 Season' '83 min' '100 min' '95 min' '92 min'\n",
            " '96 min' '109 min' '99 min' '75 min' '87 min' '67 min' '104 min'\n",
            " '107 min' '84 min' '103 min' '105 min' '119 min' '114 min' '82 min'\n",
            " '90 min' '130 min' '110 min' '80 min' '6 Seasons' '97 min' '111 min'\n",
            " '81 min' '49 min' '45 min' '41 min' '73 min' '40 min' '36 min' '39 min'\n",
            " '34 min' '47 min' '65 min' '37 min' '78 min' '102 min' '129 min'\n",
            " '115 min' '112 min' 'NR' '61 min' '106 min' '76 min' '77 min' '79 min'\n",
            " '157 min' '28 min' '64 min' '7 min' '5 min' '6 min' '127 min' '142 min'\n",
            " '108 min' '57 min' '118 min' '116 min' '12 Seasons' '71 min']\n"
          ]
        }
      ],
      "source": [
        "print(dfh.rating.unique())"
      ]
    },
    {
      "cell_type": "markdown",
      "metadata": {
        "id": "t0Y_Xhd-trdf"
      },
      "source": [
        "Se crea la columna 'columna_auxiliar' para mover los datos se se encuentran rating a duration"
      ]
    },
    {
      "cell_type": "code",
      "execution_count": null,
      "metadata": {
        "id": "OZYDg9Ootrdg"
      },
      "outputs": [],
      "source": [
        "dfh['columna_auxiliar'] = dfh['rating'][pd.notnull(dfh['rating']) & dfh['rating'].str[0].str.isdigit()]\n"
      ]
    },
    {
      "cell_type": "markdown",
      "metadata": {
        "id": "Mo0irLG3trdg"
      },
      "source": [
        "Se reemplazan los valores no númericos por Nan"
      ]
    },
    {
      "cell_type": "code",
      "execution_count": null,
      "metadata": {
        "id": "oHUMAjQwtrdg"
      },
      "outputs": [],
      "source": [
        "dfh['rating'] = dfh['rating'].where(pd.isna(dfh['rating']) | ~dfh['rating'].astype(str).str[0].str.isdigit(), np.nan)"
      ]
    },
    {
      "cell_type": "markdown",
      "metadata": {
        "id": "QUN_IpOetrdg"
      },
      "source": [
        "Movemos los valores no Nan a la columna 'columna_auxiliar'"
      ]
    },
    {
      "cell_type": "code",
      "execution_count": null,
      "metadata": {
        "id": "1XojBPYdtrdg"
      },
      "outputs": [],
      "source": [
        "dfh['duration'] = dfh['columna_auxiliar'].fillna(dfh['duration'])"
      ]
    },
    {
      "cell_type": "markdown",
      "metadata": {
        "id": "DZm4VzGDtrdh"
      },
      "source": [
        "Elimino la columa 'columna_auxiliar'"
      ]
    },
    {
      "cell_type": "code",
      "execution_count": null,
      "metadata": {
        "id": "H4eycsiMtrdh"
      },
      "outputs": [],
      "source": [
        "dfh = dfh.drop('columna_auxiliar', axis=1)"
      ]
    },
    {
      "cell_type": "code",
      "execution_count": null,
      "metadata": {
        "colab": {
          "base_uri": "https://localhost:8080/"
        },
        "id": "vm7tkxpWtrdh",
        "outputId": "ad28f4a2-ddc8-43e9-8c00-427c3fed0b1b"
      },
      "outputs": [
        {
          "output_type": "stream",
          "name": "stdout",
          "text": [
            "['TV-MA' nan 'PG-13' 'R' 'TV-14' 'PG' 'TV-PG' 'NOT RATED' 'G' 'TV-G'\n",
            " 'TV-Y' 'TV-Y7' 'NR']\n"
          ]
        }
      ],
      "source": [
        "print(dfh.rating.unique())"
      ]
    },
    {
      "cell_type": "markdown",
      "metadata": {
        "id": "Hy_InFCKtrdh"
      },
      "source": [
        "Se Revisan los demás dataset para evaluar si tiene el mismo problema que en 'hulu'\n"
      ]
    },
    {
      "cell_type": "code",
      "execution_count": null,
      "metadata": {
        "colab": {
          "base_uri": "https://localhost:8080/"
        },
        "id": "GuRehsfFtrdh",
        "outputId": "9368463e-c19d-4168-8cb6-b9406df5f41b"
      },
      "outputs": [
        {
          "output_type": "execute_result",
          "data": {
            "text/plain": [
              "array([nan, '13+', 'ALL', '18+', 'R', 'TV-Y', 'TV-Y7', 'NR', '16+',\n",
              "       'TV-PG', '7+', 'TV-14', 'TV-NR', 'TV-G', 'PG-13', 'TV-MA', 'G',\n",
              "       'PG', 'NC-17', 'UNRATED', '16', 'AGES_16_', 'AGES_18_', 'ALL_AGES',\n",
              "       'NOT_RATE'], dtype=object)"
            ]
          },
          "metadata": {},
          "execution_count": 21
        }
      ],
      "source": [
        "dfa.rating.unique() "
      ]
    },
    {
      "cell_type": "code",
      "execution_count": null,
      "metadata": {
        "colab": {
          "base_uri": "https://localhost:8080/"
        },
        "id": "yqEoPCSrtrdi",
        "outputId": "473f5e62-dea8-4c3d-f9df-191a01e8f24b"
      },
      "outputs": [
        {
          "output_type": "execute_result",
          "data": {
            "text/plain": [
              "array(['TV-G', 'PG', 'TV-PG', nan, 'PG-13', 'TV-14', 'G', 'TV-Y7', 'TV-Y',\n",
              "       'TV-Y7-FV'], dtype=object)"
            ]
          },
          "metadata": {},
          "execution_count": 22
        }
      ],
      "source": [
        "dfd.rating.unique() "
      ]
    },
    {
      "cell_type": "markdown",
      "metadata": {
        "id": "fCX46qTotrdi"
      },
      "source": [
        "En el dataset 'dfn' debemos implementar la misma solucion que para 'dfh'"
      ]
    },
    {
      "cell_type": "code",
      "execution_count": null,
      "metadata": {
        "colab": {
          "base_uri": "https://localhost:8080/"
        },
        "id": "W2S3dxYXtrdi",
        "outputId": "f2458a56-ef95-43f8-c733-d1d64f583da4"
      },
      "outputs": [
        {
          "output_type": "execute_result",
          "data": {
            "text/plain": [
              "array(['PG-13', 'TV-MA', 'PG', 'TV-14', 'TV-PG', 'TV-Y', 'TV-Y7', 'R',\n",
              "       'TV-G', 'G', 'NC-17', '74 min', '84 min', '66 min', 'NR', nan,\n",
              "       'TV-Y7-FV', 'UR'], dtype=object)"
            ]
          },
          "metadata": {},
          "execution_count": 23
        }
      ],
      "source": [
        "dfn.rating.unique() "
      ]
    },
    {
      "cell_type": "markdown",
      "metadata": {
        "id": "gj11_eertrdi"
      },
      "source": [
        "Creamos una columna llamada 'columna auxiliar en el dataset 'dfn' para  generar el movimiento de datos a la columna 'rating'"
      ]
    },
    {
      "cell_type": "code",
      "execution_count": null,
      "metadata": {
        "id": "6wtRHFuVtrdj"
      },
      "outputs": [],
      "source": [
        "dfn['columna_auxiliar'] = dfn['rating'][pd.notnull(dfn['rating']) & dfn['rating'].str[0].str.isdigit()]"
      ]
    },
    {
      "cell_type": "code",
      "execution_count": null,
      "metadata": {
        "colab": {
          "base_uri": "https://localhost:8080/"
        },
        "id": "HFRdYIWEtrdj",
        "outputId": "1c3dab78-4d56-4778-b1eb-0d5e197a68ec"
      },
      "outputs": [
        {
          "output_type": "execute_result",
          "data": {
            "text/plain": [
              "array([nan, '74 min', '84 min', '66 min'], dtype=object)"
            ]
          },
          "metadata": {},
          "execution_count": 25
        }
      ],
      "source": [
        "dfn.columna_auxiliar.unique()"
      ]
    },
    {
      "cell_type": "markdown",
      "metadata": {
        "id": "eNE4xu7Ztrdj"
      },
      "source": [
        "Se reemplazan los valores no númericos por Nan"
      ]
    },
    {
      "cell_type": "code",
      "execution_count": null,
      "metadata": {
        "id": "if3IMxCntrdj"
      },
      "outputs": [],
      "source": [
        "dfn['rating'] = dfn['rating'].where(pd.isna(dfn['rating']) | ~dfn['rating'].astype(str).str[0].str.isdigit(), np.nan)"
      ]
    },
    {
      "cell_type": "markdown",
      "metadata": {
        "id": "l5iDCIWDtrdj"
      },
      "source": [
        "La columna 'rating' queda conformada solo por los valores correspondientes"
      ]
    },
    {
      "cell_type": "code",
      "execution_count": null,
      "metadata": {
        "colab": {
          "base_uri": "https://localhost:8080/"
        },
        "id": "nXb5tIfztrdj",
        "outputId": "4cf14ef7-d569-40ea-c9d9-76aa498b7197"
      },
      "outputs": [
        {
          "output_type": "execute_result",
          "data": {
            "text/plain": [
              "array(['PG-13', 'TV-MA', 'PG', 'TV-14', 'TV-PG', 'TV-Y', 'TV-Y7', 'R',\n",
              "       'TV-G', 'G', 'NC-17', nan, 'NR', 'TV-Y7-FV', 'UR'], dtype=object)"
            ]
          },
          "metadata": {},
          "execution_count": 27
        }
      ],
      "source": [
        "dfn.rating.unique()"
      ]
    },
    {
      "cell_type": "markdown",
      "metadata": {
        "id": "4_GdEfXEtrdk"
      },
      "source": [
        "Procedemos a mover los valores de la columna 'columna_auxiliar' a la columna 'duration'"
      ]
    },
    {
      "cell_type": "code",
      "execution_count": null,
      "metadata": {
        "id": "4O9lNd7Atrdk"
      },
      "outputs": [],
      "source": [
        "dfn['duration'] = dfn['columna_auxiliar'].fillna(dfn['duration'])"
      ]
    },
    {
      "cell_type": "markdown",
      "metadata": {
        "id": "Szj-kQzftrdk"
      },
      "source": [
        "Procedemos a eliminar la columna 'columna_auxiliar' que ya no es de utilidad"
      ]
    },
    {
      "cell_type": "code",
      "execution_count": null,
      "metadata": {
        "id": "uXL0r2FJtrdk"
      },
      "outputs": [],
      "source": [
        "dfn = dfn.drop('columna_auxiliar', axis=1) "
      ]
    },
    {
      "cell_type": "markdown",
      "metadata": {
        "id": "c3UgAolutrdk"
      },
      "source": [
        "Verificamos que los 4 dataset tengan la misma cantidad de columnas"
      ]
    },
    {
      "cell_type": "code",
      "execution_count": null,
      "metadata": {
        "colab": {
          "base_uri": "https://localhost:8080/"
        },
        "id": "LBhTNMEntrdk",
        "outputId": "6c181402-ade8-413c-c142-c2dde4955943"
      },
      "outputs": [
        {
          "output_type": "stream",
          "name": "stdout",
          "text": [
            "dfa tiene  14 columnas.\n",
            "dfd tiene  14 columnas.\n",
            "dfh tiene  14 columnas.\n",
            "dfn tiene  14 columnas.\n"
          ]
        }
      ],
      "source": [
        "num_columnas1 = dfa.shape[1]\n",
        "num_columnas2 = dfd.shape[1]\n",
        "num_columnas3 = dfh.shape[1]\n",
        "num_columnas4 = dfn.shape[1]\n",
        "\n",
        "print(\"dfa tiene \", num_columnas1, \"columnas.\")\n",
        "print(\"dfd tiene \", num_columnas2, \"columnas.\")\n",
        "print(\"dfh tiene \", num_columnas3, \"columnas.\")\n",
        "print(\"dfn tiene \", num_columnas4, \"columnas.\")"
      ]
    },
    {
      "cell_type": "code",
      "execution_count": null,
      "metadata": {
        "colab": {
          "base_uri": "https://localhost:8080/"
        },
        "id": "6kiF5N-utrdl",
        "outputId": "ebd4aaa0-1363-4aaf-ec85-532fc3260091"
      },
      "outputs": [
        {
          "output_type": "stream",
          "name": "stdout",
          "text": [
            "(9668, 14)\n",
            "(1450, 14)\n",
            "(3073, 14)\n",
            "(8807, 14)\n"
          ]
        }
      ],
      "source": [
        "print(dfa.shape)\n",
        "print(dfd.shape)\n",
        "print(dfh.shape)\n",
        "print(dfn.shape)"
      ]
    },
    {
      "cell_type": "markdown",
      "metadata": {
        "id": "90E5Ysv7trdl"
      },
      "source": [
        "Cambiamos todos los textos a minúsculas dentro de los dataset, se relaliza en este momento ya que es más rápido hacerlo por separado"
      ]
    },
    {
      "cell_type": "code",
      "execution_count": null,
      "metadata": {
        "id": "MdZSa4Tntrdl"
      },
      "outputs": [],
      "source": [
        "dfa = dfa.applymap(lambda s: s.lower() if type(s) == str else s)\n",
        "dfd = dfd.applymap(lambda s: s.lower() if type(s) == str else s)\n",
        "dfh = dfh.applymap(lambda s: s.lower() if type(s) == str else s)\n",
        "dfn = dfn.applymap(lambda s: s.lower() if type(s) == str else s)"
      ]
    },
    {
      "cell_type": "markdown",
      "metadata": {
        "id": "Fv_o2thNtrdl"
      },
      "source": [
        "Comprobamos que el cambio haya quedado realizado de manera correcta"
      ]
    },
    {
      "cell_type": "code",
      "execution_count": null,
      "metadata": {
        "colab": {
          "base_uri": "https://localhost:8080/",
          "height": 337
        },
        "id": "qh5sdEkstrdl",
        "outputId": "925b49ba-50ee-4352-b008-b877b460650a"
      },
      "outputs": [
        {
          "output_type": "execute_result",
          "data": {
            "text/plain": [
              "    id show_id platform   type                 title        director  \\\n",
              "0  as1      s1   amazon  movie   the grand seduction    don mckellar   \n",
              "1  as2      s2   amazon  movie  take care good night    girish joshi   \n",
              "2  as3      s3   amazon  movie  secrets of deception     josh webber   \n",
              "3  as4      s4   amazon  movie    pink: staying true  sonia anderson   \n",
              "4  as5      s5   amazon  movie         monster maker    giles foster   \n",
              "\n",
              "                                                cast         country  \\\n",
              "0     brendan gleeson, taylor kitsch, gordon pinsent          canada   \n",
              "1   mahesh manjrekar, abhay mahajan, sachin khedekar           india   \n",
              "2  tom sizemore, lorenzo lamas, robert lasardo, r...   united states   \n",
              "3  interviews with: pink, adele, beyoncé, britney...   united states   \n",
              "4  harry dean stanton, kieran o'brien, george cos...  united kingdom   \n",
              "\n",
              "       date_added  release_year rating duration                listed_in  \\\n",
              "0  march 30, 2021          2014    NaN  113 min            comedy, drama   \n",
              "1  march 30, 2021          2018    13+  110 min     drama, international   \n",
              "2  march 30, 2021          2017    NaN   74 min  action, drama, suspense   \n",
              "3  march 30, 2021          2014    NaN   69 min              documentary   \n",
              "4  march 30, 2021          1989    NaN   45 min           drama, fantasy   \n",
              "\n",
              "                                         description  \n",
              "0  a small fishing village must procure a local d...  \n",
              "1  a metro family decides to fight a cyber crimin...  \n",
              "2  after a man discovers his wife is cheating on ...  \n",
              "3  pink breaks the mold once again, bringing her ...  \n",
              "4  teenage matt banting wants to work with a famo...  "
            ],
            "text/html": [
              "\n",
              "  <div id=\"df-b1560379-9268-4954-ba78-c149c24865ae\">\n",
              "    <div class=\"colab-df-container\">\n",
              "      <div>\n",
              "<style scoped>\n",
              "    .dataframe tbody tr th:only-of-type {\n",
              "        vertical-align: middle;\n",
              "    }\n",
              "\n",
              "    .dataframe tbody tr th {\n",
              "        vertical-align: top;\n",
              "    }\n",
              "\n",
              "    .dataframe thead th {\n",
              "        text-align: right;\n",
              "    }\n",
              "</style>\n",
              "<table border=\"1\" class=\"dataframe\">\n",
              "  <thead>\n",
              "    <tr style=\"text-align: right;\">\n",
              "      <th></th>\n",
              "      <th>id</th>\n",
              "      <th>show_id</th>\n",
              "      <th>platform</th>\n",
              "      <th>type</th>\n",
              "      <th>title</th>\n",
              "      <th>director</th>\n",
              "      <th>cast</th>\n",
              "      <th>country</th>\n",
              "      <th>date_added</th>\n",
              "      <th>release_year</th>\n",
              "      <th>rating</th>\n",
              "      <th>duration</th>\n",
              "      <th>listed_in</th>\n",
              "      <th>description</th>\n",
              "    </tr>\n",
              "  </thead>\n",
              "  <tbody>\n",
              "    <tr>\n",
              "      <th>0</th>\n",
              "      <td>as1</td>\n",
              "      <td>s1</td>\n",
              "      <td>amazon</td>\n",
              "      <td>movie</td>\n",
              "      <td>the grand seduction</td>\n",
              "      <td>don mckellar</td>\n",
              "      <td>brendan gleeson, taylor kitsch, gordon pinsent</td>\n",
              "      <td>canada</td>\n",
              "      <td>march 30, 2021</td>\n",
              "      <td>2014</td>\n",
              "      <td>NaN</td>\n",
              "      <td>113 min</td>\n",
              "      <td>comedy, drama</td>\n",
              "      <td>a small fishing village must procure a local d...</td>\n",
              "    </tr>\n",
              "    <tr>\n",
              "      <th>1</th>\n",
              "      <td>as2</td>\n",
              "      <td>s2</td>\n",
              "      <td>amazon</td>\n",
              "      <td>movie</td>\n",
              "      <td>take care good night</td>\n",
              "      <td>girish joshi</td>\n",
              "      <td>mahesh manjrekar, abhay mahajan, sachin khedekar</td>\n",
              "      <td>india</td>\n",
              "      <td>march 30, 2021</td>\n",
              "      <td>2018</td>\n",
              "      <td>13+</td>\n",
              "      <td>110 min</td>\n",
              "      <td>drama, international</td>\n",
              "      <td>a metro family decides to fight a cyber crimin...</td>\n",
              "    </tr>\n",
              "    <tr>\n",
              "      <th>2</th>\n",
              "      <td>as3</td>\n",
              "      <td>s3</td>\n",
              "      <td>amazon</td>\n",
              "      <td>movie</td>\n",
              "      <td>secrets of deception</td>\n",
              "      <td>josh webber</td>\n",
              "      <td>tom sizemore, lorenzo lamas, robert lasardo, r...</td>\n",
              "      <td>united states</td>\n",
              "      <td>march 30, 2021</td>\n",
              "      <td>2017</td>\n",
              "      <td>NaN</td>\n",
              "      <td>74 min</td>\n",
              "      <td>action, drama, suspense</td>\n",
              "      <td>after a man discovers his wife is cheating on ...</td>\n",
              "    </tr>\n",
              "    <tr>\n",
              "      <th>3</th>\n",
              "      <td>as4</td>\n",
              "      <td>s4</td>\n",
              "      <td>amazon</td>\n",
              "      <td>movie</td>\n",
              "      <td>pink: staying true</td>\n",
              "      <td>sonia anderson</td>\n",
              "      <td>interviews with: pink, adele, beyoncé, britney...</td>\n",
              "      <td>united states</td>\n",
              "      <td>march 30, 2021</td>\n",
              "      <td>2014</td>\n",
              "      <td>NaN</td>\n",
              "      <td>69 min</td>\n",
              "      <td>documentary</td>\n",
              "      <td>pink breaks the mold once again, bringing her ...</td>\n",
              "    </tr>\n",
              "    <tr>\n",
              "      <th>4</th>\n",
              "      <td>as5</td>\n",
              "      <td>s5</td>\n",
              "      <td>amazon</td>\n",
              "      <td>movie</td>\n",
              "      <td>monster maker</td>\n",
              "      <td>giles foster</td>\n",
              "      <td>harry dean stanton, kieran o'brien, george cos...</td>\n",
              "      <td>united kingdom</td>\n",
              "      <td>march 30, 2021</td>\n",
              "      <td>1989</td>\n",
              "      <td>NaN</td>\n",
              "      <td>45 min</td>\n",
              "      <td>drama, fantasy</td>\n",
              "      <td>teenage matt banting wants to work with a famo...</td>\n",
              "    </tr>\n",
              "  </tbody>\n",
              "</table>\n",
              "</div>\n",
              "      <button class=\"colab-df-convert\" onclick=\"convertToInteractive('df-b1560379-9268-4954-ba78-c149c24865ae')\"\n",
              "              title=\"Convert this dataframe to an interactive table.\"\n",
              "              style=\"display:none;\">\n",
              "        \n",
              "  <svg xmlns=\"http://www.w3.org/2000/svg\" height=\"24px\"viewBox=\"0 0 24 24\"\n",
              "       width=\"24px\">\n",
              "    <path d=\"M0 0h24v24H0V0z\" fill=\"none\"/>\n",
              "    <path d=\"M18.56 5.44l.94 2.06.94-2.06 2.06-.94-2.06-.94-.94-2.06-.94 2.06-2.06.94zm-11 1L8.5 8.5l.94-2.06 2.06-.94-2.06-.94L8.5 2.5l-.94 2.06-2.06.94zm10 10l.94 2.06.94-2.06 2.06-.94-2.06-.94-.94-2.06-.94 2.06-2.06.94z\"/><path d=\"M17.41 7.96l-1.37-1.37c-.4-.4-.92-.59-1.43-.59-.52 0-1.04.2-1.43.59L10.3 9.45l-7.72 7.72c-.78.78-.78 2.05 0 2.83L4 21.41c.39.39.9.59 1.41.59.51 0 1.02-.2 1.41-.59l7.78-7.78 2.81-2.81c.8-.78.8-2.07 0-2.86zM5.41 20L4 18.59l7.72-7.72 1.47 1.35L5.41 20z\"/>\n",
              "  </svg>\n",
              "      </button>\n",
              "      \n",
              "  <style>\n",
              "    .colab-df-container {\n",
              "      display:flex;\n",
              "      flex-wrap:wrap;\n",
              "      gap: 12px;\n",
              "    }\n",
              "\n",
              "    .colab-df-convert {\n",
              "      background-color: #E8F0FE;\n",
              "      border: none;\n",
              "      border-radius: 50%;\n",
              "      cursor: pointer;\n",
              "      display: none;\n",
              "      fill: #1967D2;\n",
              "      height: 32px;\n",
              "      padding: 0 0 0 0;\n",
              "      width: 32px;\n",
              "    }\n",
              "\n",
              "    .colab-df-convert:hover {\n",
              "      background-color: #E2EBFA;\n",
              "      box-shadow: 0px 1px 2px rgba(60, 64, 67, 0.3), 0px 1px 3px 1px rgba(60, 64, 67, 0.15);\n",
              "      fill: #174EA6;\n",
              "    }\n",
              "\n",
              "    [theme=dark] .colab-df-convert {\n",
              "      background-color: #3B4455;\n",
              "      fill: #D2E3FC;\n",
              "    }\n",
              "\n",
              "    [theme=dark] .colab-df-convert:hover {\n",
              "      background-color: #434B5C;\n",
              "      box-shadow: 0px 1px 3px 1px rgba(0, 0, 0, 0.15);\n",
              "      filter: drop-shadow(0px 1px 2px rgba(0, 0, 0, 0.3));\n",
              "      fill: #FFFFFF;\n",
              "    }\n",
              "  </style>\n",
              "\n",
              "      <script>\n",
              "        const buttonEl =\n",
              "          document.querySelector('#df-b1560379-9268-4954-ba78-c149c24865ae button.colab-df-convert');\n",
              "        buttonEl.style.display =\n",
              "          google.colab.kernel.accessAllowed ? 'block' : 'none';\n",
              "\n",
              "        async function convertToInteractive(key) {\n",
              "          const element = document.querySelector('#df-b1560379-9268-4954-ba78-c149c24865ae');\n",
              "          const dataTable =\n",
              "            await google.colab.kernel.invokeFunction('convertToInteractive',\n",
              "                                                     [key], {});\n",
              "          if (!dataTable) return;\n",
              "\n",
              "          const docLinkHtml = 'Like what you see? Visit the ' +\n",
              "            '<a target=\"_blank\" href=https://colab.research.google.com/notebooks/data_table.ipynb>data table notebook</a>'\n",
              "            + ' to learn more about interactive tables.';\n",
              "          element.innerHTML = '';\n",
              "          dataTable['output_type'] = 'display_data';\n",
              "          await google.colab.output.renderOutput(dataTable, element);\n",
              "          const docLink = document.createElement('div');\n",
              "          docLink.innerHTML = docLinkHtml;\n",
              "          element.appendChild(docLink);\n",
              "        }\n",
              "      </script>\n",
              "    </div>\n",
              "  </div>\n",
              "  "
            ]
          },
          "metadata": {},
          "execution_count": 33
        }
      ],
      "source": [
        "dfa.head()"
      ]
    },
    {
      "cell_type": "markdown",
      "metadata": {
        "id": "AhrINVZDtrdl"
      },
      "source": [
        "Se generar una concatenación de los 4 Dataset de servicios con los que venimos, de ahora en más el resultante sera 'Servicios'"
      ]
    },
    {
      "cell_type": "code",
      "execution_count": null,
      "metadata": {
        "id": "PeWZO2Q1trdm"
      },
      "outputs": [],
      "source": [
        "dfservicios = pd.concat([dfa, dfd, dfh,dfn],ignore_index=True)"
      ]
    },
    {
      "cell_type": "markdown",
      "metadata": {
        "id": "PIJwpekTtrdm"
      },
      "source": [
        "Revisamos que haya quedado bien la concatenación"
      ]
    },
    {
      "cell_type": "code",
      "execution_count": null,
      "metadata": {
        "colab": {
          "base_uri": "https://localhost:8080/"
        },
        "id": "v3cV1Y9Gtrdm",
        "outputId": "e4073322-3382-41db-add4-8e8fc66b3bde"
      },
      "outputs": [
        {
          "output_type": "execute_result",
          "data": {
            "text/plain": [
              "(22998, 14)"
            ]
          },
          "metadata": {},
          "execution_count": 35
        }
      ],
      "source": [
        "dfservicios.shape"
      ]
    },
    {
      "cell_type": "markdown",
      "metadata": {
        "id": "Lo9Hkweetrdm"
      },
      "source": [
        "Hacemos un conteo de los valores dentro de 'rating'"
      ]
    },
    {
      "cell_type": "code",
      "execution_count": null,
      "metadata": {
        "colab": {
          "base_uri": "https://localhost:8080/"
        },
        "id": "CmySDSEmtrdm",
        "outputId": "5585e177-ba69-4264-901e-db2ad92dc922"
      },
      "outputs": [
        {
          "output_type": "stream",
          "name": "stdout",
          "text": [
            "tv-ma        3675\n",
            "tv-14        3138\n",
            "r            2154\n",
            "13+          2117\n",
            "tv-pg        1654\n",
            "16+          1547\n",
            "all          1268\n",
            "18+          1243\n",
            "NaN          1159\n",
            "pg-13        1112\n",
            "pg            881\n",
            "tv-g          767\n",
            "tv-y7         550\n",
            "tv-y          462\n",
            "g             405\n",
            "7+            385\n",
            "nr            304\n",
            "tv-nr         105\n",
            "unrated        33\n",
            "tv-y7-fv       19\n",
            "nc-17           6\n",
            "ages_18_        3\n",
            "not_rate        3\n",
            "ur              3\n",
            "ages_16_        2\n",
            "16              1\n",
            "all_ages        1\n",
            "not rated       1\n",
            "Name: rating, dtype: int64\n"
          ]
        }
      ],
      "source": [
        "print(dfservicios['rating'].value_counts(dropna=False))"
      ]
    },
    {
      "cell_type": "markdown",
      "metadata": {
        "id": "L5StJALQtrdn"
      },
      "source": [
        "verificamos cuantos corresponden a nulos y los sumamos"
      ]
    },
    {
      "cell_type": "code",
      "execution_count": null,
      "metadata": {
        "colab": {
          "base_uri": "https://localhost:8080/"
        },
        "id": "AEPm_wn1trdn",
        "outputId": "602176d7-0ac3-42bc-faf3-ec8735351398"
      },
      "outputs": [
        {
          "output_type": "stream",
          "name": "stdout",
          "text": [
            "1159\n"
          ]
        }
      ],
      "source": [
        "print(dfservicios['rating'].isnull().sum())"
      ]
    },
    {
      "cell_type": "markdown",
      "metadata": {
        "id": "RA9ozPTWtrdn"
      },
      "source": [
        "Contamos los valores que contienen 'G' dentro de 'rating'"
      ]
    },
    {
      "cell_type": "code",
      "execution_count": null,
      "metadata": {
        "colab": {
          "base_uri": "https://localhost:8080/"
        },
        "id": "mH_x7l2Ttrdn",
        "outputId": "75f0363c-57d1-439c-be7b-9eec0b25c166"
      },
      "outputs": [
        {
          "output_type": "stream",
          "name": "stdout",
          "text": [
            "405\n"
          ]
        }
      ],
      "source": [
        "print(dfservicios['rating'].value_counts()['g'])\n"
      ]
    },
    {
      "cell_type": "markdown",
      "metadata": {
        "id": "F3KhuKvotrdo"
      },
      "source": [
        "Completamos los vacios con 'G' dentro la columna'rating'"
      ]
    },
    {
      "cell_type": "code",
      "execution_count": null,
      "metadata": {
        "id": "AE2nYSOYtrdo"
      },
      "outputs": [],
      "source": [
        "dfservicios['rating'] = dfservicios['rating'].fillna('g')\n"
      ]
    },
    {
      "cell_type": "code",
      "execution_count": null,
      "metadata": {
        "colab": {
          "base_uri": "https://localhost:8080/"
        },
        "id": "UifpWgIetrdo",
        "outputId": "710fd910-2f1f-4390-ef31-dbd9b6a66055"
      },
      "outputs": [
        {
          "output_type": "stream",
          "name": "stdout",
          "text": [
            "tv-ma        3675\n",
            "tv-14        3138\n",
            "r            2154\n",
            "13+          2117\n",
            "tv-pg        1654\n",
            "g            1564\n",
            "16+          1547\n",
            "all          1268\n",
            "18+          1243\n",
            "pg-13        1112\n",
            "pg            881\n",
            "tv-g          767\n",
            "tv-y7         550\n",
            "tv-y          462\n",
            "7+            385\n",
            "nr            304\n",
            "tv-nr         105\n",
            "unrated        33\n",
            "tv-y7-fv       19\n",
            "nc-17           6\n",
            "ages_18_        3\n",
            "not_rate        3\n",
            "ur              3\n",
            "ages_16_        2\n",
            "16              1\n",
            "all_ages        1\n",
            "not rated       1\n",
            "Name: rating, dtype: int64\n"
          ]
        }
      ],
      "source": [
        "print(dfservicios['rating'].value_counts(dropna=False))"
      ]
    },
    {
      "cell_type": "code",
      "execution_count": null,
      "metadata": {
        "colab": {
          "base_uri": "https://localhost:8080/"
        },
        "id": "h6lsjUVotrdp",
        "outputId": "5d2bda03-cd51-45d8-bfe9-1d4e14383509"
      },
      "outputs": [
        {
          "output_type": "stream",
          "name": "stdout",
          "text": [
            "1564\n"
          ]
        }
      ],
      "source": [
        "print(dfservicios['rating'].value_counts()['g'])"
      ]
    },
    {
      "cell_type": "markdown",
      "metadata": {
        "id": "PIfrMME6trdp"
      },
      "source": [
        "Hacemos una inspección de la columna 'release_year' para determinar el formato de la columna"
      ]
    },
    {
      "cell_type": "code",
      "execution_count": null,
      "metadata": {
        "colab": {
          "base_uri": "https://localhost:8080/"
        },
        "id": "6YCL8O0Rtrdp",
        "outputId": "23e0e947-623a-41e1-ab8e-93589ef1e039"
      },
      "outputs": [
        {
          "output_type": "stream",
          "name": "stdout",
          "text": [
            "2019    2470\n",
            "2020    2406\n",
            "2021    2385\n",
            "2018    2105\n",
            "2017    1892\n",
            "        ... \n",
            "1923       2\n",
            "1922       2\n",
            "1924       1\n",
            "1927       1\n",
            "1928       1\n",
            "Name: release_year, Length: 101, dtype: int64\n"
          ]
        }
      ],
      "source": [
        "print(dfservicios['release_year'].value_counts())"
      ]
    },
    {
      "cell_type": "code",
      "source": [
        "dfservicios.rename(columns={'release_year': 'year'}, inplace=True)\n"
      ],
      "metadata": {
        "id": "1BaR1_q0_pkh"
      },
      "execution_count": null,
      "outputs": []
    },
    {
      "cell_type": "code",
      "source": [
        "dfservicios.sample(3)"
      ],
      "metadata": {
        "colab": {
          "base_uri": "https://localhost:8080/",
          "height": 292
        },
        "id": "glWdKOki_2Kh",
        "outputId": "cd1526de-30e0-482b-ffa2-466ebf02c10e"
      },
      "execution_count": null,
      "outputs": [
        {
          "output_type": "execute_result",
          "data": {
            "text/plain": [
              "           id show_id platform     type  \\\n",
              "17606  ns3416   s3416  netflix  tv show   \n",
              "19670  ns5480   s5480  netflix  tv show   \n",
              "2247   as2248   s2248   amazon    movie   \n",
              "\n",
              "                                       title                      director  \\\n",
              "17606                           the unlisted                           NaN   \n",
              "19670                            the keepers                           NaN   \n",
              "2247   harry & meghan: a very modern romance  adrian munsey, vance goodwin   \n",
              "\n",
              "                                                    cast        country  \\\n",
              "17606  vrund rao, ved rao, abigail adriano, miah madd...      australia   \n",
              "19670                                                NaN  united states   \n",
              "2247   anthony seldon, richard kay, penny junior, kat...            NaN   \n",
              "\n",
              "             date_added  year rating  duration  \\\n",
              "17606  october 17, 2019  2019  tv-pg  1 season   \n",
              "19670      may 19, 2017  2017  tv-ma  1 season   \n",
              "2247                NaN  2018    13+    52 min   \n",
              "\n",
              "                                      listed_in  \\\n",
              "17606                    kids' tv, tv thrillers   \n",
              "19670  crime tv shows, docuseries, tv mysteries   \n",
              "2247              documentary, special interest   \n",
              "\n",
              "                                             description  \n",
              "17606  when they learn of a secret plot to track and ...  \n",
              "19670  this docuseries examines the decades-old murde...  \n",
              "2247   meghan markle and prince harry are to marry. w...  "
            ],
            "text/html": [
              "\n",
              "  <div id=\"df-10a234c4-9a7a-46b3-bc79-a70e3117377d\">\n",
              "    <div class=\"colab-df-container\">\n",
              "      <div>\n",
              "<style scoped>\n",
              "    .dataframe tbody tr th:only-of-type {\n",
              "        vertical-align: middle;\n",
              "    }\n",
              "\n",
              "    .dataframe tbody tr th {\n",
              "        vertical-align: top;\n",
              "    }\n",
              "\n",
              "    .dataframe thead th {\n",
              "        text-align: right;\n",
              "    }\n",
              "</style>\n",
              "<table border=\"1\" class=\"dataframe\">\n",
              "  <thead>\n",
              "    <tr style=\"text-align: right;\">\n",
              "      <th></th>\n",
              "      <th>id</th>\n",
              "      <th>show_id</th>\n",
              "      <th>platform</th>\n",
              "      <th>type</th>\n",
              "      <th>title</th>\n",
              "      <th>director</th>\n",
              "      <th>cast</th>\n",
              "      <th>country</th>\n",
              "      <th>date_added</th>\n",
              "      <th>year</th>\n",
              "      <th>rating</th>\n",
              "      <th>duration</th>\n",
              "      <th>listed_in</th>\n",
              "      <th>description</th>\n",
              "    </tr>\n",
              "  </thead>\n",
              "  <tbody>\n",
              "    <tr>\n",
              "      <th>17606</th>\n",
              "      <td>ns3416</td>\n",
              "      <td>s3416</td>\n",
              "      <td>netflix</td>\n",
              "      <td>tv show</td>\n",
              "      <td>the unlisted</td>\n",
              "      <td>NaN</td>\n",
              "      <td>vrund rao, ved rao, abigail adriano, miah madd...</td>\n",
              "      <td>australia</td>\n",
              "      <td>october 17, 2019</td>\n",
              "      <td>2019</td>\n",
              "      <td>tv-pg</td>\n",
              "      <td>1 season</td>\n",
              "      <td>kids' tv, tv thrillers</td>\n",
              "      <td>when they learn of a secret plot to track and ...</td>\n",
              "    </tr>\n",
              "    <tr>\n",
              "      <th>19670</th>\n",
              "      <td>ns5480</td>\n",
              "      <td>s5480</td>\n",
              "      <td>netflix</td>\n",
              "      <td>tv show</td>\n",
              "      <td>the keepers</td>\n",
              "      <td>NaN</td>\n",
              "      <td>NaN</td>\n",
              "      <td>united states</td>\n",
              "      <td>may 19, 2017</td>\n",
              "      <td>2017</td>\n",
              "      <td>tv-ma</td>\n",
              "      <td>1 season</td>\n",
              "      <td>crime tv shows, docuseries, tv mysteries</td>\n",
              "      <td>this docuseries examines the decades-old murde...</td>\n",
              "    </tr>\n",
              "    <tr>\n",
              "      <th>2247</th>\n",
              "      <td>as2248</td>\n",
              "      <td>s2248</td>\n",
              "      <td>amazon</td>\n",
              "      <td>movie</td>\n",
              "      <td>harry &amp; meghan: a very modern romance</td>\n",
              "      <td>adrian munsey, vance goodwin</td>\n",
              "      <td>anthony seldon, richard kay, penny junior, kat...</td>\n",
              "      <td>NaN</td>\n",
              "      <td>NaN</td>\n",
              "      <td>2018</td>\n",
              "      <td>13+</td>\n",
              "      <td>52 min</td>\n",
              "      <td>documentary, special interest</td>\n",
              "      <td>meghan markle and prince harry are to marry. w...</td>\n",
              "    </tr>\n",
              "  </tbody>\n",
              "</table>\n",
              "</div>\n",
              "      <button class=\"colab-df-convert\" onclick=\"convertToInteractive('df-10a234c4-9a7a-46b3-bc79-a70e3117377d')\"\n",
              "              title=\"Convert this dataframe to an interactive table.\"\n",
              "              style=\"display:none;\">\n",
              "        \n",
              "  <svg xmlns=\"http://www.w3.org/2000/svg\" height=\"24px\"viewBox=\"0 0 24 24\"\n",
              "       width=\"24px\">\n",
              "    <path d=\"M0 0h24v24H0V0z\" fill=\"none\"/>\n",
              "    <path d=\"M18.56 5.44l.94 2.06.94-2.06 2.06-.94-2.06-.94-.94-2.06-.94 2.06-2.06.94zm-11 1L8.5 8.5l.94-2.06 2.06-.94-2.06-.94L8.5 2.5l-.94 2.06-2.06.94zm10 10l.94 2.06.94-2.06 2.06-.94-2.06-.94-.94-2.06-.94 2.06-2.06.94z\"/><path d=\"M17.41 7.96l-1.37-1.37c-.4-.4-.92-.59-1.43-.59-.52 0-1.04.2-1.43.59L10.3 9.45l-7.72 7.72c-.78.78-.78 2.05 0 2.83L4 21.41c.39.39.9.59 1.41.59.51 0 1.02-.2 1.41-.59l7.78-7.78 2.81-2.81c.8-.78.8-2.07 0-2.86zM5.41 20L4 18.59l7.72-7.72 1.47 1.35L5.41 20z\"/>\n",
              "  </svg>\n",
              "      </button>\n",
              "      \n",
              "  <style>\n",
              "    .colab-df-container {\n",
              "      display:flex;\n",
              "      flex-wrap:wrap;\n",
              "      gap: 12px;\n",
              "    }\n",
              "\n",
              "    .colab-df-convert {\n",
              "      background-color: #E8F0FE;\n",
              "      border: none;\n",
              "      border-radius: 50%;\n",
              "      cursor: pointer;\n",
              "      display: none;\n",
              "      fill: #1967D2;\n",
              "      height: 32px;\n",
              "      padding: 0 0 0 0;\n",
              "      width: 32px;\n",
              "    }\n",
              "\n",
              "    .colab-df-convert:hover {\n",
              "      background-color: #E2EBFA;\n",
              "      box-shadow: 0px 1px 2px rgba(60, 64, 67, 0.3), 0px 1px 3px 1px rgba(60, 64, 67, 0.15);\n",
              "      fill: #174EA6;\n",
              "    }\n",
              "\n",
              "    [theme=dark] .colab-df-convert {\n",
              "      background-color: #3B4455;\n",
              "      fill: #D2E3FC;\n",
              "    }\n",
              "\n",
              "    [theme=dark] .colab-df-convert:hover {\n",
              "      background-color: #434B5C;\n",
              "      box-shadow: 0px 1px 3px 1px rgba(0, 0, 0, 0.15);\n",
              "      filter: drop-shadow(0px 1px 2px rgba(0, 0, 0, 0.3));\n",
              "      fill: #FFFFFF;\n",
              "    }\n",
              "  </style>\n",
              "\n",
              "      <script>\n",
              "        const buttonEl =\n",
              "          document.querySelector('#df-10a234c4-9a7a-46b3-bc79-a70e3117377d button.colab-df-convert');\n",
              "        buttonEl.style.display =\n",
              "          google.colab.kernel.accessAllowed ? 'block' : 'none';\n",
              "\n",
              "        async function convertToInteractive(key) {\n",
              "          const element = document.querySelector('#df-10a234c4-9a7a-46b3-bc79-a70e3117377d');\n",
              "          const dataTable =\n",
              "            await google.colab.kernel.invokeFunction('convertToInteractive',\n",
              "                                                     [key], {});\n",
              "          if (!dataTable) return;\n",
              "\n",
              "          const docLinkHtml = 'Like what you see? Visit the ' +\n",
              "            '<a target=\"_blank\" href=https://colab.research.google.com/notebooks/data_table.ipynb>data table notebook</a>'\n",
              "            + ' to learn more about interactive tables.';\n",
              "          element.innerHTML = '';\n",
              "          dataTable['output_type'] = 'display_data';\n",
              "          await google.colab.output.renderOutput(dataTable, element);\n",
              "          const docLink = document.createElement('div');\n",
              "          docLink.innerHTML = docLinkHtml;\n",
              "          element.appendChild(docLink);\n",
              "        }\n",
              "      </script>\n",
              "    </div>\n",
              "  </div>\n",
              "  "
            ]
          },
          "metadata": {},
          "execution_count": 44
        }
      ]
    },
    {
      "cell_type": "markdown",
      "metadata": {
        "id": "Ln6Bevketrdp"
      },
      "source": [
        "Hacemos una inspección de la columna 'date_added' para determinar el formato de la columna"
      ]
    },
    {
      "cell_type": "markdown",
      "metadata": {
        "id": "W4EWxZdVtrdq"
      },
      "source": [
        "Modificamos el tipo de dato de la columna 'date_added'"
      ]
    },
    {
      "cell_type": "code",
      "execution_count": null,
      "metadata": {
        "id": "dyFIJAKztrdq"
      },
      "outputs": [],
      "source": [
        "dfservicios['date_added'] = pd.to_datetime(dfservicios['date_added'])"
      ]
    },
    {
      "cell_type": "code",
      "execution_count": null,
      "metadata": {
        "colab": {
          "base_uri": "https://localhost:8080/",
          "height": 337
        },
        "id": "0x5PD_yutrdq",
        "outputId": "2400d73e-787d-4e5b-a312-37b6c61f67e5"
      },
      "outputs": [
        {
          "output_type": "execute_result",
          "data": {
            "text/plain": [
              "    id show_id platform   type                 title        director  \\\n",
              "0  as1      s1   amazon  movie   the grand seduction    don mckellar   \n",
              "1  as2      s2   amazon  movie  take care good night    girish joshi   \n",
              "2  as3      s3   amazon  movie  secrets of deception     josh webber   \n",
              "3  as4      s4   amazon  movie    pink: staying true  sonia anderson   \n",
              "4  as5      s5   amazon  movie         monster maker    giles foster   \n",
              "\n",
              "                                                cast         country  \\\n",
              "0     brendan gleeson, taylor kitsch, gordon pinsent          canada   \n",
              "1   mahesh manjrekar, abhay mahajan, sachin khedekar           india   \n",
              "2  tom sizemore, lorenzo lamas, robert lasardo, r...   united states   \n",
              "3  interviews with: pink, adele, beyoncé, britney...   united states   \n",
              "4  harry dean stanton, kieran o'brien, george cos...  united kingdom   \n",
              "\n",
              "  date_added  year rating duration                listed_in  \\\n",
              "0 2021-03-30  2014      g  113 min            comedy, drama   \n",
              "1 2021-03-30  2018    13+  110 min     drama, international   \n",
              "2 2021-03-30  2017      g   74 min  action, drama, suspense   \n",
              "3 2021-03-30  2014      g   69 min              documentary   \n",
              "4 2021-03-30  1989      g   45 min           drama, fantasy   \n",
              "\n",
              "                                         description  \n",
              "0  a small fishing village must procure a local d...  \n",
              "1  a metro family decides to fight a cyber crimin...  \n",
              "2  after a man discovers his wife is cheating on ...  \n",
              "3  pink breaks the mold once again, bringing her ...  \n",
              "4  teenage matt banting wants to work with a famo...  "
            ],
            "text/html": [
              "\n",
              "  <div id=\"df-57902943-10fe-4887-a590-eb8bcfd8bd56\">\n",
              "    <div class=\"colab-df-container\">\n",
              "      <div>\n",
              "<style scoped>\n",
              "    .dataframe tbody tr th:only-of-type {\n",
              "        vertical-align: middle;\n",
              "    }\n",
              "\n",
              "    .dataframe tbody tr th {\n",
              "        vertical-align: top;\n",
              "    }\n",
              "\n",
              "    .dataframe thead th {\n",
              "        text-align: right;\n",
              "    }\n",
              "</style>\n",
              "<table border=\"1\" class=\"dataframe\">\n",
              "  <thead>\n",
              "    <tr style=\"text-align: right;\">\n",
              "      <th></th>\n",
              "      <th>id</th>\n",
              "      <th>show_id</th>\n",
              "      <th>platform</th>\n",
              "      <th>type</th>\n",
              "      <th>title</th>\n",
              "      <th>director</th>\n",
              "      <th>cast</th>\n",
              "      <th>country</th>\n",
              "      <th>date_added</th>\n",
              "      <th>year</th>\n",
              "      <th>rating</th>\n",
              "      <th>duration</th>\n",
              "      <th>listed_in</th>\n",
              "      <th>description</th>\n",
              "    </tr>\n",
              "  </thead>\n",
              "  <tbody>\n",
              "    <tr>\n",
              "      <th>0</th>\n",
              "      <td>as1</td>\n",
              "      <td>s1</td>\n",
              "      <td>amazon</td>\n",
              "      <td>movie</td>\n",
              "      <td>the grand seduction</td>\n",
              "      <td>don mckellar</td>\n",
              "      <td>brendan gleeson, taylor kitsch, gordon pinsent</td>\n",
              "      <td>canada</td>\n",
              "      <td>2021-03-30</td>\n",
              "      <td>2014</td>\n",
              "      <td>g</td>\n",
              "      <td>113 min</td>\n",
              "      <td>comedy, drama</td>\n",
              "      <td>a small fishing village must procure a local d...</td>\n",
              "    </tr>\n",
              "    <tr>\n",
              "      <th>1</th>\n",
              "      <td>as2</td>\n",
              "      <td>s2</td>\n",
              "      <td>amazon</td>\n",
              "      <td>movie</td>\n",
              "      <td>take care good night</td>\n",
              "      <td>girish joshi</td>\n",
              "      <td>mahesh manjrekar, abhay mahajan, sachin khedekar</td>\n",
              "      <td>india</td>\n",
              "      <td>2021-03-30</td>\n",
              "      <td>2018</td>\n",
              "      <td>13+</td>\n",
              "      <td>110 min</td>\n",
              "      <td>drama, international</td>\n",
              "      <td>a metro family decides to fight a cyber crimin...</td>\n",
              "    </tr>\n",
              "    <tr>\n",
              "      <th>2</th>\n",
              "      <td>as3</td>\n",
              "      <td>s3</td>\n",
              "      <td>amazon</td>\n",
              "      <td>movie</td>\n",
              "      <td>secrets of deception</td>\n",
              "      <td>josh webber</td>\n",
              "      <td>tom sizemore, lorenzo lamas, robert lasardo, r...</td>\n",
              "      <td>united states</td>\n",
              "      <td>2021-03-30</td>\n",
              "      <td>2017</td>\n",
              "      <td>g</td>\n",
              "      <td>74 min</td>\n",
              "      <td>action, drama, suspense</td>\n",
              "      <td>after a man discovers his wife is cheating on ...</td>\n",
              "    </tr>\n",
              "    <tr>\n",
              "      <th>3</th>\n",
              "      <td>as4</td>\n",
              "      <td>s4</td>\n",
              "      <td>amazon</td>\n",
              "      <td>movie</td>\n",
              "      <td>pink: staying true</td>\n",
              "      <td>sonia anderson</td>\n",
              "      <td>interviews with: pink, adele, beyoncé, britney...</td>\n",
              "      <td>united states</td>\n",
              "      <td>2021-03-30</td>\n",
              "      <td>2014</td>\n",
              "      <td>g</td>\n",
              "      <td>69 min</td>\n",
              "      <td>documentary</td>\n",
              "      <td>pink breaks the mold once again, bringing her ...</td>\n",
              "    </tr>\n",
              "    <tr>\n",
              "      <th>4</th>\n",
              "      <td>as5</td>\n",
              "      <td>s5</td>\n",
              "      <td>amazon</td>\n",
              "      <td>movie</td>\n",
              "      <td>monster maker</td>\n",
              "      <td>giles foster</td>\n",
              "      <td>harry dean stanton, kieran o'brien, george cos...</td>\n",
              "      <td>united kingdom</td>\n",
              "      <td>2021-03-30</td>\n",
              "      <td>1989</td>\n",
              "      <td>g</td>\n",
              "      <td>45 min</td>\n",
              "      <td>drama, fantasy</td>\n",
              "      <td>teenage matt banting wants to work with a famo...</td>\n",
              "    </tr>\n",
              "  </tbody>\n",
              "</table>\n",
              "</div>\n",
              "      <button class=\"colab-df-convert\" onclick=\"convertToInteractive('df-57902943-10fe-4887-a590-eb8bcfd8bd56')\"\n",
              "              title=\"Convert this dataframe to an interactive table.\"\n",
              "              style=\"display:none;\">\n",
              "        \n",
              "  <svg xmlns=\"http://www.w3.org/2000/svg\" height=\"24px\"viewBox=\"0 0 24 24\"\n",
              "       width=\"24px\">\n",
              "    <path d=\"M0 0h24v24H0V0z\" fill=\"none\"/>\n",
              "    <path d=\"M18.56 5.44l.94 2.06.94-2.06 2.06-.94-2.06-.94-.94-2.06-.94 2.06-2.06.94zm-11 1L8.5 8.5l.94-2.06 2.06-.94-2.06-.94L8.5 2.5l-.94 2.06-2.06.94zm10 10l.94 2.06.94-2.06 2.06-.94-2.06-.94-.94-2.06-.94 2.06-2.06.94z\"/><path d=\"M17.41 7.96l-1.37-1.37c-.4-.4-.92-.59-1.43-.59-.52 0-1.04.2-1.43.59L10.3 9.45l-7.72 7.72c-.78.78-.78 2.05 0 2.83L4 21.41c.39.39.9.59 1.41.59.51 0 1.02-.2 1.41-.59l7.78-7.78 2.81-2.81c.8-.78.8-2.07 0-2.86zM5.41 20L4 18.59l7.72-7.72 1.47 1.35L5.41 20z\"/>\n",
              "  </svg>\n",
              "      </button>\n",
              "      \n",
              "  <style>\n",
              "    .colab-df-container {\n",
              "      display:flex;\n",
              "      flex-wrap:wrap;\n",
              "      gap: 12px;\n",
              "    }\n",
              "\n",
              "    .colab-df-convert {\n",
              "      background-color: #E8F0FE;\n",
              "      border: none;\n",
              "      border-radius: 50%;\n",
              "      cursor: pointer;\n",
              "      display: none;\n",
              "      fill: #1967D2;\n",
              "      height: 32px;\n",
              "      padding: 0 0 0 0;\n",
              "      width: 32px;\n",
              "    }\n",
              "\n",
              "    .colab-df-convert:hover {\n",
              "      background-color: #E2EBFA;\n",
              "      box-shadow: 0px 1px 2px rgba(60, 64, 67, 0.3), 0px 1px 3px 1px rgba(60, 64, 67, 0.15);\n",
              "      fill: #174EA6;\n",
              "    }\n",
              "\n",
              "    [theme=dark] .colab-df-convert {\n",
              "      background-color: #3B4455;\n",
              "      fill: #D2E3FC;\n",
              "    }\n",
              "\n",
              "    [theme=dark] .colab-df-convert:hover {\n",
              "      background-color: #434B5C;\n",
              "      box-shadow: 0px 1px 3px 1px rgba(0, 0, 0, 0.15);\n",
              "      filter: drop-shadow(0px 1px 2px rgba(0, 0, 0, 0.3));\n",
              "      fill: #FFFFFF;\n",
              "    }\n",
              "  </style>\n",
              "\n",
              "      <script>\n",
              "        const buttonEl =\n",
              "          document.querySelector('#df-57902943-10fe-4887-a590-eb8bcfd8bd56 button.colab-df-convert');\n",
              "        buttonEl.style.display =\n",
              "          google.colab.kernel.accessAllowed ? 'block' : 'none';\n",
              "\n",
              "        async function convertToInteractive(key) {\n",
              "          const element = document.querySelector('#df-57902943-10fe-4887-a590-eb8bcfd8bd56');\n",
              "          const dataTable =\n",
              "            await google.colab.kernel.invokeFunction('convertToInteractive',\n",
              "                                                     [key], {});\n",
              "          if (!dataTable) return;\n",
              "\n",
              "          const docLinkHtml = 'Like what you see? Visit the ' +\n",
              "            '<a target=\"_blank\" href=https://colab.research.google.com/notebooks/data_table.ipynb>data table notebook</a>'\n",
              "            + ' to learn more about interactive tables.';\n",
              "          element.innerHTML = '';\n",
              "          dataTable['output_type'] = 'display_data';\n",
              "          await google.colab.output.renderOutput(dataTable, element);\n",
              "          const docLink = document.createElement('div');\n",
              "          docLink.innerHTML = docLinkHtml;\n",
              "          element.appendChild(docLink);\n",
              "        }\n",
              "      </script>\n",
              "    </div>\n",
              "  </div>\n",
              "  "
            ]
          },
          "metadata": {},
          "execution_count": 47
        }
      ],
      "source": [
        "dfservicios.head()"
      ]
    },
    {
      "cell_type": "markdown",
      "metadata": {
        "id": "2dKWRk_Wtrdq"
      },
      "source": [
        "Dvididimos la columna duration para convertirlo en dos campos: duration_int y duration_type.\n",
        "duration_int será un integer\n",
        "duration_type sera string indicando la unidad de medición de duración: min (minutos) o season (temporadas)"
      ]
    },
    {
      "cell_type": "code",
      "execution_count": null,
      "metadata": {
        "id": "UOCr6lyktrdq"
      },
      "outputs": [],
      "source": [
        "dfservicios[['duration_int', 'duration_type']] = dfservicios['duration'].str.split(' ', 1, expand=True)\n"
      ]
    },
    {
      "cell_type": "markdown",
      "metadata": {
        "id": "oeb9OdKptrdr"
      },
      "source": [
        "Hacemos un conteo de valores únicos dentro de la columna 'duration_int'"
      ]
    },
    {
      "cell_type": "code",
      "execution_count": null,
      "metadata": {
        "colab": {
          "base_uri": "https://localhost:8080/"
        },
        "id": "sxVBkmgZtrdr",
        "outputId": "d6171085-b88a-4be0-8064-d3d1dab163d6"
      },
      "outputs": [
        {
          "output_type": "execute_result",
          "data": {
            "text/plain": [
              "<bound method Series.unique of 0        113\n",
              "1        110\n",
              "2         74\n",
              "3         69\n",
              "4         45\n",
              "        ... \n",
              "22993    158\n",
              "22994      2\n",
              "22995     88\n",
              "22996     88\n",
              "22997    111\n",
              "Name: duration_int, Length: 22998, dtype: object>"
            ]
          },
          "metadata": {},
          "execution_count": 49
        }
      ],
      "source": [
        "dfservicios['duration_int'].unique"
      ]
    },
    {
      "cell_type": "markdown",
      "metadata": {
        "id": "s2VKmCrLtrdw"
      },
      "source": [
        "Debemos rellenar los valores nulos con 0 en la columna 'duration_int' para poder cambiar el tipo de dato a int"
      ]
    },
    {
      "cell_type": "code",
      "execution_count": null,
      "metadata": {
        "id": "nQoffKpttrdw"
      },
      "outputs": [],
      "source": [
        "\n",
        "dfservicios['duration_int'] = dfservicios['duration_int'].fillna(0)"
      ]
    },
    {
      "cell_type": "markdown",
      "metadata": {
        "id": "umuge5TKtrdw"
      },
      "source": [
        "Ahora cambiamos en la  columna 'duration_int' el tipo de dato a int"
      ]
    },
    {
      "cell_type": "code",
      "execution_count": null,
      "metadata": {
        "id": "UQ1RKZdqtrdw"
      },
      "outputs": [],
      "source": [
        "dfservicios['duration_int'] = dfservicios['duration_int'].astype(int)"
      ]
    },
    {
      "cell_type": "markdown",
      "metadata": {
        "id": "sUC-hi-Ltrdw"
      },
      "source": [
        "Revisamos los tipos de valores para columna"
      ]
    },
    {
      "cell_type": "code",
      "execution_count": null,
      "metadata": {
        "colab": {
          "base_uri": "https://localhost:8080/"
        },
        "id": "Dl86rbSFtrdw",
        "outputId": "8de76171-4b9b-4009-9fe2-6bbe077a0ce5"
      },
      "outputs": [
        {
          "output_type": "stream",
          "name": "stdout",
          "text": [
            "id                       object\n",
            "show_id                  object\n",
            "platform                 object\n",
            "type                     object\n",
            "title                    object\n",
            "director                 object\n",
            "cast                     object\n",
            "country                  object\n",
            "date_added       datetime64[ns]\n",
            "year                      int64\n",
            "rating                   object\n",
            "duration                 object\n",
            "listed_in                object\n",
            "description              object\n",
            "duration_int              int64\n",
            "duration_type            object\n",
            "dtype: object\n"
          ]
        }
      ],
      "source": [
        "print(dfservicios.dtypes)"
      ]
    },
    {
      "cell_type": "code",
      "execution_count": null,
      "metadata": {
        "colab": {
          "base_uri": "https://localhost:8080/"
        },
        "id": "BL72Ctdftrdx",
        "outputId": "c4facd84-f0cf-4803-d6d8-726bfe929901"
      },
      "outputs": [
        {
          "output_type": "execute_result",
          "data": {
            "text/plain": [
              "<bound method Series.unique of 0        113\n",
              "1        110\n",
              "2         74\n",
              "3         69\n",
              "4         45\n",
              "        ... \n",
              "22993    158\n",
              "22994      2\n",
              "22995     88\n",
              "22996     88\n",
              "22997    111\n",
              "Name: duration_int, Length: 22998, dtype: int64>"
            ]
          },
          "metadata": {},
          "execution_count": 53
        }
      ],
      "source": [
        "dfservicios['duration_int'].unique"
      ]
    },
    {
      "cell_type": "markdown",
      "source": [
        "Reemplazamos en la columna 'duration_type' el valor seasons por season"
      ],
      "metadata": {
        "id": "COfaX1cyBBwK"
      }
    },
    {
      "cell_type": "code",
      "source": [
        "dfservicios['duration_type']=dfservicios['duration_type'].replace('seasons', 'season')"
      ],
      "metadata": {
        "id": "oITmJFDd_458"
      },
      "execution_count": null,
      "outputs": []
    },
    {
      "cell_type": "markdown",
      "source": [
        "Eliminamos espacios"
      ],
      "metadata": {
        "id": "gsPkuPS9BLom"
      }
    },
    {
      "cell_type": "code",
      "source": [
        "dfservicios['duration_type'] = dfservicios['duration_type'].str.strip()"
      ],
      "metadata": {
        "id": "NWDn1DTGAQHZ"
      },
      "execution_count": null,
      "outputs": []
    },
    {
      "cell_type": "markdown",
      "source": [
        "Verificamos la transformación"
      ],
      "metadata": {
        "id": "bMC2bGRmBN0a"
      }
    },
    {
      "cell_type": "code",
      "source": [
        "dfservicios['duration_type'].unique()"
      ],
      "metadata": {
        "colab": {
          "base_uri": "https://localhost:8080/"
        },
        "id": "6mnjCaudAYLS",
        "outputId": "ead0a9cc-3450-4ea5-a219-1f40d65783d8"
      },
      "execution_count": null,
      "outputs": [
        {
          "output_type": "execute_result",
          "data": {
            "text/plain": [
              "array(['min', 'season', nan], dtype=object)"
            ]
          },
          "metadata": {},
          "execution_count": 56
        }
      ]
    },
    {
      "cell_type": "code",
      "source": [
        "dfservicios.sample(5)"
      ],
      "metadata": {
        "colab": {
          "base_uri": "https://localhost:8080/",
          "height": 441
        },
        "id": "u_aLyFKJpqNM",
        "outputId": "e07dbb97-d8dc-40b8-f071-1626d35dcf1c"
      },
      "execution_count": null,
      "outputs": [
        {
          "output_type": "execute_result",
          "data": {
            "text/plain": [
              "           id show_id platform   type                          title  \\\n",
              "16151  ns1961   s1961  netflix  movie                kiss the ground   \n",
              "11229   hs112    s112     hulu  movie            queen of the damned   \n",
              "11974   hs857    s857     hulu  movie                     collective   \n",
              "19362  ns5172   s5172  netflix  movie  deray davis: how to act black   \n",
              "19585  ns5395   s5395  netflix  movie     hans teeuwen: real rancour   \n",
              "\n",
              "                                      director             cast  \\\n",
              "16151  joshua tickell, rebecca harrell tickell  woody harrelson   \n",
              "11229                                      NaN              NaN   \n",
              "11974                                      NaN              NaN   \n",
              "19362                             marcus raboy      deray davis   \n",
              "19585                    doesjka van hoogdalem     hans teeuwen   \n",
              "\n",
              "             country date_added  year rating duration        listed_in  \\\n",
              "16151  united states 2020-09-22  2020   tv-g   85 min    documentaries   \n",
              "11229            NaN 2021-10-01  2002      r  101 min           horror   \n",
              "11974            NaN 2021-03-25  2019      g  114 min    documentaries   \n",
              "19362  united states 2017-11-14  2017  tv-ma   66 min  stand-up comedy   \n",
              "19585    netherlands 2017-07-01  2018  tv-ma   86 min  stand-up comedy   \n",
              "\n",
              "                                             description  duration_int  \\\n",
              "16151  science experts and celebrity activists unpack...            85   \n",
              "11229  after a decades-long slumber, the vampire lest...           101   \n",
              "11974  collective is a gripping, real-time docu-thril...           114   \n",
              "19362  dynamic comic deray davis hits the stage like ...            66   \n",
              "19585  comedian hans teeuwen rebels against political...            86   \n",
              "\n",
              "      duration_type  \n",
              "16151           min  \n",
              "11229           min  \n",
              "11974           min  \n",
              "19362           min  \n",
              "19585           min  "
            ],
            "text/html": [
              "\n",
              "  <div id=\"df-9903f36f-1e3a-4874-b6e1-68a1a060dba2\">\n",
              "    <div class=\"colab-df-container\">\n",
              "      <div>\n",
              "<style scoped>\n",
              "    .dataframe tbody tr th:only-of-type {\n",
              "        vertical-align: middle;\n",
              "    }\n",
              "\n",
              "    .dataframe tbody tr th {\n",
              "        vertical-align: top;\n",
              "    }\n",
              "\n",
              "    .dataframe thead th {\n",
              "        text-align: right;\n",
              "    }\n",
              "</style>\n",
              "<table border=\"1\" class=\"dataframe\">\n",
              "  <thead>\n",
              "    <tr style=\"text-align: right;\">\n",
              "      <th></th>\n",
              "      <th>id</th>\n",
              "      <th>show_id</th>\n",
              "      <th>platform</th>\n",
              "      <th>type</th>\n",
              "      <th>title</th>\n",
              "      <th>director</th>\n",
              "      <th>cast</th>\n",
              "      <th>country</th>\n",
              "      <th>date_added</th>\n",
              "      <th>year</th>\n",
              "      <th>rating</th>\n",
              "      <th>duration</th>\n",
              "      <th>listed_in</th>\n",
              "      <th>description</th>\n",
              "      <th>duration_int</th>\n",
              "      <th>duration_type</th>\n",
              "    </tr>\n",
              "  </thead>\n",
              "  <tbody>\n",
              "    <tr>\n",
              "      <th>16151</th>\n",
              "      <td>ns1961</td>\n",
              "      <td>s1961</td>\n",
              "      <td>netflix</td>\n",
              "      <td>movie</td>\n",
              "      <td>kiss the ground</td>\n",
              "      <td>joshua tickell, rebecca harrell tickell</td>\n",
              "      <td>woody harrelson</td>\n",
              "      <td>united states</td>\n",
              "      <td>2020-09-22</td>\n",
              "      <td>2020</td>\n",
              "      <td>tv-g</td>\n",
              "      <td>85 min</td>\n",
              "      <td>documentaries</td>\n",
              "      <td>science experts and celebrity activists unpack...</td>\n",
              "      <td>85</td>\n",
              "      <td>min</td>\n",
              "    </tr>\n",
              "    <tr>\n",
              "      <th>11229</th>\n",
              "      <td>hs112</td>\n",
              "      <td>s112</td>\n",
              "      <td>hulu</td>\n",
              "      <td>movie</td>\n",
              "      <td>queen of the damned</td>\n",
              "      <td>NaN</td>\n",
              "      <td>NaN</td>\n",
              "      <td>NaN</td>\n",
              "      <td>2021-10-01</td>\n",
              "      <td>2002</td>\n",
              "      <td>r</td>\n",
              "      <td>101 min</td>\n",
              "      <td>horror</td>\n",
              "      <td>after a decades-long slumber, the vampire lest...</td>\n",
              "      <td>101</td>\n",
              "      <td>min</td>\n",
              "    </tr>\n",
              "    <tr>\n",
              "      <th>11974</th>\n",
              "      <td>hs857</td>\n",
              "      <td>s857</td>\n",
              "      <td>hulu</td>\n",
              "      <td>movie</td>\n",
              "      <td>collective</td>\n",
              "      <td>NaN</td>\n",
              "      <td>NaN</td>\n",
              "      <td>NaN</td>\n",
              "      <td>2021-03-25</td>\n",
              "      <td>2019</td>\n",
              "      <td>g</td>\n",
              "      <td>114 min</td>\n",
              "      <td>documentaries</td>\n",
              "      <td>collective is a gripping, real-time docu-thril...</td>\n",
              "      <td>114</td>\n",
              "      <td>min</td>\n",
              "    </tr>\n",
              "    <tr>\n",
              "      <th>19362</th>\n",
              "      <td>ns5172</td>\n",
              "      <td>s5172</td>\n",
              "      <td>netflix</td>\n",
              "      <td>movie</td>\n",
              "      <td>deray davis: how to act black</td>\n",
              "      <td>marcus raboy</td>\n",
              "      <td>deray davis</td>\n",
              "      <td>united states</td>\n",
              "      <td>2017-11-14</td>\n",
              "      <td>2017</td>\n",
              "      <td>tv-ma</td>\n",
              "      <td>66 min</td>\n",
              "      <td>stand-up comedy</td>\n",
              "      <td>dynamic comic deray davis hits the stage like ...</td>\n",
              "      <td>66</td>\n",
              "      <td>min</td>\n",
              "    </tr>\n",
              "    <tr>\n",
              "      <th>19585</th>\n",
              "      <td>ns5395</td>\n",
              "      <td>s5395</td>\n",
              "      <td>netflix</td>\n",
              "      <td>movie</td>\n",
              "      <td>hans teeuwen: real rancour</td>\n",
              "      <td>doesjka van hoogdalem</td>\n",
              "      <td>hans teeuwen</td>\n",
              "      <td>netherlands</td>\n",
              "      <td>2017-07-01</td>\n",
              "      <td>2018</td>\n",
              "      <td>tv-ma</td>\n",
              "      <td>86 min</td>\n",
              "      <td>stand-up comedy</td>\n",
              "      <td>comedian hans teeuwen rebels against political...</td>\n",
              "      <td>86</td>\n",
              "      <td>min</td>\n",
              "    </tr>\n",
              "  </tbody>\n",
              "</table>\n",
              "</div>\n",
              "      <button class=\"colab-df-convert\" onclick=\"convertToInteractive('df-9903f36f-1e3a-4874-b6e1-68a1a060dba2')\"\n",
              "              title=\"Convert this dataframe to an interactive table.\"\n",
              "              style=\"display:none;\">\n",
              "        \n",
              "  <svg xmlns=\"http://www.w3.org/2000/svg\" height=\"24px\"viewBox=\"0 0 24 24\"\n",
              "       width=\"24px\">\n",
              "    <path d=\"M0 0h24v24H0V0z\" fill=\"none\"/>\n",
              "    <path d=\"M18.56 5.44l.94 2.06.94-2.06 2.06-.94-2.06-.94-.94-2.06-.94 2.06-2.06.94zm-11 1L8.5 8.5l.94-2.06 2.06-.94-2.06-.94L8.5 2.5l-.94 2.06-2.06.94zm10 10l.94 2.06.94-2.06 2.06-.94-2.06-.94-.94-2.06-.94 2.06-2.06.94z\"/><path d=\"M17.41 7.96l-1.37-1.37c-.4-.4-.92-.59-1.43-.59-.52 0-1.04.2-1.43.59L10.3 9.45l-7.72 7.72c-.78.78-.78 2.05 0 2.83L4 21.41c.39.39.9.59 1.41.59.51 0 1.02-.2 1.41-.59l7.78-7.78 2.81-2.81c.8-.78.8-2.07 0-2.86zM5.41 20L4 18.59l7.72-7.72 1.47 1.35L5.41 20z\"/>\n",
              "  </svg>\n",
              "      </button>\n",
              "      \n",
              "  <style>\n",
              "    .colab-df-container {\n",
              "      display:flex;\n",
              "      flex-wrap:wrap;\n",
              "      gap: 12px;\n",
              "    }\n",
              "\n",
              "    .colab-df-convert {\n",
              "      background-color: #E8F0FE;\n",
              "      border: none;\n",
              "      border-radius: 50%;\n",
              "      cursor: pointer;\n",
              "      display: none;\n",
              "      fill: #1967D2;\n",
              "      height: 32px;\n",
              "      padding: 0 0 0 0;\n",
              "      width: 32px;\n",
              "    }\n",
              "\n",
              "    .colab-df-convert:hover {\n",
              "      background-color: #E2EBFA;\n",
              "      box-shadow: 0px 1px 2px rgba(60, 64, 67, 0.3), 0px 1px 3px 1px rgba(60, 64, 67, 0.15);\n",
              "      fill: #174EA6;\n",
              "    }\n",
              "\n",
              "    [theme=dark] .colab-df-convert {\n",
              "      background-color: #3B4455;\n",
              "      fill: #D2E3FC;\n",
              "    }\n",
              "\n",
              "    [theme=dark] .colab-df-convert:hover {\n",
              "      background-color: #434B5C;\n",
              "      box-shadow: 0px 1px 3px 1px rgba(0, 0, 0, 0.15);\n",
              "      filter: drop-shadow(0px 1px 2px rgba(0, 0, 0, 0.3));\n",
              "      fill: #FFFFFF;\n",
              "    }\n",
              "  </style>\n",
              "\n",
              "      <script>\n",
              "        const buttonEl =\n",
              "          document.querySelector('#df-9903f36f-1e3a-4874-b6e1-68a1a060dba2 button.colab-df-convert');\n",
              "        buttonEl.style.display =\n",
              "          google.colab.kernel.accessAllowed ? 'block' : 'none';\n",
              "\n",
              "        async function convertToInteractive(key) {\n",
              "          const element = document.querySelector('#df-9903f36f-1e3a-4874-b6e1-68a1a060dba2');\n",
              "          const dataTable =\n",
              "            await google.colab.kernel.invokeFunction('convertToInteractive',\n",
              "                                                     [key], {});\n",
              "          if (!dataTable) return;\n",
              "\n",
              "          const docLinkHtml = 'Like what you see? Visit the ' +\n",
              "            '<a target=\"_blank\" href=https://colab.research.google.com/notebooks/data_table.ipynb>data table notebook</a>'\n",
              "            + ' to learn more about interactive tables.';\n",
              "          element.innerHTML = '';\n",
              "          dataTable['output_type'] = 'display_data';\n",
              "          await google.colab.output.renderOutput(dataTable, element);\n",
              "          const docLink = document.createElement('div');\n",
              "          docLink.innerHTML = docLinkHtml;\n",
              "          element.appendChild(docLink);\n",
              "        }\n",
              "      </script>\n",
              "    </div>\n",
              "  </div>\n",
              "  "
            ]
          },
          "metadata": {},
          "execution_count": 57
        }
      ]
    },
    {
      "cell_type": "markdown",
      "metadata": {
        "id": "kwdSpGMntrdx"
      },
      "source": [
        "##Carga de Dataset de Reviews de clientes"
      ]
    },
    {
      "cell_type": "code",
      "execution_count": null,
      "metadata": {
        "id": "glK0JVHstrdx"
      },
      "outputs": [],
      "source": [
        "df1= pd.read_csv(r'/content/drive/My Drive/etl/ratings/1.csv')\n",
        "df2= pd.read_csv(r'/content/drive/My Drive/etl/ratings/2.csv')\n",
        "df3= pd.read_csv(r'/content/drive/My Drive/etl/ratings/3.csv')\n",
        "df4= pd.read_csv(r'/content/drive/My Drive/etl/ratings/4.csv')\n",
        "df5= pd.read_csv(r'/content/drive/My Drive/etl/ratings/5.csv')\n",
        "df6= pd.read_csv(r'/content/drive/My Drive/etl/ratings/6.csv')\n",
        "df7= pd.read_csv(r'/content/drive/My Drive/etl/ratings/7.csv')\n",
        "df8= pd.read_csv(r'/content/drive/My Drive/etl/ratings/8.csv')"
      ]
    },
    {
      "cell_type": "markdown",
      "metadata": {
        "id": "vtAnBdpNtrdx"
      },
      "source": [
        "Generamos una vista para ver la de cada uno de los dataset importados"
      ]
    },
    {
      "cell_type": "code",
      "execution_count": null,
      "metadata": {
        "colab": {
          "base_uri": "https://localhost:8080/"
        },
        "id": "cM11hqu1trdx",
        "outputId": "9ad7f5d1-6675-48f4-c9b0-11dface0489a"
      },
      "outputs": [
        {
          "output_type": "stream",
          "name": "stdout",
          "text": [
            "Tamaño de df1: (1500000, 4)\n",
            "Tamaño de df2: (1500000, 4)\n",
            "Tamaño de df3: (1500000, 4)\n",
            "Tamaño de df4: (1500000, 4)\n",
            "Tamaño de df5: (1500000, 4)\n",
            "Tamaño de df6: (1500000, 4)\n",
            "Tamaño de df7: (524289, 4)\n",
            "Tamaño de df8: (1500000, 4)\n"
          ]
        }
      ],
      "source": [
        "print('Tamaño de df1:', df1.shape)\n",
        "print('Tamaño de df2:', df2.shape)\n",
        "print('Tamaño de df3:', df3.shape)\n",
        "print('Tamaño de df4:', df4.shape)\n",
        "print('Tamaño de df5:', df5.shape)\n",
        "print('Tamaño de df6:', df6.shape)\n",
        "print('Tamaño de df7:', df7.shape)\n",
        "print('Tamaño de df8:', df8.shape)"
      ]
    },
    {
      "cell_type": "markdown",
      "metadata": {
        "id": "62MzfIb_trdx"
      },
      "source": [
        "Cambiar de mayusculas a minusculas"
      ]
    },
    {
      "cell_type": "code",
      "execution_count": null,
      "metadata": {
        "id": "E222Kd02trdy"
      },
      "outputs": [],
      "source": [
        "\n",
        "df1 = df1.apply(lambda x: x.str.lower() if x.dtype == \"object\" else x)\n",
        "df2 = df2.apply(lambda x: x.str.lower() if x.dtype == \"object\" else x)\n",
        "df3 = df3.apply(lambda x: x.str.lower() if x.dtype == \"object\" else x)\n",
        "df4 = df4.apply(lambda x: x.str.lower() if x.dtype == \"object\" else x)\n",
        "df5 = df5.apply(lambda x: x.str.lower() if x.dtype == \"object\" else x)\n",
        "df6 = df6.apply(lambda x: x.str.lower() if x.dtype == \"object\" else x)\n",
        "df7 = df7.apply(lambda x: x.str.lower() if x.dtype == \"object\" else x)\n",
        "df8 = df8.apply(lambda x: x.str.lower() if x.dtype == \"object\" else x)"
      ]
    },
    {
      "cell_type": "markdown",
      "metadata": {
        "id": "L1W1FoAOtrdy"
      },
      "source": [
        "Se generar una concatenación de los Dataset de Reviews, de ahora en más el resultante sera Reviews"
      ]
    },
    {
      "cell_type": "code",
      "execution_count": null,
      "metadata": {
        "id": "6oKA-GH6trdy"
      },
      "outputs": [],
      "source": [
        "dfreviews = pd.concat([df1, df2, df3,df4,df5,df6,df7,df8],ignore_index=True)"
      ]
    },
    {
      "cell_type": "code",
      "execution_count": null,
      "metadata": {
        "colab": {
          "base_uri": "https://localhost:8080/",
          "height": 206
        },
        "id": "g2Innm7ctrdy",
        "outputId": "250d2d63-12e5-4db0-ede9-88ec12786660"
      },
      "outputs": [
        {
          "output_type": "execute_result",
          "data": {
            "text/plain": [
              "   userId  rating   timestamp movieId\n",
              "0       1     1.0  1425941529   as680\n",
              "1       1     4.5  1425942435  ns2186\n",
              "2       1     5.0  1425941523  hs2381\n",
              "3       1     5.0  1425941546  ns3663\n",
              "4       1     5.0  1425941556  as9500"
            ],
            "text/html": [
              "\n",
              "  <div id=\"df-0202eda6-6c98-4797-b07d-9c4873623e74\">\n",
              "    <div class=\"colab-df-container\">\n",
              "      <div>\n",
              "<style scoped>\n",
              "    .dataframe tbody tr th:only-of-type {\n",
              "        vertical-align: middle;\n",
              "    }\n",
              "\n",
              "    .dataframe tbody tr th {\n",
              "        vertical-align: top;\n",
              "    }\n",
              "\n",
              "    .dataframe thead th {\n",
              "        text-align: right;\n",
              "    }\n",
              "</style>\n",
              "<table border=\"1\" class=\"dataframe\">\n",
              "  <thead>\n",
              "    <tr style=\"text-align: right;\">\n",
              "      <th></th>\n",
              "      <th>userId</th>\n",
              "      <th>rating</th>\n",
              "      <th>timestamp</th>\n",
              "      <th>movieId</th>\n",
              "    </tr>\n",
              "  </thead>\n",
              "  <tbody>\n",
              "    <tr>\n",
              "      <th>0</th>\n",
              "      <td>1</td>\n",
              "      <td>1.0</td>\n",
              "      <td>1425941529</td>\n",
              "      <td>as680</td>\n",
              "    </tr>\n",
              "    <tr>\n",
              "      <th>1</th>\n",
              "      <td>1</td>\n",
              "      <td>4.5</td>\n",
              "      <td>1425942435</td>\n",
              "      <td>ns2186</td>\n",
              "    </tr>\n",
              "    <tr>\n",
              "      <th>2</th>\n",
              "      <td>1</td>\n",
              "      <td>5.0</td>\n",
              "      <td>1425941523</td>\n",
              "      <td>hs2381</td>\n",
              "    </tr>\n",
              "    <tr>\n",
              "      <th>3</th>\n",
              "      <td>1</td>\n",
              "      <td>5.0</td>\n",
              "      <td>1425941546</td>\n",
              "      <td>ns3663</td>\n",
              "    </tr>\n",
              "    <tr>\n",
              "      <th>4</th>\n",
              "      <td>1</td>\n",
              "      <td>5.0</td>\n",
              "      <td>1425941556</td>\n",
              "      <td>as9500</td>\n",
              "    </tr>\n",
              "  </tbody>\n",
              "</table>\n",
              "</div>\n",
              "      <button class=\"colab-df-convert\" onclick=\"convertToInteractive('df-0202eda6-6c98-4797-b07d-9c4873623e74')\"\n",
              "              title=\"Convert this dataframe to an interactive table.\"\n",
              "              style=\"display:none;\">\n",
              "        \n",
              "  <svg xmlns=\"http://www.w3.org/2000/svg\" height=\"24px\"viewBox=\"0 0 24 24\"\n",
              "       width=\"24px\">\n",
              "    <path d=\"M0 0h24v24H0V0z\" fill=\"none\"/>\n",
              "    <path d=\"M18.56 5.44l.94 2.06.94-2.06 2.06-.94-2.06-.94-.94-2.06-.94 2.06-2.06.94zm-11 1L8.5 8.5l.94-2.06 2.06-.94-2.06-.94L8.5 2.5l-.94 2.06-2.06.94zm10 10l.94 2.06.94-2.06 2.06-.94-2.06-.94-.94-2.06-.94 2.06-2.06.94z\"/><path d=\"M17.41 7.96l-1.37-1.37c-.4-.4-.92-.59-1.43-.59-.52 0-1.04.2-1.43.59L10.3 9.45l-7.72 7.72c-.78.78-.78 2.05 0 2.83L4 21.41c.39.39.9.59 1.41.59.51 0 1.02-.2 1.41-.59l7.78-7.78 2.81-2.81c.8-.78.8-2.07 0-2.86zM5.41 20L4 18.59l7.72-7.72 1.47 1.35L5.41 20z\"/>\n",
              "  </svg>\n",
              "      </button>\n",
              "      \n",
              "  <style>\n",
              "    .colab-df-container {\n",
              "      display:flex;\n",
              "      flex-wrap:wrap;\n",
              "      gap: 12px;\n",
              "    }\n",
              "\n",
              "    .colab-df-convert {\n",
              "      background-color: #E8F0FE;\n",
              "      border: none;\n",
              "      border-radius: 50%;\n",
              "      cursor: pointer;\n",
              "      display: none;\n",
              "      fill: #1967D2;\n",
              "      height: 32px;\n",
              "      padding: 0 0 0 0;\n",
              "      width: 32px;\n",
              "    }\n",
              "\n",
              "    .colab-df-convert:hover {\n",
              "      background-color: #E2EBFA;\n",
              "      box-shadow: 0px 1px 2px rgba(60, 64, 67, 0.3), 0px 1px 3px 1px rgba(60, 64, 67, 0.15);\n",
              "      fill: #174EA6;\n",
              "    }\n",
              "\n",
              "    [theme=dark] .colab-df-convert {\n",
              "      background-color: #3B4455;\n",
              "      fill: #D2E3FC;\n",
              "    }\n",
              "\n",
              "    [theme=dark] .colab-df-convert:hover {\n",
              "      background-color: #434B5C;\n",
              "      box-shadow: 0px 1px 3px 1px rgba(0, 0, 0, 0.15);\n",
              "      filter: drop-shadow(0px 1px 2px rgba(0, 0, 0, 0.3));\n",
              "      fill: #FFFFFF;\n",
              "    }\n",
              "  </style>\n",
              "\n",
              "      <script>\n",
              "        const buttonEl =\n",
              "          document.querySelector('#df-0202eda6-6c98-4797-b07d-9c4873623e74 button.colab-df-convert');\n",
              "        buttonEl.style.display =\n",
              "          google.colab.kernel.accessAllowed ? 'block' : 'none';\n",
              "\n",
              "        async function convertToInteractive(key) {\n",
              "          const element = document.querySelector('#df-0202eda6-6c98-4797-b07d-9c4873623e74');\n",
              "          const dataTable =\n",
              "            await google.colab.kernel.invokeFunction('convertToInteractive',\n",
              "                                                     [key], {});\n",
              "          if (!dataTable) return;\n",
              "\n",
              "          const docLinkHtml = 'Like what you see? Visit the ' +\n",
              "            '<a target=\"_blank\" href=https://colab.research.google.com/notebooks/data_table.ipynb>data table notebook</a>'\n",
              "            + ' to learn more about interactive tables.';\n",
              "          element.innerHTML = '';\n",
              "          dataTable['output_type'] = 'display_data';\n",
              "          await google.colab.output.renderOutput(dataTable, element);\n",
              "          const docLink = document.createElement('div');\n",
              "          docLink.innerHTML = docLinkHtml;\n",
              "          element.appendChild(docLink);\n",
              "        }\n",
              "      </script>\n",
              "    </div>\n",
              "  </div>\n",
              "  "
            ]
          },
          "metadata": {},
          "execution_count": 62
        }
      ],
      "source": [
        "dfreviews.head()"
      ]
    },
    {
      "cell_type": "markdown",
      "metadata": {
        "id": "GS10eJiEtrdy"
      },
      "source": [
        "Renombramos la columna 'rating a 'score"
      ]
    },
    {
      "cell_type": "code",
      "execution_count": null,
      "metadata": {
        "colab": {
          "base_uri": "https://localhost:8080/"
        },
        "id": "06HKtMnktrdz",
        "outputId": "e11f8e51-94b8-42ba-c87a-6091cfb341ee"
      },
      "outputs": [
        {
          "output_type": "execute_result",
          "data": {
            "text/plain": [
              "(11024289, 4)"
            ]
          },
          "metadata": {},
          "execution_count": 63
        }
      ],
      "source": [
        "dfreviews.shape"
      ]
    },
    {
      "cell_type": "code",
      "execution_count": null,
      "metadata": {
        "colab": {
          "base_uri": "https://localhost:8080/"
        },
        "id": "7RPUg07ktrdz",
        "outputId": "f0774805-d276-4cd5-a32f-2028bb80353c"
      },
      "outputs": [
        {
          "output_type": "execute_result",
          "data": {
            "text/plain": [
              "array([     1,      2,      3, ..., 124378, 124379, 124380])"
            ]
          },
          "metadata": {},
          "execution_count": 64
        }
      ],
      "source": [
        "dfreviews.userId.unique()"
      ]
    },
    {
      "cell_type": "code",
      "execution_count": null,
      "metadata": {
        "colab": {
          "base_uri": "https://localhost:8080/"
        },
        "id": "bJLzLmQAtrdz",
        "outputId": "a43cdf2b-144c-44a0-d9d4-6bbda8188a0e"
      },
      "outputs": [
        {
          "output_type": "execute_result",
          "data": {
            "text/plain": [
              "Index(['userId', 'rating', 'timestamp', 'movieId'], dtype='object')"
            ]
          },
          "metadata": {},
          "execution_count": 65
        }
      ],
      "source": [
        "dfreviews.columns"
      ]
    },
    {
      "cell_type": "code",
      "execution_count": null,
      "metadata": {
        "id": "BRY1Znh1trdz"
      },
      "outputs": [],
      "source": [
        "dfreviews = dfreviews.rename(columns={'rating': 'score'})"
      ]
    },
    {
      "cell_type": "markdown",
      "metadata": {
        "id": "WFZLYnZ7trdz"
      },
      "source": [
        "Contar la cantidad de valores por grupo de las 2 primeras letras del código dentro de la columna 'movieId'\n",
        "para asegurar que no haya otras siglas iniciales diferentes a las que se necesitan"
      ]
    },
    {
      "cell_type": "code",
      "execution_count": null,
      "metadata": {
        "id": "M3jg6xBgtrdz"
      },
      "outputs": [],
      "source": [
        "\n",
        "dfreviews['grupo2'] = dfreviews['movieId'].apply(lambda x: re.findall('^[a-zA-Z]{2}', x)[0])\n",
        "conteo2 = dfreviews['grupo2'].value_counts()"
      ]
    },
    {
      "cell_type": "markdown",
      "metadata": {
        "id": "lBd_54o_trdz"
      },
      "source": [
        "Revisamos el resultado"
      ]
    },
    {
      "cell_type": "code",
      "execution_count": null,
      "metadata": {
        "colab": {
          "base_uri": "https://localhost:8080/"
        },
        "id": "aXNcL3m9trd0",
        "outputId": "992f1207-9b67-4703-9c3d-8a8fdfd8c608"
      },
      "outputs": [
        {
          "output_type": "stream",
          "name": "stdout",
          "text": [
            "as    4631850\n",
            "ns    4224861\n",
            "hs    1472788\n",
            "ds     694790\n",
            "Name: grupo2, dtype: int64\n"
          ]
        }
      ],
      "source": [
        "print(conteo2)"
      ]
    },
    {
      "cell_type": "markdown",
      "metadata": {
        "id": "2W1GlsuWtrd0"
      },
      "source": [
        "Renombramos la columna 'movieId' con el nombre 'id'"
      ]
    },
    {
      "cell_type": "code",
      "execution_count": null,
      "metadata": {
        "id": "YNnWu6D9trd0"
      },
      "outputs": [],
      "source": [
        "dfreviews = dfreviews.rename(columns={'movieId': 'id'})"
      ]
    },
    {
      "cell_type": "code",
      "execution_count": null,
      "metadata": {
        "colab": {
          "base_uri": "https://localhost:8080/",
          "height": 206
        },
        "id": "xyP3Z1bYtrd0",
        "outputId": "0811b9d0-7274-45eb-c38e-69c63099a9d0"
      },
      "outputs": [
        {
          "output_type": "execute_result",
          "data": {
            "text/plain": [
              "   userId  score   timestamp      id grupo2\n",
              "0       1    1.0  1425941529   as680     as\n",
              "1       1    4.5  1425942435  ns2186     ns\n",
              "2       1    5.0  1425941523  hs2381     hs\n",
              "3       1    5.0  1425941546  ns3663     ns\n",
              "4       1    5.0  1425941556  as9500     as"
            ],
            "text/html": [
              "\n",
              "  <div id=\"df-829c5677-38f0-4cab-a717-66eb63c06528\">\n",
              "    <div class=\"colab-df-container\">\n",
              "      <div>\n",
              "<style scoped>\n",
              "    .dataframe tbody tr th:only-of-type {\n",
              "        vertical-align: middle;\n",
              "    }\n",
              "\n",
              "    .dataframe tbody tr th {\n",
              "        vertical-align: top;\n",
              "    }\n",
              "\n",
              "    .dataframe thead th {\n",
              "        text-align: right;\n",
              "    }\n",
              "</style>\n",
              "<table border=\"1\" class=\"dataframe\">\n",
              "  <thead>\n",
              "    <tr style=\"text-align: right;\">\n",
              "      <th></th>\n",
              "      <th>userId</th>\n",
              "      <th>score</th>\n",
              "      <th>timestamp</th>\n",
              "      <th>id</th>\n",
              "      <th>grupo2</th>\n",
              "    </tr>\n",
              "  </thead>\n",
              "  <tbody>\n",
              "    <tr>\n",
              "      <th>0</th>\n",
              "      <td>1</td>\n",
              "      <td>1.0</td>\n",
              "      <td>1425941529</td>\n",
              "      <td>as680</td>\n",
              "      <td>as</td>\n",
              "    </tr>\n",
              "    <tr>\n",
              "      <th>1</th>\n",
              "      <td>1</td>\n",
              "      <td>4.5</td>\n",
              "      <td>1425942435</td>\n",
              "      <td>ns2186</td>\n",
              "      <td>ns</td>\n",
              "    </tr>\n",
              "    <tr>\n",
              "      <th>2</th>\n",
              "      <td>1</td>\n",
              "      <td>5.0</td>\n",
              "      <td>1425941523</td>\n",
              "      <td>hs2381</td>\n",
              "      <td>hs</td>\n",
              "    </tr>\n",
              "    <tr>\n",
              "      <th>3</th>\n",
              "      <td>1</td>\n",
              "      <td>5.0</td>\n",
              "      <td>1425941546</td>\n",
              "      <td>ns3663</td>\n",
              "      <td>ns</td>\n",
              "    </tr>\n",
              "    <tr>\n",
              "      <th>4</th>\n",
              "      <td>1</td>\n",
              "      <td>5.0</td>\n",
              "      <td>1425941556</td>\n",
              "      <td>as9500</td>\n",
              "      <td>as</td>\n",
              "    </tr>\n",
              "  </tbody>\n",
              "</table>\n",
              "</div>\n",
              "      <button class=\"colab-df-convert\" onclick=\"convertToInteractive('df-829c5677-38f0-4cab-a717-66eb63c06528')\"\n",
              "              title=\"Convert this dataframe to an interactive table.\"\n",
              "              style=\"display:none;\">\n",
              "        \n",
              "  <svg xmlns=\"http://www.w3.org/2000/svg\" height=\"24px\"viewBox=\"0 0 24 24\"\n",
              "       width=\"24px\">\n",
              "    <path d=\"M0 0h24v24H0V0z\" fill=\"none\"/>\n",
              "    <path d=\"M18.56 5.44l.94 2.06.94-2.06 2.06-.94-2.06-.94-.94-2.06-.94 2.06-2.06.94zm-11 1L8.5 8.5l.94-2.06 2.06-.94-2.06-.94L8.5 2.5l-.94 2.06-2.06.94zm10 10l.94 2.06.94-2.06 2.06-.94-2.06-.94-.94-2.06-.94 2.06-2.06.94z\"/><path d=\"M17.41 7.96l-1.37-1.37c-.4-.4-.92-.59-1.43-.59-.52 0-1.04.2-1.43.59L10.3 9.45l-7.72 7.72c-.78.78-.78 2.05 0 2.83L4 21.41c.39.39.9.59 1.41.59.51 0 1.02-.2 1.41-.59l7.78-7.78 2.81-2.81c.8-.78.8-2.07 0-2.86zM5.41 20L4 18.59l7.72-7.72 1.47 1.35L5.41 20z\"/>\n",
              "  </svg>\n",
              "      </button>\n",
              "      \n",
              "  <style>\n",
              "    .colab-df-container {\n",
              "      display:flex;\n",
              "      flex-wrap:wrap;\n",
              "      gap: 12px;\n",
              "    }\n",
              "\n",
              "    .colab-df-convert {\n",
              "      background-color: #E8F0FE;\n",
              "      border: none;\n",
              "      border-radius: 50%;\n",
              "      cursor: pointer;\n",
              "      display: none;\n",
              "      fill: #1967D2;\n",
              "      height: 32px;\n",
              "      padding: 0 0 0 0;\n",
              "      width: 32px;\n",
              "    }\n",
              "\n",
              "    .colab-df-convert:hover {\n",
              "      background-color: #E2EBFA;\n",
              "      box-shadow: 0px 1px 2px rgba(60, 64, 67, 0.3), 0px 1px 3px 1px rgba(60, 64, 67, 0.15);\n",
              "      fill: #174EA6;\n",
              "    }\n",
              "\n",
              "    [theme=dark] .colab-df-convert {\n",
              "      background-color: #3B4455;\n",
              "      fill: #D2E3FC;\n",
              "    }\n",
              "\n",
              "    [theme=dark] .colab-df-convert:hover {\n",
              "      background-color: #434B5C;\n",
              "      box-shadow: 0px 1px 3px 1px rgba(0, 0, 0, 0.15);\n",
              "      filter: drop-shadow(0px 1px 2px rgba(0, 0, 0, 0.3));\n",
              "      fill: #FFFFFF;\n",
              "    }\n",
              "  </style>\n",
              "\n",
              "      <script>\n",
              "        const buttonEl =\n",
              "          document.querySelector('#df-829c5677-38f0-4cab-a717-66eb63c06528 button.colab-df-convert');\n",
              "        buttonEl.style.display =\n",
              "          google.colab.kernel.accessAllowed ? 'block' : 'none';\n",
              "\n",
              "        async function convertToInteractive(key) {\n",
              "          const element = document.querySelector('#df-829c5677-38f0-4cab-a717-66eb63c06528');\n",
              "          const dataTable =\n",
              "            await google.colab.kernel.invokeFunction('convertToInteractive',\n",
              "                                                     [key], {});\n",
              "          if (!dataTable) return;\n",
              "\n",
              "          const docLinkHtml = 'Like what you see? Visit the ' +\n",
              "            '<a target=\"_blank\" href=https://colab.research.google.com/notebooks/data_table.ipynb>data table notebook</a>'\n",
              "            + ' to learn more about interactive tables.';\n",
              "          element.innerHTML = '';\n",
              "          dataTable['output_type'] = 'display_data';\n",
              "          await google.colab.output.renderOutput(dataTable, element);\n",
              "          const docLink = document.createElement('div');\n",
              "          docLink.innerHTML = docLinkHtml;\n",
              "          element.appendChild(docLink);\n",
              "        }\n",
              "      </script>\n",
              "    </div>\n",
              "  </div>\n",
              "  "
            ]
          },
          "metadata": {},
          "execution_count": 70
        }
      ],
      "source": [
        "dfreviews.head()"
      ]
    },
    {
      "cell_type": "markdown",
      "metadata": {
        "id": "LmgMuNHOtrd1"
      },
      "source": [
        "Borramos la columna 'grupo2'"
      ]
    },
    {
      "cell_type": "code",
      "execution_count": null,
      "metadata": {
        "id": "cl-Zz44mtrd1"
      },
      "outputs": [],
      "source": [
        "dfreviews = dfreviews.drop('grupo2', axis=1)"
      ]
    },
    {
      "cell_type": "markdown",
      "source": [
        "Convertirtimos la columna \"timestamp\" a tipo datetime y mostrar solo el día"
      ],
      "metadata": {
        "id": "ApoICLJQl9e6"
      }
    },
    {
      "cell_type": "code",
      "execution_count": null,
      "metadata": {
        "id": "aLXsIPpVtrd1"
      },
      "outputs": [],
      "source": [
        "\n",
        "dfreviews['timestamp'] = pd.to_datetime(dfreviews['timestamp'], unit='s').dt.strftime('%Y-%m-%d')\n",
        "\n",
        "\n",
        "\n"
      ]
    },
    {
      "cell_type": "markdown",
      "metadata": {
        "id": "A9cdLZNptrd1"
      },
      "source": [
        "Convertir la columna \"timestamp\" a tipo datetime"
      ]
    },
    {
      "cell_type": "code",
      "execution_count": null,
      "metadata": {
        "id": "_UY395cdtrd1"
      },
      "outputs": [],
      "source": [
        "dfreviews['timestamp'] = pd.to_datetime(dfreviews['timestamp'])"
      ]
    },
    {
      "cell_type": "markdown",
      "metadata": {
        "id": "TC1PTJl4trd1"
      },
      "source": [
        "Calculamos el promedio de la columna \"score\" para cada elemento único de la columna \"id\""
      ]
    },
    {
      "cell_type": "code",
      "execution_count": null,
      "metadata": {
        "id": "g6iioWQ9trd1"
      },
      "outputs": [],
      "source": [
        "\n",
        "promedio = dfreviews.groupby(\"id\")[\"score\"].mean()\n",
        "promedio_redondeado = promedio.round(2)\n",
        "nuevos_datos = pd.DataFrame({'id': promedio_redondeado.index, 'Scored': promedio_redondeado.values})"
      ]
    },
    {
      "cell_type": "code",
      "execution_count": null,
      "metadata": {
        "colab": {
          "base_uri": "https://localhost:8080/",
          "height": 81
        },
        "id": "UnU4H_9ztrd1",
        "outputId": "21249d2f-6732-4acb-aa88-47dccd17ecce"
      },
      "outputs": [
        {
          "output_type": "execute_result",
          "data": {
            "text/plain": [
              "    id  Scored\n",
              "0  as1    3.47"
            ],
            "text/html": [
              "\n",
              "  <div id=\"df-20e55ba4-146c-48a6-8ae4-d1b56916a755\">\n",
              "    <div class=\"colab-df-container\">\n",
              "      <div>\n",
              "<style scoped>\n",
              "    .dataframe tbody tr th:only-of-type {\n",
              "        vertical-align: middle;\n",
              "    }\n",
              "\n",
              "    .dataframe tbody tr th {\n",
              "        vertical-align: top;\n",
              "    }\n",
              "\n",
              "    .dataframe thead th {\n",
              "        text-align: right;\n",
              "    }\n",
              "</style>\n",
              "<table border=\"1\" class=\"dataframe\">\n",
              "  <thead>\n",
              "    <tr style=\"text-align: right;\">\n",
              "      <th></th>\n",
              "      <th>id</th>\n",
              "      <th>Scored</th>\n",
              "    </tr>\n",
              "  </thead>\n",
              "  <tbody>\n",
              "    <tr>\n",
              "      <th>0</th>\n",
              "      <td>as1</td>\n",
              "      <td>3.47</td>\n",
              "    </tr>\n",
              "  </tbody>\n",
              "</table>\n",
              "</div>\n",
              "      <button class=\"colab-df-convert\" onclick=\"convertToInteractive('df-20e55ba4-146c-48a6-8ae4-d1b56916a755')\"\n",
              "              title=\"Convert this dataframe to an interactive table.\"\n",
              "              style=\"display:none;\">\n",
              "        \n",
              "  <svg xmlns=\"http://www.w3.org/2000/svg\" height=\"24px\"viewBox=\"0 0 24 24\"\n",
              "       width=\"24px\">\n",
              "    <path d=\"M0 0h24v24H0V0z\" fill=\"none\"/>\n",
              "    <path d=\"M18.56 5.44l.94 2.06.94-2.06 2.06-.94-2.06-.94-.94-2.06-.94 2.06-2.06.94zm-11 1L8.5 8.5l.94-2.06 2.06-.94-2.06-.94L8.5 2.5l-.94 2.06-2.06.94zm10 10l.94 2.06.94-2.06 2.06-.94-2.06-.94-.94-2.06-.94 2.06-2.06.94z\"/><path d=\"M17.41 7.96l-1.37-1.37c-.4-.4-.92-.59-1.43-.59-.52 0-1.04.2-1.43.59L10.3 9.45l-7.72 7.72c-.78.78-.78 2.05 0 2.83L4 21.41c.39.39.9.59 1.41.59.51 0 1.02-.2 1.41-.59l7.78-7.78 2.81-2.81c.8-.78.8-2.07 0-2.86zM5.41 20L4 18.59l7.72-7.72 1.47 1.35L5.41 20z\"/>\n",
              "  </svg>\n",
              "      </button>\n",
              "      \n",
              "  <style>\n",
              "    .colab-df-container {\n",
              "      display:flex;\n",
              "      flex-wrap:wrap;\n",
              "      gap: 12px;\n",
              "    }\n",
              "\n",
              "    .colab-df-convert {\n",
              "      background-color: #E8F0FE;\n",
              "      border: none;\n",
              "      border-radius: 50%;\n",
              "      cursor: pointer;\n",
              "      display: none;\n",
              "      fill: #1967D2;\n",
              "      height: 32px;\n",
              "      padding: 0 0 0 0;\n",
              "      width: 32px;\n",
              "    }\n",
              "\n",
              "    .colab-df-convert:hover {\n",
              "      background-color: #E2EBFA;\n",
              "      box-shadow: 0px 1px 2px rgba(60, 64, 67, 0.3), 0px 1px 3px 1px rgba(60, 64, 67, 0.15);\n",
              "      fill: #174EA6;\n",
              "    }\n",
              "\n",
              "    [theme=dark] .colab-df-convert {\n",
              "      background-color: #3B4455;\n",
              "      fill: #D2E3FC;\n",
              "    }\n",
              "\n",
              "    [theme=dark] .colab-df-convert:hover {\n",
              "      background-color: #434B5C;\n",
              "      box-shadow: 0px 1px 3px 1px rgba(0, 0, 0, 0.15);\n",
              "      filter: drop-shadow(0px 1px 2px rgba(0, 0, 0, 0.3));\n",
              "      fill: #FFFFFF;\n",
              "    }\n",
              "  </style>\n",
              "\n",
              "      <script>\n",
              "        const buttonEl =\n",
              "          document.querySelector('#df-20e55ba4-146c-48a6-8ae4-d1b56916a755 button.colab-df-convert');\n",
              "        buttonEl.style.display =\n",
              "          google.colab.kernel.accessAllowed ? 'block' : 'none';\n",
              "\n",
              "        async function convertToInteractive(key) {\n",
              "          const element = document.querySelector('#df-20e55ba4-146c-48a6-8ae4-d1b56916a755');\n",
              "          const dataTable =\n",
              "            await google.colab.kernel.invokeFunction('convertToInteractive',\n",
              "                                                     [key], {});\n",
              "          if (!dataTable) return;\n",
              "\n",
              "          const docLinkHtml = 'Like what you see? Visit the ' +\n",
              "            '<a target=\"_blank\" href=https://colab.research.google.com/notebooks/data_table.ipynb>data table notebook</a>'\n",
              "            + ' to learn more about interactive tables.';\n",
              "          element.innerHTML = '';\n",
              "          dataTable['output_type'] = 'display_data';\n",
              "          await google.colab.output.renderOutput(dataTable, element);\n",
              "          const docLink = document.createElement('div');\n",
              "          docLink.innerHTML = docLinkHtml;\n",
              "          element.appendChild(docLink);\n",
              "        }\n",
              "      </script>\n",
              "    </div>\n",
              "  </div>\n",
              "  "
            ]
          },
          "metadata": {},
          "execution_count": 75
        }
      ],
      "source": [
        "nuevos_datos.head(1)"
      ]
    },
    {
      "cell_type": "markdown",
      "source": [
        "Creamos una columna que contiene el promedio de la columna \"score\" para cada grupo definido por la columna \"id\""
      ],
      "metadata": {
        "id": "m7e5B94jojf9"
      }
    },
    {
      "cell_type": "code",
      "execution_count": null,
      "metadata": {
        "colab": {
          "base_uri": "https://localhost:8080/"
        },
        "id": "vfSnN-I3trd2",
        "outputId": "ed4349d4-7419-4017-bff2-3bd4709c0272"
      },
      "outputs": [
        {
          "output_type": "execute_result",
          "data": {
            "text/plain": [
              "0           3.549127\n",
              "1           3.556886\n",
              "2           3.604124\n",
              "3           3.547085\n",
              "4           3.532158\n",
              "              ...   \n",
              "11024284    3.593275\n",
              "11024285    3.536561\n",
              "11024286    3.454183\n",
              "11024287    3.620278\n",
              "11024288    3.565476\n",
              "Name: score, Length: 11024289, dtype: float64"
            ]
          },
          "metadata": {},
          "execution_count": 76
        }
      ],
      "source": [
        "dfreviews.groupby('id')['score'].transform('mean')"
      ]
    },
    {
      "cell_type": "code",
      "execution_count": null,
      "metadata": {
        "colab": {
          "base_uri": "https://localhost:8080/"
        },
        "id": "gweGRHzPtrd2",
        "outputId": "489e44f7-fa4a-41f6-e38f-edc003b94271"
      },
      "outputs": [
        {
          "output_type": "execute_result",
          "data": {
            "text/plain": [
              "(22998, 2)"
            ]
          },
          "metadata": {},
          "execution_count": 77
        }
      ],
      "source": [
        "nuevos_datos.shape"
      ]
    },
    {
      "cell_type": "code",
      "execution_count": null,
      "metadata": {
        "colab": {
          "base_uri": "https://localhost:8080/",
          "height": 206
        },
        "id": "x2myJmJ2trd2",
        "outputId": "b31b2411-3423-4fd3-b8c2-82bd6257d6bc"
      },
      "outputs": [
        {
          "output_type": "execute_result",
          "data": {
            "text/plain": [
              "       id  Scored\n",
              "0     as1    3.47\n",
              "1    as10    3.44\n",
              "2   as100    3.61\n",
              "3  as1000    3.56\n",
              "4  as1001    3.59"
            ],
            "text/html": [
              "\n",
              "  <div id=\"df-58012a4d-0c83-4c62-8a1b-0b7e8ed9877a\">\n",
              "    <div class=\"colab-df-container\">\n",
              "      <div>\n",
              "<style scoped>\n",
              "    .dataframe tbody tr th:only-of-type {\n",
              "        vertical-align: middle;\n",
              "    }\n",
              "\n",
              "    .dataframe tbody tr th {\n",
              "        vertical-align: top;\n",
              "    }\n",
              "\n",
              "    .dataframe thead th {\n",
              "        text-align: right;\n",
              "    }\n",
              "</style>\n",
              "<table border=\"1\" class=\"dataframe\">\n",
              "  <thead>\n",
              "    <tr style=\"text-align: right;\">\n",
              "      <th></th>\n",
              "      <th>id</th>\n",
              "      <th>Scored</th>\n",
              "    </tr>\n",
              "  </thead>\n",
              "  <tbody>\n",
              "    <tr>\n",
              "      <th>0</th>\n",
              "      <td>as1</td>\n",
              "      <td>3.47</td>\n",
              "    </tr>\n",
              "    <tr>\n",
              "      <th>1</th>\n",
              "      <td>as10</td>\n",
              "      <td>3.44</td>\n",
              "    </tr>\n",
              "    <tr>\n",
              "      <th>2</th>\n",
              "      <td>as100</td>\n",
              "      <td>3.61</td>\n",
              "    </tr>\n",
              "    <tr>\n",
              "      <th>3</th>\n",
              "      <td>as1000</td>\n",
              "      <td>3.56</td>\n",
              "    </tr>\n",
              "    <tr>\n",
              "      <th>4</th>\n",
              "      <td>as1001</td>\n",
              "      <td>3.59</td>\n",
              "    </tr>\n",
              "  </tbody>\n",
              "</table>\n",
              "</div>\n",
              "      <button class=\"colab-df-convert\" onclick=\"convertToInteractive('df-58012a4d-0c83-4c62-8a1b-0b7e8ed9877a')\"\n",
              "              title=\"Convert this dataframe to an interactive table.\"\n",
              "              style=\"display:none;\">\n",
              "        \n",
              "  <svg xmlns=\"http://www.w3.org/2000/svg\" height=\"24px\"viewBox=\"0 0 24 24\"\n",
              "       width=\"24px\">\n",
              "    <path d=\"M0 0h24v24H0V0z\" fill=\"none\"/>\n",
              "    <path d=\"M18.56 5.44l.94 2.06.94-2.06 2.06-.94-2.06-.94-.94-2.06-.94 2.06-2.06.94zm-11 1L8.5 8.5l.94-2.06 2.06-.94-2.06-.94L8.5 2.5l-.94 2.06-2.06.94zm10 10l.94 2.06.94-2.06 2.06-.94-2.06-.94-.94-2.06-.94 2.06-2.06.94z\"/><path d=\"M17.41 7.96l-1.37-1.37c-.4-.4-.92-.59-1.43-.59-.52 0-1.04.2-1.43.59L10.3 9.45l-7.72 7.72c-.78.78-.78 2.05 0 2.83L4 21.41c.39.39.9.59 1.41.59.51 0 1.02-.2 1.41-.59l7.78-7.78 2.81-2.81c.8-.78.8-2.07 0-2.86zM5.41 20L4 18.59l7.72-7.72 1.47 1.35L5.41 20z\"/>\n",
              "  </svg>\n",
              "      </button>\n",
              "      \n",
              "  <style>\n",
              "    .colab-df-container {\n",
              "      display:flex;\n",
              "      flex-wrap:wrap;\n",
              "      gap: 12px;\n",
              "    }\n",
              "\n",
              "    .colab-df-convert {\n",
              "      background-color: #E8F0FE;\n",
              "      border: none;\n",
              "      border-radius: 50%;\n",
              "      cursor: pointer;\n",
              "      display: none;\n",
              "      fill: #1967D2;\n",
              "      height: 32px;\n",
              "      padding: 0 0 0 0;\n",
              "      width: 32px;\n",
              "    }\n",
              "\n",
              "    .colab-df-convert:hover {\n",
              "      background-color: #E2EBFA;\n",
              "      box-shadow: 0px 1px 2px rgba(60, 64, 67, 0.3), 0px 1px 3px 1px rgba(60, 64, 67, 0.15);\n",
              "      fill: #174EA6;\n",
              "    }\n",
              "\n",
              "    [theme=dark] .colab-df-convert {\n",
              "      background-color: #3B4455;\n",
              "      fill: #D2E3FC;\n",
              "    }\n",
              "\n",
              "    [theme=dark] .colab-df-convert:hover {\n",
              "      background-color: #434B5C;\n",
              "      box-shadow: 0px 1px 3px 1px rgba(0, 0, 0, 0.15);\n",
              "      filter: drop-shadow(0px 1px 2px rgba(0, 0, 0, 0.3));\n",
              "      fill: #FFFFFF;\n",
              "    }\n",
              "  </style>\n",
              "\n",
              "      <script>\n",
              "        const buttonEl =\n",
              "          document.querySelector('#df-58012a4d-0c83-4c62-8a1b-0b7e8ed9877a button.colab-df-convert');\n",
              "        buttonEl.style.display =\n",
              "          google.colab.kernel.accessAllowed ? 'block' : 'none';\n",
              "\n",
              "        async function convertToInteractive(key) {\n",
              "          const element = document.querySelector('#df-58012a4d-0c83-4c62-8a1b-0b7e8ed9877a');\n",
              "          const dataTable =\n",
              "            await google.colab.kernel.invokeFunction('convertToInteractive',\n",
              "                                                     [key], {});\n",
              "          if (!dataTable) return;\n",
              "\n",
              "          const docLinkHtml = 'Like what you see? Visit the ' +\n",
              "            '<a target=\"_blank\" href=https://colab.research.google.com/notebooks/data_table.ipynb>data table notebook</a>'\n",
              "            + ' to learn more about interactive tables.';\n",
              "          element.innerHTML = '';\n",
              "          dataTable['output_type'] = 'display_data';\n",
              "          await google.colab.output.renderOutput(dataTable, element);\n",
              "          const docLink = document.createElement('div');\n",
              "          docLink.innerHTML = docLinkHtml;\n",
              "          element.appendChild(docLink);\n",
              "        }\n",
              "      </script>\n",
              "    </div>\n",
              "  </div>\n",
              "  "
            ]
          },
          "metadata": {},
          "execution_count": 78
        }
      ],
      "source": [
        "nuevos_datos.head(5)"
      ]
    },
    {
      "cell_type": "code",
      "execution_count": null,
      "metadata": {
        "colab": {
          "base_uri": "https://localhost:8080/"
        },
        "id": "AVVCxMN1trd2",
        "outputId": "33bb3c55-eb0e-4e58-d0d6-698e94d7d8f9"
      },
      "outputs": [
        {
          "output_type": "execute_result",
          "data": {
            "text/plain": [
              "array([3.47, 3.44, 3.61, 3.56, 3.59, 3.6 , 3.51, 3.48, 3.58, 3.45, 3.5 ,\n",
              "       3.53, 3.41, 3.62, 3.49, 3.52, 3.57, 3.42, 3.54, 3.63, 3.43, 3.64,\n",
              "       3.55, 3.46, 3.65, 3.67, 3.68, 3.66, 3.39, 3.69, 3.7 , 3.4 , 3.35,\n",
              "       3.37, 3.38, 3.71, 3.34, 3.72])"
            ]
          },
          "metadata": {},
          "execution_count": 79
        }
      ],
      "source": [
        "nuevos_datos.Scored.unique()"
      ]
    },
    {
      "cell_type": "code",
      "source": [
        "nuevos_datos.to_parquet('nuevos_datos.parquet')"
      ],
      "metadata": {
        "id": "Pb-DkXjK2AZb"
      },
      "execution_count": null,
      "outputs": []
    },
    {
      "cell_type": "code",
      "execution_count": null,
      "metadata": {
        "colab": {
          "base_uri": "https://localhost:8080/"
        },
        "id": "XTekiSpTtrd2",
        "outputId": "9f9fd46b-4e53-46a4-a549-e38bbd22c699"
      },
      "outputs": [
        {
          "output_type": "execute_result",
          "data": {
            "text/plain": [
              "array([1. , 4.5, 5. , 4. , 3.5, 2.5, 0.5, 3. , 2. , 1.5])"
            ]
          },
          "metadata": {},
          "execution_count": 81
        }
      ],
      "source": [
        "dfreviews.score.unique()"
      ]
    },
    {
      "cell_type": "code",
      "execution_count": null,
      "metadata": {
        "id": "Ib6fuHMWtrd2"
      },
      "outputs": [],
      "source": [
        "df_servicios_final= pd.merge(dfservicios, nuevos_datos, on='id')"
      ]
    },
    {
      "cell_type": "code",
      "execution_count": null,
      "metadata": {
        "colab": {
          "base_uri": "https://localhost:8080/",
          "height": 528
        },
        "id": "bhQf2G05trd3",
        "outputId": "d9c8c41e-afa9-4c98-90c1-2c63e22de5dd"
      },
      "outputs": [
        {
          "output_type": "execute_result",
          "data": {
            "text/plain": [
              "    id show_id platform   type                 title        director  \\\n",
              "0  as1      s1   amazon  movie   the grand seduction    don mckellar   \n",
              "1  as2      s2   amazon  movie  take care good night    girish joshi   \n",
              "2  as3      s3   amazon  movie  secrets of deception     josh webber   \n",
              "3  as4      s4   amazon  movie    pink: staying true  sonia anderson   \n",
              "4  as5      s5   amazon  movie         monster maker    giles foster   \n",
              "\n",
              "                                                cast         country  \\\n",
              "0     brendan gleeson, taylor kitsch, gordon pinsent          canada   \n",
              "1   mahesh manjrekar, abhay mahajan, sachin khedekar           india   \n",
              "2  tom sizemore, lorenzo lamas, robert lasardo, r...   united states   \n",
              "3  interviews with: pink, adele, beyoncé, britney...   united states   \n",
              "4  harry dean stanton, kieran o'brien, george cos...  united kingdom   \n",
              "\n",
              "  date_added  year rating duration                listed_in  \\\n",
              "0 2021-03-30  2014      g  113 min            comedy, drama   \n",
              "1 2021-03-30  2018    13+  110 min     drama, international   \n",
              "2 2021-03-30  2017      g   74 min  action, drama, suspense   \n",
              "3 2021-03-30  2014      g   69 min              documentary   \n",
              "4 2021-03-30  1989      g   45 min           drama, fantasy   \n",
              "\n",
              "                                         description  duration_int  \\\n",
              "0  a small fishing village must procure a local d...           113   \n",
              "1  a metro family decides to fight a cyber crimin...           110   \n",
              "2  after a man discovers his wife is cheating on ...            74   \n",
              "3  pink breaks the mold once again, bringing her ...            69   \n",
              "4  teenage matt banting wants to work with a famo...            45   \n",
              "\n",
              "  duration_type  Scored  \n",
              "0           min    3.47  \n",
              "1           min    3.55  \n",
              "2           min    3.50  \n",
              "3           min    3.54  \n",
              "4           min    3.48  "
            ],
            "text/html": [
              "\n",
              "  <div id=\"df-41dbb241-c06b-4b6b-b939-90ced7b13a6a\">\n",
              "    <div class=\"colab-df-container\">\n",
              "      <div>\n",
              "<style scoped>\n",
              "    .dataframe tbody tr th:only-of-type {\n",
              "        vertical-align: middle;\n",
              "    }\n",
              "\n",
              "    .dataframe tbody tr th {\n",
              "        vertical-align: top;\n",
              "    }\n",
              "\n",
              "    .dataframe thead th {\n",
              "        text-align: right;\n",
              "    }\n",
              "</style>\n",
              "<table border=\"1\" class=\"dataframe\">\n",
              "  <thead>\n",
              "    <tr style=\"text-align: right;\">\n",
              "      <th></th>\n",
              "      <th>id</th>\n",
              "      <th>show_id</th>\n",
              "      <th>platform</th>\n",
              "      <th>type</th>\n",
              "      <th>title</th>\n",
              "      <th>director</th>\n",
              "      <th>cast</th>\n",
              "      <th>country</th>\n",
              "      <th>date_added</th>\n",
              "      <th>year</th>\n",
              "      <th>rating</th>\n",
              "      <th>duration</th>\n",
              "      <th>listed_in</th>\n",
              "      <th>description</th>\n",
              "      <th>duration_int</th>\n",
              "      <th>duration_type</th>\n",
              "      <th>Scored</th>\n",
              "    </tr>\n",
              "  </thead>\n",
              "  <tbody>\n",
              "    <tr>\n",
              "      <th>0</th>\n",
              "      <td>as1</td>\n",
              "      <td>s1</td>\n",
              "      <td>amazon</td>\n",
              "      <td>movie</td>\n",
              "      <td>the grand seduction</td>\n",
              "      <td>don mckellar</td>\n",
              "      <td>brendan gleeson, taylor kitsch, gordon pinsent</td>\n",
              "      <td>canada</td>\n",
              "      <td>2021-03-30</td>\n",
              "      <td>2014</td>\n",
              "      <td>g</td>\n",
              "      <td>113 min</td>\n",
              "      <td>comedy, drama</td>\n",
              "      <td>a small fishing village must procure a local d...</td>\n",
              "      <td>113</td>\n",
              "      <td>min</td>\n",
              "      <td>3.47</td>\n",
              "    </tr>\n",
              "    <tr>\n",
              "      <th>1</th>\n",
              "      <td>as2</td>\n",
              "      <td>s2</td>\n",
              "      <td>amazon</td>\n",
              "      <td>movie</td>\n",
              "      <td>take care good night</td>\n",
              "      <td>girish joshi</td>\n",
              "      <td>mahesh manjrekar, abhay mahajan, sachin khedekar</td>\n",
              "      <td>india</td>\n",
              "      <td>2021-03-30</td>\n",
              "      <td>2018</td>\n",
              "      <td>13+</td>\n",
              "      <td>110 min</td>\n",
              "      <td>drama, international</td>\n",
              "      <td>a metro family decides to fight a cyber crimin...</td>\n",
              "      <td>110</td>\n",
              "      <td>min</td>\n",
              "      <td>3.55</td>\n",
              "    </tr>\n",
              "    <tr>\n",
              "      <th>2</th>\n",
              "      <td>as3</td>\n",
              "      <td>s3</td>\n",
              "      <td>amazon</td>\n",
              "      <td>movie</td>\n",
              "      <td>secrets of deception</td>\n",
              "      <td>josh webber</td>\n",
              "      <td>tom sizemore, lorenzo lamas, robert lasardo, r...</td>\n",
              "      <td>united states</td>\n",
              "      <td>2021-03-30</td>\n",
              "      <td>2017</td>\n",
              "      <td>g</td>\n",
              "      <td>74 min</td>\n",
              "      <td>action, drama, suspense</td>\n",
              "      <td>after a man discovers his wife is cheating on ...</td>\n",
              "      <td>74</td>\n",
              "      <td>min</td>\n",
              "      <td>3.50</td>\n",
              "    </tr>\n",
              "    <tr>\n",
              "      <th>3</th>\n",
              "      <td>as4</td>\n",
              "      <td>s4</td>\n",
              "      <td>amazon</td>\n",
              "      <td>movie</td>\n",
              "      <td>pink: staying true</td>\n",
              "      <td>sonia anderson</td>\n",
              "      <td>interviews with: pink, adele, beyoncé, britney...</td>\n",
              "      <td>united states</td>\n",
              "      <td>2021-03-30</td>\n",
              "      <td>2014</td>\n",
              "      <td>g</td>\n",
              "      <td>69 min</td>\n",
              "      <td>documentary</td>\n",
              "      <td>pink breaks the mold once again, bringing her ...</td>\n",
              "      <td>69</td>\n",
              "      <td>min</td>\n",
              "      <td>3.54</td>\n",
              "    </tr>\n",
              "    <tr>\n",
              "      <th>4</th>\n",
              "      <td>as5</td>\n",
              "      <td>s5</td>\n",
              "      <td>amazon</td>\n",
              "      <td>movie</td>\n",
              "      <td>monster maker</td>\n",
              "      <td>giles foster</td>\n",
              "      <td>harry dean stanton, kieran o'brien, george cos...</td>\n",
              "      <td>united kingdom</td>\n",
              "      <td>2021-03-30</td>\n",
              "      <td>1989</td>\n",
              "      <td>g</td>\n",
              "      <td>45 min</td>\n",
              "      <td>drama, fantasy</td>\n",
              "      <td>teenage matt banting wants to work with a famo...</td>\n",
              "      <td>45</td>\n",
              "      <td>min</td>\n",
              "      <td>3.48</td>\n",
              "    </tr>\n",
              "  </tbody>\n",
              "</table>\n",
              "</div>\n",
              "      <button class=\"colab-df-convert\" onclick=\"convertToInteractive('df-41dbb241-c06b-4b6b-b939-90ced7b13a6a')\"\n",
              "              title=\"Convert this dataframe to an interactive table.\"\n",
              "              style=\"display:none;\">\n",
              "        \n",
              "  <svg xmlns=\"http://www.w3.org/2000/svg\" height=\"24px\"viewBox=\"0 0 24 24\"\n",
              "       width=\"24px\">\n",
              "    <path d=\"M0 0h24v24H0V0z\" fill=\"none\"/>\n",
              "    <path d=\"M18.56 5.44l.94 2.06.94-2.06 2.06-.94-2.06-.94-.94-2.06-.94 2.06-2.06.94zm-11 1L8.5 8.5l.94-2.06 2.06-.94-2.06-.94L8.5 2.5l-.94 2.06-2.06.94zm10 10l.94 2.06.94-2.06 2.06-.94-2.06-.94-.94-2.06-.94 2.06-2.06.94z\"/><path d=\"M17.41 7.96l-1.37-1.37c-.4-.4-.92-.59-1.43-.59-.52 0-1.04.2-1.43.59L10.3 9.45l-7.72 7.72c-.78.78-.78 2.05 0 2.83L4 21.41c.39.39.9.59 1.41.59.51 0 1.02-.2 1.41-.59l7.78-7.78 2.81-2.81c.8-.78.8-2.07 0-2.86zM5.41 20L4 18.59l7.72-7.72 1.47 1.35L5.41 20z\"/>\n",
              "  </svg>\n",
              "      </button>\n",
              "      \n",
              "  <style>\n",
              "    .colab-df-container {\n",
              "      display:flex;\n",
              "      flex-wrap:wrap;\n",
              "      gap: 12px;\n",
              "    }\n",
              "\n",
              "    .colab-df-convert {\n",
              "      background-color: #E8F0FE;\n",
              "      border: none;\n",
              "      border-radius: 50%;\n",
              "      cursor: pointer;\n",
              "      display: none;\n",
              "      fill: #1967D2;\n",
              "      height: 32px;\n",
              "      padding: 0 0 0 0;\n",
              "      width: 32px;\n",
              "    }\n",
              "\n",
              "    .colab-df-convert:hover {\n",
              "      background-color: #E2EBFA;\n",
              "      box-shadow: 0px 1px 2px rgba(60, 64, 67, 0.3), 0px 1px 3px 1px rgba(60, 64, 67, 0.15);\n",
              "      fill: #174EA6;\n",
              "    }\n",
              "\n",
              "    [theme=dark] .colab-df-convert {\n",
              "      background-color: #3B4455;\n",
              "      fill: #D2E3FC;\n",
              "    }\n",
              "\n",
              "    [theme=dark] .colab-df-convert:hover {\n",
              "      background-color: #434B5C;\n",
              "      box-shadow: 0px 1px 3px 1px rgba(0, 0, 0, 0.15);\n",
              "      filter: drop-shadow(0px 1px 2px rgba(0, 0, 0, 0.3));\n",
              "      fill: #FFFFFF;\n",
              "    }\n",
              "  </style>\n",
              "\n",
              "      <script>\n",
              "        const buttonEl =\n",
              "          document.querySelector('#df-41dbb241-c06b-4b6b-b939-90ced7b13a6a button.colab-df-convert');\n",
              "        buttonEl.style.display =\n",
              "          google.colab.kernel.accessAllowed ? 'block' : 'none';\n",
              "\n",
              "        async function convertToInteractive(key) {\n",
              "          const element = document.querySelector('#df-41dbb241-c06b-4b6b-b939-90ced7b13a6a');\n",
              "          const dataTable =\n",
              "            await google.colab.kernel.invokeFunction('convertToInteractive',\n",
              "                                                     [key], {});\n",
              "          if (!dataTable) return;\n",
              "\n",
              "          const docLinkHtml = 'Like what you see? Visit the ' +\n",
              "            '<a target=\"_blank\" href=https://colab.research.google.com/notebooks/data_table.ipynb>data table notebook</a>'\n",
              "            + ' to learn more about interactive tables.';\n",
              "          element.innerHTML = '';\n",
              "          dataTable['output_type'] = 'display_data';\n",
              "          await google.colab.output.renderOutput(dataTable, element);\n",
              "          const docLink = document.createElement('div');\n",
              "          docLink.innerHTML = docLinkHtml;\n",
              "          element.appendChild(docLink);\n",
              "        }\n",
              "      </script>\n",
              "    </div>\n",
              "  </div>\n",
              "  "
            ]
          },
          "metadata": {},
          "execution_count": 83
        }
      ],
      "source": [
        "df_servicios_final.head(5)"
      ]
    },
    {
      "cell_type": "markdown",
      "metadata": {
        "id": "TC4biu3Ytrd3"
      },
      "source": [
        "Revisamos el dataset df_servicios_final que sera el usado dentro de las consultas en fastapi"
      ]
    },
    {
      "cell_type": "code",
      "execution_count": null,
      "metadata": {
        "colab": {
          "base_uri": "https://localhost:8080/"
        },
        "id": "1gzhRGfYtrd3",
        "outputId": "2c8ff383-3e26-4eb4-c271-3813466b4e3e"
      },
      "outputs": [
        {
          "output_type": "execute_result",
          "data": {
            "text/plain": [
              "(22998, 17)"
            ]
          },
          "metadata": {},
          "execution_count": 84
        }
      ],
      "source": [
        "df_servicios_final.shape"
      ]
    },
    {
      "cell_type": "code",
      "execution_count": null,
      "metadata": {
        "colab": {
          "base_uri": "https://localhost:8080/",
          "height": 528
        },
        "id": "603Symbhtrd3",
        "outputId": "c5f15c2e-8c56-4f6c-935f-838546319b19"
      },
      "outputs": [
        {
          "output_type": "execute_result",
          "data": {
            "text/plain": [
              "           id show_id platform     type                            title  \\\n",
              "13414  hs2297   s2297     hulu  tv show         kaguya-sama: love is war   \n",
              "5094   as5095   s5095   amazon    movie                       the buddha   \n",
              "22037  ns7847   s7847  netflix    movie                        red trees   \n",
              "13687  hs2570   s2570     hulu  tv show        pinky, elmyra & the brain   \n",
              "13847  hs2730   s2730     hulu  tv show  boruto: naruto next generations   \n",
              "\n",
              "            director                       cast         country date_added  \\\n",
              "13414            NaN                        NaN             NaN 2019-01-12   \n",
              "5094    david grubin  blair brown, richard gere             NaN        NaT   \n",
              "22037  marina willer          tim piggott-smith  united kingdom 2018-03-24   \n",
              "13687            NaN                        NaN   united states 2018-01-04   \n",
              "13847            NaN                        NaN           japan 2017-04-12   \n",
              "\n",
              "       year rating  duration                            listed_in  \\\n",
              "13414  2019  tv-14  1 season               anime, comedy, romance   \n",
              "5094   2010      g   113 min        documentary, special interest   \n",
              "22037  2017  tv-pg    80 min  documentaries, international movies   \n",
              "13687  1998  tv-y7  1 season                      adventure, kids   \n",
              "13847  2017  tv-ma  1 season             action, adventure, anime   \n",
              "\n",
              "                                             description  duration_int  \\\n",
              "13414  from a good family? check! a good personality?...             1   \n",
              "5094   the story of the life of the buddha, an indian...           113   \n",
              "22037  a documentarian details her jewish family's es...            80   \n",
              "13687  the popular animated characters pinky and the ...             1   \n",
              "13847  the life of the shinobi is beginning to change...             1   \n",
              "\n",
              "      duration_type  Scored  \n",
              "13414        season    3.52  \n",
              "5094            min    3.51  \n",
              "22037           min    3.55  \n",
              "13687        season    3.46  \n",
              "13847        season    3.53  "
            ],
            "text/html": [
              "\n",
              "  <div id=\"df-5339ed0e-437a-43a9-8c93-a819aa5c5aba\">\n",
              "    <div class=\"colab-df-container\">\n",
              "      <div>\n",
              "<style scoped>\n",
              "    .dataframe tbody tr th:only-of-type {\n",
              "        vertical-align: middle;\n",
              "    }\n",
              "\n",
              "    .dataframe tbody tr th {\n",
              "        vertical-align: top;\n",
              "    }\n",
              "\n",
              "    .dataframe thead th {\n",
              "        text-align: right;\n",
              "    }\n",
              "</style>\n",
              "<table border=\"1\" class=\"dataframe\">\n",
              "  <thead>\n",
              "    <tr style=\"text-align: right;\">\n",
              "      <th></th>\n",
              "      <th>id</th>\n",
              "      <th>show_id</th>\n",
              "      <th>platform</th>\n",
              "      <th>type</th>\n",
              "      <th>title</th>\n",
              "      <th>director</th>\n",
              "      <th>cast</th>\n",
              "      <th>country</th>\n",
              "      <th>date_added</th>\n",
              "      <th>year</th>\n",
              "      <th>rating</th>\n",
              "      <th>duration</th>\n",
              "      <th>listed_in</th>\n",
              "      <th>description</th>\n",
              "      <th>duration_int</th>\n",
              "      <th>duration_type</th>\n",
              "      <th>Scored</th>\n",
              "    </tr>\n",
              "  </thead>\n",
              "  <tbody>\n",
              "    <tr>\n",
              "      <th>13414</th>\n",
              "      <td>hs2297</td>\n",
              "      <td>s2297</td>\n",
              "      <td>hulu</td>\n",
              "      <td>tv show</td>\n",
              "      <td>kaguya-sama: love is war</td>\n",
              "      <td>NaN</td>\n",
              "      <td>NaN</td>\n",
              "      <td>NaN</td>\n",
              "      <td>2019-01-12</td>\n",
              "      <td>2019</td>\n",
              "      <td>tv-14</td>\n",
              "      <td>1 season</td>\n",
              "      <td>anime, comedy, romance</td>\n",
              "      <td>from a good family? check! a good personality?...</td>\n",
              "      <td>1</td>\n",
              "      <td>season</td>\n",
              "      <td>3.52</td>\n",
              "    </tr>\n",
              "    <tr>\n",
              "      <th>5094</th>\n",
              "      <td>as5095</td>\n",
              "      <td>s5095</td>\n",
              "      <td>amazon</td>\n",
              "      <td>movie</td>\n",
              "      <td>the buddha</td>\n",
              "      <td>david grubin</td>\n",
              "      <td>blair brown, richard gere</td>\n",
              "      <td>NaN</td>\n",
              "      <td>NaT</td>\n",
              "      <td>2010</td>\n",
              "      <td>g</td>\n",
              "      <td>113 min</td>\n",
              "      <td>documentary, special interest</td>\n",
              "      <td>the story of the life of the buddha, an indian...</td>\n",
              "      <td>113</td>\n",
              "      <td>min</td>\n",
              "      <td>3.51</td>\n",
              "    </tr>\n",
              "    <tr>\n",
              "      <th>22037</th>\n",
              "      <td>ns7847</td>\n",
              "      <td>s7847</td>\n",
              "      <td>netflix</td>\n",
              "      <td>movie</td>\n",
              "      <td>red trees</td>\n",
              "      <td>marina willer</td>\n",
              "      <td>tim piggott-smith</td>\n",
              "      <td>united kingdom</td>\n",
              "      <td>2018-03-24</td>\n",
              "      <td>2017</td>\n",
              "      <td>tv-pg</td>\n",
              "      <td>80 min</td>\n",
              "      <td>documentaries, international movies</td>\n",
              "      <td>a documentarian details her jewish family's es...</td>\n",
              "      <td>80</td>\n",
              "      <td>min</td>\n",
              "      <td>3.55</td>\n",
              "    </tr>\n",
              "    <tr>\n",
              "      <th>13687</th>\n",
              "      <td>hs2570</td>\n",
              "      <td>s2570</td>\n",
              "      <td>hulu</td>\n",
              "      <td>tv show</td>\n",
              "      <td>pinky, elmyra &amp; the brain</td>\n",
              "      <td>NaN</td>\n",
              "      <td>NaN</td>\n",
              "      <td>united states</td>\n",
              "      <td>2018-01-04</td>\n",
              "      <td>1998</td>\n",
              "      <td>tv-y7</td>\n",
              "      <td>1 season</td>\n",
              "      <td>adventure, kids</td>\n",
              "      <td>the popular animated characters pinky and the ...</td>\n",
              "      <td>1</td>\n",
              "      <td>season</td>\n",
              "      <td>3.46</td>\n",
              "    </tr>\n",
              "    <tr>\n",
              "      <th>13847</th>\n",
              "      <td>hs2730</td>\n",
              "      <td>s2730</td>\n",
              "      <td>hulu</td>\n",
              "      <td>tv show</td>\n",
              "      <td>boruto: naruto next generations</td>\n",
              "      <td>NaN</td>\n",
              "      <td>NaN</td>\n",
              "      <td>japan</td>\n",
              "      <td>2017-04-12</td>\n",
              "      <td>2017</td>\n",
              "      <td>tv-ma</td>\n",
              "      <td>1 season</td>\n",
              "      <td>action, adventure, anime</td>\n",
              "      <td>the life of the shinobi is beginning to change...</td>\n",
              "      <td>1</td>\n",
              "      <td>season</td>\n",
              "      <td>3.53</td>\n",
              "    </tr>\n",
              "  </tbody>\n",
              "</table>\n",
              "</div>\n",
              "      <button class=\"colab-df-convert\" onclick=\"convertToInteractive('df-5339ed0e-437a-43a9-8c93-a819aa5c5aba')\"\n",
              "              title=\"Convert this dataframe to an interactive table.\"\n",
              "              style=\"display:none;\">\n",
              "        \n",
              "  <svg xmlns=\"http://www.w3.org/2000/svg\" height=\"24px\"viewBox=\"0 0 24 24\"\n",
              "       width=\"24px\">\n",
              "    <path d=\"M0 0h24v24H0V0z\" fill=\"none\"/>\n",
              "    <path d=\"M18.56 5.44l.94 2.06.94-2.06 2.06-.94-2.06-.94-.94-2.06-.94 2.06-2.06.94zm-11 1L8.5 8.5l.94-2.06 2.06-.94-2.06-.94L8.5 2.5l-.94 2.06-2.06.94zm10 10l.94 2.06.94-2.06 2.06-.94-2.06-.94-.94-2.06-.94 2.06-2.06.94z\"/><path d=\"M17.41 7.96l-1.37-1.37c-.4-.4-.92-.59-1.43-.59-.52 0-1.04.2-1.43.59L10.3 9.45l-7.72 7.72c-.78.78-.78 2.05 0 2.83L4 21.41c.39.39.9.59 1.41.59.51 0 1.02-.2 1.41-.59l7.78-7.78 2.81-2.81c.8-.78.8-2.07 0-2.86zM5.41 20L4 18.59l7.72-7.72 1.47 1.35L5.41 20z\"/>\n",
              "  </svg>\n",
              "      </button>\n",
              "      \n",
              "  <style>\n",
              "    .colab-df-container {\n",
              "      display:flex;\n",
              "      flex-wrap:wrap;\n",
              "      gap: 12px;\n",
              "    }\n",
              "\n",
              "    .colab-df-convert {\n",
              "      background-color: #E8F0FE;\n",
              "      border: none;\n",
              "      border-radius: 50%;\n",
              "      cursor: pointer;\n",
              "      display: none;\n",
              "      fill: #1967D2;\n",
              "      height: 32px;\n",
              "      padding: 0 0 0 0;\n",
              "      width: 32px;\n",
              "    }\n",
              "\n",
              "    .colab-df-convert:hover {\n",
              "      background-color: #E2EBFA;\n",
              "      box-shadow: 0px 1px 2px rgba(60, 64, 67, 0.3), 0px 1px 3px 1px rgba(60, 64, 67, 0.15);\n",
              "      fill: #174EA6;\n",
              "    }\n",
              "\n",
              "    [theme=dark] .colab-df-convert {\n",
              "      background-color: #3B4455;\n",
              "      fill: #D2E3FC;\n",
              "    }\n",
              "\n",
              "    [theme=dark] .colab-df-convert:hover {\n",
              "      background-color: #434B5C;\n",
              "      box-shadow: 0px 1px 3px 1px rgba(0, 0, 0, 0.15);\n",
              "      filter: drop-shadow(0px 1px 2px rgba(0, 0, 0, 0.3));\n",
              "      fill: #FFFFFF;\n",
              "    }\n",
              "  </style>\n",
              "\n",
              "      <script>\n",
              "        const buttonEl =\n",
              "          document.querySelector('#df-5339ed0e-437a-43a9-8c93-a819aa5c5aba button.colab-df-convert');\n",
              "        buttonEl.style.display =\n",
              "          google.colab.kernel.accessAllowed ? 'block' : 'none';\n",
              "\n",
              "        async function convertToInteractive(key) {\n",
              "          const element = document.querySelector('#df-5339ed0e-437a-43a9-8c93-a819aa5c5aba');\n",
              "          const dataTable =\n",
              "            await google.colab.kernel.invokeFunction('convertToInteractive',\n",
              "                                                     [key], {});\n",
              "          if (!dataTable) return;\n",
              "\n",
              "          const docLinkHtml = 'Like what you see? Visit the ' +\n",
              "            '<a target=\"_blank\" href=https://colab.research.google.com/notebooks/data_table.ipynb>data table notebook</a>'\n",
              "            + ' to learn more about interactive tables.';\n",
              "          element.innerHTML = '';\n",
              "          dataTable['output_type'] = 'display_data';\n",
              "          await google.colab.output.renderOutput(dataTable, element);\n",
              "          const docLink = document.createElement('div');\n",
              "          docLink.innerHTML = docLinkHtml;\n",
              "          element.appendChild(docLink);\n",
              "        }\n",
              "      </script>\n",
              "    </div>\n",
              "  </div>\n",
              "  "
            ]
          },
          "metadata": {},
          "execution_count": 85
        }
      ],
      "source": [
        "df_servicios_final.sample(5)"
      ]
    },
    {
      "cell_type": "code",
      "execution_count": null,
      "metadata": {
        "colab": {
          "base_uri": "https://localhost:8080/"
        },
        "id": "YFg2hrYktrd3",
        "outputId": "b507b98d-4b60-49d2-c3b7-407e259d30e9"
      },
      "outputs": [
        {
          "output_type": "execute_result",
          "data": {
            "text/plain": [
              "Index(['id', 'show_id', 'platform', 'type', 'title', 'director', 'cast',\n",
              "       'country', 'date_added', 'year', 'rating', 'duration', 'listed_in',\n",
              "       'description', 'duration_int', 'duration_type', 'Scored'],\n",
              "      dtype='object')"
            ]
          },
          "metadata": {},
          "execution_count": 86
        }
      ],
      "source": [
        "df_servicios_final.columns"
      ]
    },
    {
      "cell_type": "markdown",
      "metadata": {
        "id": "jpendcuEtrd3"
      },
      "source": [
        " Creamos una columna nueva para modificar los valores de la columna 'duration_type'"
      ]
    },
    {
      "cell_type": "code",
      "execution_count": null,
      "metadata": {
        "colab": {
          "base_uri": "https://localhost:8080/"
        },
        "id": "FmbAE410trd4",
        "outputId": "2c31355f-ae9a-4277-a2b7-6ab39c066d43"
      },
      "outputs": [
        {
          "output_type": "stream",
          "name": "stdout",
          "text": [
            "Hay 0 valores duplicados en el conjunto de datos.\n"
          ]
        }
      ],
      "source": [
        "num_duplicados = df_servicios_final.duplicated().sum()\n",
        "print(\"Hay\", num_duplicados, \"valores duplicados en el conjunto de datos.\")"
      ]
    },
    {
      "cell_type": "code",
      "source": [
        "df_servicios_final.sample(5)"
      ],
      "metadata": {
        "colab": {
          "base_uri": "https://localhost:8080/",
          "height": 598
        },
        "id": "mAlZVcE1pc2a",
        "outputId": "2aa3f459-77da-4905-cb31-adfc3aa70bb5"
      },
      "execution_count": null,
      "outputs": [
        {
          "output_type": "execute_result",
          "data": {
            "text/plain": [
              "           id show_id platform     type                      title  \\\n",
              "5418   as5419   s5419   amazon    movie                    monarch   \n",
              "4823   as4824   s4824   amazon    movie                   sprinter   \n",
              "15074   ns884    s884  netflix  tv show       love, death & robots   \n",
              "13655  hs2538   s2538     hulu    movie                   indy 500   \n",
              "17068  ns2878   s2878  netflix  tv show  six windows in the desert   \n",
              "\n",
              "                                                director  \\\n",
              "5418                                          john walsh   \n",
              "4823                                       storm saulter   \n",
              "15074                                                NaN   \n",
              "13655                                                NaN   \n",
              "17068  ali kalthami, meshal aljaser, faris godus, moh...   \n",
              "\n",
              "                                                    cast        country  \\\n",
              "5418   t.p. mckenna, jean marsh, peter miles, james c...            NaN   \n",
              "4823   dale elliott, lorraine toussaint, david alan g...            NaN   \n",
              "15074  topher grace, mary elizabeth winstead, gary co...  united states   \n",
              "13655                                                NaN            NaN   \n",
              "17068  moayad alnefaie, mohammed alhamdan, citi bet b...   saudi arabia   \n",
              "\n",
              "      date_added  year rating   duration  \\\n",
              "5418         NaT  2000    16+     87 min   \n",
              "4823         NaT  2018    13+    112 min   \n",
              "15074 2021-05-14  2021  tv-ma  2 seasons   \n",
              "13655 2018-03-02  2018   tv-g        NaN   \n",
              "17068 2020-02-27  2020  tv-14   1 season   \n",
              "\n",
              "                                               listed_in  \\\n",
              "5418                                               drama   \n",
              "4823                                       drama, sports   \n",
              "15074  tv action & adventure, tv horror, tv sci-fi & ...   \n",
              "13655                                             sports   \n",
              "17068                                           tv shows   \n",
              "\n",
              "                                             description  duration_int  \\\n",
              "5418   an injured king, henry viii, is forced to take...            87   \n",
              "4823   a jamaican teen who is burdened by an unstable...           112   \n",
              "15074  terrifying creatures, wicked surprises and dar...             2   \n",
              "13655  indianapolis 500 on demand: relive all of the ...             0   \n",
              "17068  from a theatre play to the aftermath of a plan...             1   \n",
              "\n",
              "      duration_type  Scored  \n",
              "5418            min    3.55  \n",
              "4823            min    3.55  \n",
              "15074        season    3.56  \n",
              "13655           NaN    3.57  \n",
              "17068        season    3.54  "
            ],
            "text/html": [
              "\n",
              "  <div id=\"df-934d3a2a-073b-4a03-8033-39ab41dc0518\">\n",
              "    <div class=\"colab-df-container\">\n",
              "      <div>\n",
              "<style scoped>\n",
              "    .dataframe tbody tr th:only-of-type {\n",
              "        vertical-align: middle;\n",
              "    }\n",
              "\n",
              "    .dataframe tbody tr th {\n",
              "        vertical-align: top;\n",
              "    }\n",
              "\n",
              "    .dataframe thead th {\n",
              "        text-align: right;\n",
              "    }\n",
              "</style>\n",
              "<table border=\"1\" class=\"dataframe\">\n",
              "  <thead>\n",
              "    <tr style=\"text-align: right;\">\n",
              "      <th></th>\n",
              "      <th>id</th>\n",
              "      <th>show_id</th>\n",
              "      <th>platform</th>\n",
              "      <th>type</th>\n",
              "      <th>title</th>\n",
              "      <th>director</th>\n",
              "      <th>cast</th>\n",
              "      <th>country</th>\n",
              "      <th>date_added</th>\n",
              "      <th>year</th>\n",
              "      <th>rating</th>\n",
              "      <th>duration</th>\n",
              "      <th>listed_in</th>\n",
              "      <th>description</th>\n",
              "      <th>duration_int</th>\n",
              "      <th>duration_type</th>\n",
              "      <th>Scored</th>\n",
              "    </tr>\n",
              "  </thead>\n",
              "  <tbody>\n",
              "    <tr>\n",
              "      <th>5418</th>\n",
              "      <td>as5419</td>\n",
              "      <td>s5419</td>\n",
              "      <td>amazon</td>\n",
              "      <td>movie</td>\n",
              "      <td>monarch</td>\n",
              "      <td>john walsh</td>\n",
              "      <td>t.p. mckenna, jean marsh, peter miles, james c...</td>\n",
              "      <td>NaN</td>\n",
              "      <td>NaT</td>\n",
              "      <td>2000</td>\n",
              "      <td>16+</td>\n",
              "      <td>87 min</td>\n",
              "      <td>drama</td>\n",
              "      <td>an injured king, henry viii, is forced to take...</td>\n",
              "      <td>87</td>\n",
              "      <td>min</td>\n",
              "      <td>3.55</td>\n",
              "    </tr>\n",
              "    <tr>\n",
              "      <th>4823</th>\n",
              "      <td>as4824</td>\n",
              "      <td>s4824</td>\n",
              "      <td>amazon</td>\n",
              "      <td>movie</td>\n",
              "      <td>sprinter</td>\n",
              "      <td>storm saulter</td>\n",
              "      <td>dale elliott, lorraine toussaint, david alan g...</td>\n",
              "      <td>NaN</td>\n",
              "      <td>NaT</td>\n",
              "      <td>2018</td>\n",
              "      <td>13+</td>\n",
              "      <td>112 min</td>\n",
              "      <td>drama, sports</td>\n",
              "      <td>a jamaican teen who is burdened by an unstable...</td>\n",
              "      <td>112</td>\n",
              "      <td>min</td>\n",
              "      <td>3.55</td>\n",
              "    </tr>\n",
              "    <tr>\n",
              "      <th>15074</th>\n",
              "      <td>ns884</td>\n",
              "      <td>s884</td>\n",
              "      <td>netflix</td>\n",
              "      <td>tv show</td>\n",
              "      <td>love, death &amp; robots</td>\n",
              "      <td>NaN</td>\n",
              "      <td>topher grace, mary elizabeth winstead, gary co...</td>\n",
              "      <td>united states</td>\n",
              "      <td>2021-05-14</td>\n",
              "      <td>2021</td>\n",
              "      <td>tv-ma</td>\n",
              "      <td>2 seasons</td>\n",
              "      <td>tv action &amp; adventure, tv horror, tv sci-fi &amp; ...</td>\n",
              "      <td>terrifying creatures, wicked surprises and dar...</td>\n",
              "      <td>2</td>\n",
              "      <td>season</td>\n",
              "      <td>3.56</td>\n",
              "    </tr>\n",
              "    <tr>\n",
              "      <th>13655</th>\n",
              "      <td>hs2538</td>\n",
              "      <td>s2538</td>\n",
              "      <td>hulu</td>\n",
              "      <td>movie</td>\n",
              "      <td>indy 500</td>\n",
              "      <td>NaN</td>\n",
              "      <td>NaN</td>\n",
              "      <td>NaN</td>\n",
              "      <td>2018-03-02</td>\n",
              "      <td>2018</td>\n",
              "      <td>tv-g</td>\n",
              "      <td>NaN</td>\n",
              "      <td>sports</td>\n",
              "      <td>indianapolis 500 on demand: relive all of the ...</td>\n",
              "      <td>0</td>\n",
              "      <td>NaN</td>\n",
              "      <td>3.57</td>\n",
              "    </tr>\n",
              "    <tr>\n",
              "      <th>17068</th>\n",
              "      <td>ns2878</td>\n",
              "      <td>s2878</td>\n",
              "      <td>netflix</td>\n",
              "      <td>tv show</td>\n",
              "      <td>six windows in the desert</td>\n",
              "      <td>ali kalthami, meshal aljaser, faris godus, moh...</td>\n",
              "      <td>moayad alnefaie, mohammed alhamdan, citi bet b...</td>\n",
              "      <td>saudi arabia</td>\n",
              "      <td>2020-02-27</td>\n",
              "      <td>2020</td>\n",
              "      <td>tv-14</td>\n",
              "      <td>1 season</td>\n",
              "      <td>tv shows</td>\n",
              "      <td>from a theatre play to the aftermath of a plan...</td>\n",
              "      <td>1</td>\n",
              "      <td>season</td>\n",
              "      <td>3.54</td>\n",
              "    </tr>\n",
              "  </tbody>\n",
              "</table>\n",
              "</div>\n",
              "      <button class=\"colab-df-convert\" onclick=\"convertToInteractive('df-934d3a2a-073b-4a03-8033-39ab41dc0518')\"\n",
              "              title=\"Convert this dataframe to an interactive table.\"\n",
              "              style=\"display:none;\">\n",
              "        \n",
              "  <svg xmlns=\"http://www.w3.org/2000/svg\" height=\"24px\"viewBox=\"0 0 24 24\"\n",
              "       width=\"24px\">\n",
              "    <path d=\"M0 0h24v24H0V0z\" fill=\"none\"/>\n",
              "    <path d=\"M18.56 5.44l.94 2.06.94-2.06 2.06-.94-2.06-.94-.94-2.06-.94 2.06-2.06.94zm-11 1L8.5 8.5l.94-2.06 2.06-.94-2.06-.94L8.5 2.5l-.94 2.06-2.06.94zm10 10l.94 2.06.94-2.06 2.06-.94-2.06-.94-.94-2.06-.94 2.06-2.06.94z\"/><path d=\"M17.41 7.96l-1.37-1.37c-.4-.4-.92-.59-1.43-.59-.52 0-1.04.2-1.43.59L10.3 9.45l-7.72 7.72c-.78.78-.78 2.05 0 2.83L4 21.41c.39.39.9.59 1.41.59.51 0 1.02-.2 1.41-.59l7.78-7.78 2.81-2.81c.8-.78.8-2.07 0-2.86zM5.41 20L4 18.59l7.72-7.72 1.47 1.35L5.41 20z\"/>\n",
              "  </svg>\n",
              "      </button>\n",
              "      \n",
              "  <style>\n",
              "    .colab-df-container {\n",
              "      display:flex;\n",
              "      flex-wrap:wrap;\n",
              "      gap: 12px;\n",
              "    }\n",
              "\n",
              "    .colab-df-convert {\n",
              "      background-color: #E8F0FE;\n",
              "      border: none;\n",
              "      border-radius: 50%;\n",
              "      cursor: pointer;\n",
              "      display: none;\n",
              "      fill: #1967D2;\n",
              "      height: 32px;\n",
              "      padding: 0 0 0 0;\n",
              "      width: 32px;\n",
              "    }\n",
              "\n",
              "    .colab-df-convert:hover {\n",
              "      background-color: #E2EBFA;\n",
              "      box-shadow: 0px 1px 2px rgba(60, 64, 67, 0.3), 0px 1px 3px 1px rgba(60, 64, 67, 0.15);\n",
              "      fill: #174EA6;\n",
              "    }\n",
              "\n",
              "    [theme=dark] .colab-df-convert {\n",
              "      background-color: #3B4455;\n",
              "      fill: #D2E3FC;\n",
              "    }\n",
              "\n",
              "    [theme=dark] .colab-df-convert:hover {\n",
              "      background-color: #434B5C;\n",
              "      box-shadow: 0px 1px 3px 1px rgba(0, 0, 0, 0.15);\n",
              "      filter: drop-shadow(0px 1px 2px rgba(0, 0, 0, 0.3));\n",
              "      fill: #FFFFFF;\n",
              "    }\n",
              "  </style>\n",
              "\n",
              "      <script>\n",
              "        const buttonEl =\n",
              "          document.querySelector('#df-934d3a2a-073b-4a03-8033-39ab41dc0518 button.colab-df-convert');\n",
              "        buttonEl.style.display =\n",
              "          google.colab.kernel.accessAllowed ? 'block' : 'none';\n",
              "\n",
              "        async function convertToInteractive(key) {\n",
              "          const element = document.querySelector('#df-934d3a2a-073b-4a03-8033-39ab41dc0518');\n",
              "          const dataTable =\n",
              "            await google.colab.kernel.invokeFunction('convertToInteractive',\n",
              "                                                     [key], {});\n",
              "          if (!dataTable) return;\n",
              "\n",
              "          const docLinkHtml = 'Like what you see? Visit the ' +\n",
              "            '<a target=\"_blank\" href=https://colab.research.google.com/notebooks/data_table.ipynb>data table notebook</a>'\n",
              "            + ' to learn more about interactive tables.';\n",
              "          element.innerHTML = '';\n",
              "          dataTable['output_type'] = 'display_data';\n",
              "          await google.colab.output.renderOutput(dataTable, element);\n",
              "          const docLink = document.createElement('div');\n",
              "          docLink.innerHTML = docLinkHtml;\n",
              "          element.appendChild(docLink);\n",
              "        }\n",
              "      </script>\n",
              "    </div>\n",
              "  </div>\n",
              "  "
            ]
          },
          "metadata": {},
          "execution_count": 88
        }
      ]
    },
    {
      "cell_type": "markdown",
      "metadata": {
        "id": "ExLX_E4Btrd4"
      },
      "source": [
        "###Creamos un archivo .csv y un .parket para exportar a la Api, luego tomaremos la decisión de cual utlizar"
      ]
    },
    {
      "cell_type": "code",
      "execution_count": null,
      "metadata": {
        "id": "mhYn2Q4Ctrd4"
      },
      "outputs": [],
      "source": [
        "df_servicios_final.to_csv('df_servicios_final.csv')"
      ]
    },
    {
      "cell_type": "code",
      "source": [
        "df_servicios_final.to_parquet('df_servicios_final.parquet')"
      ],
      "metadata": {
        "id": "ApO_vr8EybDD"
      },
      "execution_count": null,
      "outputs": []
    },
    {
      "cell_type": "markdown",
      "metadata": {
        "id": "GqLkP71Ltrd4"
      },
      "source": [
        "Generamos un merge de el dataset dfreviews con el dataset dfservicios utilizando la columna 'id'"
      ]
    },
    {
      "cell_type": "code",
      "execution_count": null,
      "metadata": {
        "id": "3Ds9iAN_trd4"
      },
      "outputs": [],
      "source": [
        "df_unico= pd.merge(dfreviews,df_servicios_final, on='id')"
      ]
    },
    {
      "cell_type": "code",
      "execution_count": null,
      "metadata": {
        "colab": {
          "base_uri": "https://localhost:8080/"
        },
        "id": "yuBpPX0wtrd5",
        "outputId": "995c9718-7f8f-42b1-97d4-bbb19b35eaf7"
      },
      "outputs": [
        {
          "output_type": "execute_result",
          "data": {
            "text/plain": [
              "(11024289, 20)"
            ]
          },
          "metadata": {},
          "execution_count": 92
        }
      ],
      "source": [
        "df_unico.shape"
      ]
    },
    {
      "cell_type": "code",
      "execution_count": null,
      "metadata": {
        "colab": {
          "base_uri": "https://localhost:8080/",
          "height": 531
        },
        "id": "f8rpOkeutrd5",
        "outputId": "55fdcc1d-045e-4b02-a238-22189aad2c5f"
      },
      "outputs": [
        {
          "output_type": "execute_result",
          "data": {
            "text/plain": [
              "   userId  score  timestamp     id show_id platform     type  \\\n",
              "0       1    1.0 2015-03-09  as680    s680   amazon  tv show   \n",
              "1     583    4.5 2005-04-08  as680    s680   amazon  tv show   \n",
              "2     765    5.0 1998-03-12  as680    s680   amazon  tv show   \n",
              "3    2116    3.0 1996-07-01  as680    s680   amazon  tv show   \n",
              "4    2143    3.0 2015-06-23  as680    s680   amazon  tv show   \n",
              "\n",
              "                   title director           cast country date_added  year  \\\n",
              "0  the english civil war      NaN  robert whelan     NaN        NaT  2019   \n",
              "1  the english civil war      NaN  robert whelan     NaN        NaT  2019   \n",
              "2  the english civil war      NaN  robert whelan     NaN        NaT  2019   \n",
              "3  the english civil war      NaN  robert whelan     NaN        NaT  2019   \n",
              "4  the english civil war      NaN  robert whelan     NaN        NaT  2019   \n",
              "\n",
              "  rating  duration                      listed_in  \\\n",
              "0    13+  1 season  documentary, special interest   \n",
              "1    13+  1 season  documentary, special interest   \n",
              "2    13+  1 season  documentary, special interest   \n",
              "3    13+  1 season  documentary, special interest   \n",
              "4    13+  1 season  documentary, special interest   \n",
              "\n",
              "                                         description  duration_int  \\\n",
              "0  a nation divided. it was a time of great bitte...             1   \n",
              "1  a nation divided. it was a time of great bitte...             1   \n",
              "2  a nation divided. it was a time of great bitte...             1   \n",
              "3  a nation divided. it was a time of great bitte...             1   \n",
              "4  a nation divided. it was a time of great bitte...             1   \n",
              "\n",
              "  duration_type  Scored  \n",
              "0        season    3.55  \n",
              "1        season    3.55  \n",
              "2        season    3.55  \n",
              "3        season    3.55  \n",
              "4        season    3.55  "
            ],
            "text/html": [
              "\n",
              "  <div id=\"df-50c02320-7691-49f1-bd69-27b256466795\">\n",
              "    <div class=\"colab-df-container\">\n",
              "      <div>\n",
              "<style scoped>\n",
              "    .dataframe tbody tr th:only-of-type {\n",
              "        vertical-align: middle;\n",
              "    }\n",
              "\n",
              "    .dataframe tbody tr th {\n",
              "        vertical-align: top;\n",
              "    }\n",
              "\n",
              "    .dataframe thead th {\n",
              "        text-align: right;\n",
              "    }\n",
              "</style>\n",
              "<table border=\"1\" class=\"dataframe\">\n",
              "  <thead>\n",
              "    <tr style=\"text-align: right;\">\n",
              "      <th></th>\n",
              "      <th>userId</th>\n",
              "      <th>score</th>\n",
              "      <th>timestamp</th>\n",
              "      <th>id</th>\n",
              "      <th>show_id</th>\n",
              "      <th>platform</th>\n",
              "      <th>type</th>\n",
              "      <th>title</th>\n",
              "      <th>director</th>\n",
              "      <th>cast</th>\n",
              "      <th>country</th>\n",
              "      <th>date_added</th>\n",
              "      <th>year</th>\n",
              "      <th>rating</th>\n",
              "      <th>duration</th>\n",
              "      <th>listed_in</th>\n",
              "      <th>description</th>\n",
              "      <th>duration_int</th>\n",
              "      <th>duration_type</th>\n",
              "      <th>Scored</th>\n",
              "    </tr>\n",
              "  </thead>\n",
              "  <tbody>\n",
              "    <tr>\n",
              "      <th>0</th>\n",
              "      <td>1</td>\n",
              "      <td>1.0</td>\n",
              "      <td>2015-03-09</td>\n",
              "      <td>as680</td>\n",
              "      <td>s680</td>\n",
              "      <td>amazon</td>\n",
              "      <td>tv show</td>\n",
              "      <td>the english civil war</td>\n",
              "      <td>NaN</td>\n",
              "      <td>robert whelan</td>\n",
              "      <td>NaN</td>\n",
              "      <td>NaT</td>\n",
              "      <td>2019</td>\n",
              "      <td>13+</td>\n",
              "      <td>1 season</td>\n",
              "      <td>documentary, special interest</td>\n",
              "      <td>a nation divided. it was a time of great bitte...</td>\n",
              "      <td>1</td>\n",
              "      <td>season</td>\n",
              "      <td>3.55</td>\n",
              "    </tr>\n",
              "    <tr>\n",
              "      <th>1</th>\n",
              "      <td>583</td>\n",
              "      <td>4.5</td>\n",
              "      <td>2005-04-08</td>\n",
              "      <td>as680</td>\n",
              "      <td>s680</td>\n",
              "      <td>amazon</td>\n",
              "      <td>tv show</td>\n",
              "      <td>the english civil war</td>\n",
              "      <td>NaN</td>\n",
              "      <td>robert whelan</td>\n",
              "      <td>NaN</td>\n",
              "      <td>NaT</td>\n",
              "      <td>2019</td>\n",
              "      <td>13+</td>\n",
              "      <td>1 season</td>\n",
              "      <td>documentary, special interest</td>\n",
              "      <td>a nation divided. it was a time of great bitte...</td>\n",
              "      <td>1</td>\n",
              "      <td>season</td>\n",
              "      <td>3.55</td>\n",
              "    </tr>\n",
              "    <tr>\n",
              "      <th>2</th>\n",
              "      <td>765</td>\n",
              "      <td>5.0</td>\n",
              "      <td>1998-03-12</td>\n",
              "      <td>as680</td>\n",
              "      <td>s680</td>\n",
              "      <td>amazon</td>\n",
              "      <td>tv show</td>\n",
              "      <td>the english civil war</td>\n",
              "      <td>NaN</td>\n",
              "      <td>robert whelan</td>\n",
              "      <td>NaN</td>\n",
              "      <td>NaT</td>\n",
              "      <td>2019</td>\n",
              "      <td>13+</td>\n",
              "      <td>1 season</td>\n",
              "      <td>documentary, special interest</td>\n",
              "      <td>a nation divided. it was a time of great bitte...</td>\n",
              "      <td>1</td>\n",
              "      <td>season</td>\n",
              "      <td>3.55</td>\n",
              "    </tr>\n",
              "    <tr>\n",
              "      <th>3</th>\n",
              "      <td>2116</td>\n",
              "      <td>3.0</td>\n",
              "      <td>1996-07-01</td>\n",
              "      <td>as680</td>\n",
              "      <td>s680</td>\n",
              "      <td>amazon</td>\n",
              "      <td>tv show</td>\n",
              "      <td>the english civil war</td>\n",
              "      <td>NaN</td>\n",
              "      <td>robert whelan</td>\n",
              "      <td>NaN</td>\n",
              "      <td>NaT</td>\n",
              "      <td>2019</td>\n",
              "      <td>13+</td>\n",
              "      <td>1 season</td>\n",
              "      <td>documentary, special interest</td>\n",
              "      <td>a nation divided. it was a time of great bitte...</td>\n",
              "      <td>1</td>\n",
              "      <td>season</td>\n",
              "      <td>3.55</td>\n",
              "    </tr>\n",
              "    <tr>\n",
              "      <th>4</th>\n",
              "      <td>2143</td>\n",
              "      <td>3.0</td>\n",
              "      <td>2015-06-23</td>\n",
              "      <td>as680</td>\n",
              "      <td>s680</td>\n",
              "      <td>amazon</td>\n",
              "      <td>tv show</td>\n",
              "      <td>the english civil war</td>\n",
              "      <td>NaN</td>\n",
              "      <td>robert whelan</td>\n",
              "      <td>NaN</td>\n",
              "      <td>NaT</td>\n",
              "      <td>2019</td>\n",
              "      <td>13+</td>\n",
              "      <td>1 season</td>\n",
              "      <td>documentary, special interest</td>\n",
              "      <td>a nation divided. it was a time of great bitte...</td>\n",
              "      <td>1</td>\n",
              "      <td>season</td>\n",
              "      <td>3.55</td>\n",
              "    </tr>\n",
              "  </tbody>\n",
              "</table>\n",
              "</div>\n",
              "      <button class=\"colab-df-convert\" onclick=\"convertToInteractive('df-50c02320-7691-49f1-bd69-27b256466795')\"\n",
              "              title=\"Convert this dataframe to an interactive table.\"\n",
              "              style=\"display:none;\">\n",
              "        \n",
              "  <svg xmlns=\"http://www.w3.org/2000/svg\" height=\"24px\"viewBox=\"0 0 24 24\"\n",
              "       width=\"24px\">\n",
              "    <path d=\"M0 0h24v24H0V0z\" fill=\"none\"/>\n",
              "    <path d=\"M18.56 5.44l.94 2.06.94-2.06 2.06-.94-2.06-.94-.94-2.06-.94 2.06-2.06.94zm-11 1L8.5 8.5l.94-2.06 2.06-.94-2.06-.94L8.5 2.5l-.94 2.06-2.06.94zm10 10l.94 2.06.94-2.06 2.06-.94-2.06-.94-.94-2.06-.94 2.06-2.06.94z\"/><path d=\"M17.41 7.96l-1.37-1.37c-.4-.4-.92-.59-1.43-.59-.52 0-1.04.2-1.43.59L10.3 9.45l-7.72 7.72c-.78.78-.78 2.05 0 2.83L4 21.41c.39.39.9.59 1.41.59.51 0 1.02-.2 1.41-.59l7.78-7.78 2.81-2.81c.8-.78.8-2.07 0-2.86zM5.41 20L4 18.59l7.72-7.72 1.47 1.35L5.41 20z\"/>\n",
              "  </svg>\n",
              "      </button>\n",
              "      \n",
              "  <style>\n",
              "    .colab-df-container {\n",
              "      display:flex;\n",
              "      flex-wrap:wrap;\n",
              "      gap: 12px;\n",
              "    }\n",
              "\n",
              "    .colab-df-convert {\n",
              "      background-color: #E8F0FE;\n",
              "      border: none;\n",
              "      border-radius: 50%;\n",
              "      cursor: pointer;\n",
              "      display: none;\n",
              "      fill: #1967D2;\n",
              "      height: 32px;\n",
              "      padding: 0 0 0 0;\n",
              "      width: 32px;\n",
              "    }\n",
              "\n",
              "    .colab-df-convert:hover {\n",
              "      background-color: #E2EBFA;\n",
              "      box-shadow: 0px 1px 2px rgba(60, 64, 67, 0.3), 0px 1px 3px 1px rgba(60, 64, 67, 0.15);\n",
              "      fill: #174EA6;\n",
              "    }\n",
              "\n",
              "    [theme=dark] .colab-df-convert {\n",
              "      background-color: #3B4455;\n",
              "      fill: #D2E3FC;\n",
              "    }\n",
              "\n",
              "    [theme=dark] .colab-df-convert:hover {\n",
              "      background-color: #434B5C;\n",
              "      box-shadow: 0px 1px 3px 1px rgba(0, 0, 0, 0.15);\n",
              "      filter: drop-shadow(0px 1px 2px rgba(0, 0, 0, 0.3));\n",
              "      fill: #FFFFFF;\n",
              "    }\n",
              "  </style>\n",
              "\n",
              "      <script>\n",
              "        const buttonEl =\n",
              "          document.querySelector('#df-50c02320-7691-49f1-bd69-27b256466795 button.colab-df-convert');\n",
              "        buttonEl.style.display =\n",
              "          google.colab.kernel.accessAllowed ? 'block' : 'none';\n",
              "\n",
              "        async function convertToInteractive(key) {\n",
              "          const element = document.querySelector('#df-50c02320-7691-49f1-bd69-27b256466795');\n",
              "          const dataTable =\n",
              "            await google.colab.kernel.invokeFunction('convertToInteractive',\n",
              "                                                     [key], {});\n",
              "          if (!dataTable) return;\n",
              "\n",
              "          const docLinkHtml = 'Like what you see? Visit the ' +\n",
              "            '<a target=\"_blank\" href=https://colab.research.google.com/notebooks/data_table.ipynb>data table notebook</a>'\n",
              "            + ' to learn more about interactive tables.';\n",
              "          element.innerHTML = '';\n",
              "          dataTable['output_type'] = 'display_data';\n",
              "          await google.colab.output.renderOutput(dataTable, element);\n",
              "          const docLink = document.createElement('div');\n",
              "          docLink.innerHTML = docLinkHtml;\n",
              "          element.appendChild(docLink);\n",
              "        }\n",
              "      </script>\n",
              "    </div>\n",
              "  </div>\n",
              "  "
            ]
          },
          "metadata": {},
          "execution_count": 93
        }
      ],
      "source": [
        "df_unico.head(5)"
      ]
    },
    {
      "cell_type": "code",
      "execution_count": null,
      "metadata": {
        "colab": {
          "base_uri": "https://localhost:8080/"
        },
        "id": "1TYNUohbtrd5",
        "outputId": "3fe3ac0f-ed7a-49b3-a323-e5f83ebd5231"
      },
      "outputs": [
        {
          "output_type": "stream",
          "name": "stdout",
          "text": [
            "userId                    int64\n",
            "score                   float64\n",
            "timestamp        datetime64[ns]\n",
            "id                       object\n",
            "show_id                  object\n",
            "platform                 object\n",
            "type                     object\n",
            "title                    object\n",
            "director                 object\n",
            "cast                     object\n",
            "country                  object\n",
            "date_added       datetime64[ns]\n",
            "year                      int64\n",
            "rating                   object\n",
            "duration                 object\n",
            "listed_in                object\n",
            "description              object\n",
            "duration_int              int64\n",
            "duration_type            object\n",
            "Scored                  float64\n",
            "dtype: object\n"
          ]
        }
      ],
      "source": [
        "print(df_unico.dtypes)"
      ]
    },
    {
      "cell_type": "markdown",
      "source": [
        "## Creamos un archivo del dataset que utilizaremos en el Eda en el notebook\n",
        "\n",
        "## MLOps_EDA"
      ],
      "metadata": {
        "id": "wIeWonSavlC3"
      }
    },
    {
      "cell_type": "code",
      "source": [
        "df_unico.to_parquet('df_unico.parquet')"
      ],
      "metadata": {
        "id": "BtckF_BfysPS"
      },
      "execution_count": null,
      "outputs": []
    }
  ],
  "metadata": {
    "kernelspec": {
      "display_name": "Python 3",
      "language": "python",
      "name": "python3"
    },
    "language_info": {
      "codemirror_mode": {
        "name": "ipython",
        "version": 3
      },
      "file_extension": ".py",
      "mimetype": "text/x-python",
      "name": "python",
      "nbconvert_exporter": "python",
      "pygments_lexer": "ipython3",
      "version": "3.10.4"
    },
    "orig_nbformat": 4,
    "vscode": {
      "interpreter": {
        "hash": "20b1d378f3421aebd83995c4c5636b19454e7204de0e4f08f6a0f2783d91d106"
      }
    },
    "colab": {
      "provenance": []
    }
  },
  "nbformat": 4,
  "nbformat_minor": 0
}